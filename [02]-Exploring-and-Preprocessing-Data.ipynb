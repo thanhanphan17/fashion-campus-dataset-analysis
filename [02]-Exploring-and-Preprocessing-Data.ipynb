{
 "cells": [
  {
   "cell_type": "markdown",
   "id": "01991a12",
   "metadata": {},
   "source": [
    "# **<center>Exploring and Pre-processing Data Section</center>**"
   ]
  },
  {
   "cell_type": "markdown",
   "id": "37c5655b",
   "metadata": {},
   "source": [
    "## **<center>Table of Contents</center>**\n",
    "\n",
    "00. [Import necessary libraries:](#00.-Import-necessary-libraries:)\n",
    "01. [Exploring Data (row, column, dtypes):](#01.-Exploring-Data-(row,-column,-dtypes):)\n",
    "    1. [How many rows and how many columns?](#01.1.-How-many-rows-and-how-many-columns:)\n",
    "    2. [What is the meaning of each row?](#01.2.-What-is-the-meaning-of-each-row:)\n",
    "    3. [What is the meaning of each column?](#01.3.-What-is-the-meaning-of-each-column)\n",
    "    4. [Is data missing?](#01.4.-Is-data-missing)\n",
    "    5. [Are there duplicated rows?](#01.5.-Are-there-duplicated-rows)\n",
    "    6. [What is the current data type of each column? Are there columns having inappropriate data types?](#01.6.-What-is-the-current-data-type-of-each-column-Are-there-columns-having-inappropriate-data-types)\n",
    "    7. [Columns that exhibit concordance or disparity in terms of data types:](#01.7.-Columns-that-exhibit-concordance-or-disparity-in-terms-of-data-types)\n",
    "        1. [customer table:](#01.7.1.-customer-table:)\n",
    "        2. [product table:](#01.7.2.-product-table:)\n",
    "        3. [transaction table:](#01.7.3.-transaction-table:)\n",
    "    8. [Verify the unique values within each dataset:](#01.8.-Verify-the-unique-values-within-each-dataset:)\n",
    "02. [Pre-processing Data:](#02.-Pre-processing-Data:)\n",
    "    1. [Convert data types:](#02.1.-Convert-data-types:) \n",
    "    2. [Process missing values:](#02.2.-Process-missing-values:)\n",
    "03. [Data Distribution:](#03.-Data-Distribution:)\n",
    "    1. [Numeric columns distribution:](#03.1.-Numeric-columns-distribution:)\n",
    "    2. [Categorical columns distribution:](#03.2.-Categorical-columns-distribution:)"
   ]
  },
  {
   "cell_type": "markdown",
   "id": "a40edc95",
   "metadata": {},
   "source": [
    "## **_00. Import necessary libraries:_**"
   ]
  },
  {
   "cell_type": "code",
   "execution_count": 109,
   "id": "4ec32fb6",
   "metadata": {},
   "outputs": [],
   "source": [
    "import ast\n",
    "import numpy as np\n",
    "import pandas as pd\n",
    "import matplotlib.pyplot as plt\n",
    "import seaborn as sns\n",
    "import re\n",
    "pd.set_option('display.max_columns', None)"
   ]
  },
  {
   "cell_type": "markdown",
   "id": "d89cad95",
   "metadata": {},
   "source": [
    "## **_01. Exploring Data (row, column, dtypes):_**"
   ]
  },
  {
   "cell_type": "markdown",
   "id": "9cb1cd6e",
   "metadata": {},
   "source": [
    "- Chúng ta sẽ thực hiện phân tích cả ba bộ dữ liệu gồm: customer, product và transaction"
   ]
  },
  {
   "cell_type": "code",
   "execution_count": 110,
   "id": "5b5bf274",
   "metadata": {},
   "outputs": [
    {
     "data": {
      "text/html": [
       "<div>\n",
       "<style scoped>\n",
       "    .dataframe tbody tr th:only-of-type {\n",
       "        vertical-align: middle;\n",
       "    }\n",
       "\n",
       "    .dataframe tbody tr th {\n",
       "        vertical-align: top;\n",
       "    }\n",
       "\n",
       "    .dataframe thead th {\n",
       "        text-align: right;\n",
       "    }\n",
       "</style>\n",
       "<table border=\"1\" class=\"dataframe\">\n",
       "  <thead>\n",
       "    <tr style=\"text-align: right;\">\n",
       "      <th></th>\n",
       "      <th>customer_id</th>\n",
       "      <th>first_name</th>\n",
       "      <th>last_name</th>\n",
       "      <th>username</th>\n",
       "      <th>email</th>\n",
       "      <th>gender</th>\n",
       "      <th>birthdate</th>\n",
       "      <th>device_type</th>\n",
       "      <th>device_id</th>\n",
       "      <th>device_version</th>\n",
       "      <th>home_location_lat</th>\n",
       "      <th>home_location_long</th>\n",
       "      <th>home_location</th>\n",
       "      <th>home_country</th>\n",
       "      <th>first_join_date</th>\n",
       "    </tr>\n",
       "  </thead>\n",
       "  <tbody>\n",
       "    <tr>\n",
       "      <th>0</th>\n",
       "      <td>2870</td>\n",
       "      <td>Lala</td>\n",
       "      <td>Maryati</td>\n",
       "      <td>671a0865-ac4e-4dc4-9c4f-c286a1176f7e</td>\n",
       "      <td>671a0865_ac4e_4dc4_9c4f_c286a1176f7e@startupca...</td>\n",
       "      <td>F</td>\n",
       "      <td>1996-06-14</td>\n",
       "      <td>iOS</td>\n",
       "      <td>c9c0de76-0a6c-4ac2-843f-65264ab9fe63</td>\n",
       "      <td>iPhone; CPU iPhone OS 14_2_1 like Mac OS X</td>\n",
       "      <td>-1.043345</td>\n",
       "      <td>101.360523</td>\n",
       "      <td>Sumatera Barat</td>\n",
       "      <td>Indonesia</td>\n",
       "      <td>2019-07-21</td>\n",
       "    </tr>\n",
       "    <tr>\n",
       "      <th>1</th>\n",
       "      <td>8193</td>\n",
       "      <td>Maimunah</td>\n",
       "      <td>Laksmiwati</td>\n",
       "      <td>83be2ba7-8133-48a4-bbcb-b46a2762473f</td>\n",
       "      <td>83be2ba7_8133_48a4_bbcb_b46a2762473f@zakyfound...</td>\n",
       "      <td>F</td>\n",
       "      <td>1993-08-16</td>\n",
       "      <td>Android</td>\n",
       "      <td>fb331c3d-f42e-40fe-afe2-b4b73a8a6e25</td>\n",
       "      <td>Android 2.2.1</td>\n",
       "      <td>-6.212489</td>\n",
       "      <td>106.818850</td>\n",
       "      <td>Jakarta Raya</td>\n",
       "      <td>Indonesia</td>\n",
       "      <td>2017-07-16</td>\n",
       "    </tr>\n",
       "    <tr>\n",
       "      <th>2</th>\n",
       "      <td>7279</td>\n",
       "      <td>Bakiman</td>\n",
       "      <td>Simanjuntak</td>\n",
       "      <td>3250e5a3-1d23-4675-a647-3281879d42be</td>\n",
       "      <td>3250e5a3_1d23_4675_a647_3281879d42be@startupca...</td>\n",
       "      <td>M</td>\n",
       "      <td>1989-01-23</td>\n",
       "      <td>iOS</td>\n",
       "      <td>d13dde0a-6ae1-43c3-83a7-11bbb922730b</td>\n",
       "      <td>iPad; CPU iPad OS 4_2_1 like Mac OS X</td>\n",
       "      <td>-8.631607</td>\n",
       "      <td>116.428436</td>\n",
       "      <td>Nusa Tenggara Barat</td>\n",
       "      <td>Indonesia</td>\n",
       "      <td>2020-08-23</td>\n",
       "    </tr>\n",
       "    <tr>\n",
       "      <th>3</th>\n",
       "      <td>88813</td>\n",
       "      <td>Cahyadi</td>\n",
       "      <td>Maheswara</td>\n",
       "      <td>df797edf-b465-4a80-973b-9fbb612260c2</td>\n",
       "      <td>df797edf_b465_4a80_973b_9fbb612260c2@zakyfound...</td>\n",
       "      <td>M</td>\n",
       "      <td>1991-01-05</td>\n",
       "      <td>iOS</td>\n",
       "      <td>f4c18515-c5be-419f-8142-f037be47c9cd</td>\n",
       "      <td>iPad; CPU iPad OS 14_2 like Mac OS X</td>\n",
       "      <td>1.299332</td>\n",
       "      <td>115.774934</td>\n",
       "      <td>Kalimantan Timur</td>\n",
       "      <td>Indonesia</td>\n",
       "      <td>2021-10-03</td>\n",
       "    </tr>\n",
       "    <tr>\n",
       "      <th>4</th>\n",
       "      <td>82542</td>\n",
       "      <td>Irnanto</td>\n",
       "      <td>Wijaya</td>\n",
       "      <td>36ab08e1-03de-42a8-9e3b-59528c798824</td>\n",
       "      <td>36ab08e1_03de_42a8_9e3b_59528c798824@startupca...</td>\n",
       "      <td>M</td>\n",
       "      <td>2000-07-15</td>\n",
       "      <td>iOS</td>\n",
       "      <td>e46e4c36-4630-4736-8fcf-663db29ca3b0</td>\n",
       "      <td>iPhone; CPU iPhone OS 10_3_3 like Mac OS X</td>\n",
       "      <td>-2.980807</td>\n",
       "      <td>114.924675</td>\n",
       "      <td>Kalimantan Selatan</td>\n",
       "      <td>Indonesia</td>\n",
       "      <td>2021-04-11</td>\n",
       "    </tr>\n",
       "  </tbody>\n",
       "</table>\n",
       "</div>"
      ],
      "text/plain": [
       "   customer_id first_name    last_name                              username  \\\n",
       "0         2870       Lala      Maryati  671a0865-ac4e-4dc4-9c4f-c286a1176f7e   \n",
       "1         8193   Maimunah   Laksmiwati  83be2ba7-8133-48a4-bbcb-b46a2762473f   \n",
       "2         7279    Bakiman  Simanjuntak  3250e5a3-1d23-4675-a647-3281879d42be   \n",
       "3        88813    Cahyadi    Maheswara  df797edf-b465-4a80-973b-9fbb612260c2   \n",
       "4        82542    Irnanto       Wijaya  36ab08e1-03de-42a8-9e3b-59528c798824   \n",
       "\n",
       "                                               email gender   birthdate  \\\n",
       "0  671a0865_ac4e_4dc4_9c4f_c286a1176f7e@startupca...      F  1996-06-14   \n",
       "1  83be2ba7_8133_48a4_bbcb_b46a2762473f@zakyfound...      F  1993-08-16   \n",
       "2  3250e5a3_1d23_4675_a647_3281879d42be@startupca...      M  1989-01-23   \n",
       "3  df797edf_b465_4a80_973b_9fbb612260c2@zakyfound...      M  1991-01-05   \n",
       "4  36ab08e1_03de_42a8_9e3b_59528c798824@startupca...      M  2000-07-15   \n",
       "\n",
       "  device_type                             device_id  \\\n",
       "0         iOS  c9c0de76-0a6c-4ac2-843f-65264ab9fe63   \n",
       "1     Android  fb331c3d-f42e-40fe-afe2-b4b73a8a6e25   \n",
       "2         iOS  d13dde0a-6ae1-43c3-83a7-11bbb922730b   \n",
       "3         iOS  f4c18515-c5be-419f-8142-f037be47c9cd   \n",
       "4         iOS  e46e4c36-4630-4736-8fcf-663db29ca3b0   \n",
       "\n",
       "                               device_version  home_location_lat  \\\n",
       "0  iPhone; CPU iPhone OS 14_2_1 like Mac OS X          -1.043345   \n",
       "1                               Android 2.2.1          -6.212489   \n",
       "2       iPad; CPU iPad OS 4_2_1 like Mac OS X          -8.631607   \n",
       "3        iPad; CPU iPad OS 14_2 like Mac OS X           1.299332   \n",
       "4  iPhone; CPU iPhone OS 10_3_3 like Mac OS X          -2.980807   \n",
       "\n",
       "   home_location_long        home_location home_country first_join_date  \n",
       "0          101.360523       Sumatera Barat    Indonesia      2019-07-21  \n",
       "1          106.818850         Jakarta Raya    Indonesia      2017-07-16  \n",
       "2          116.428436  Nusa Tenggara Barat    Indonesia      2020-08-23  \n",
       "3          115.774934     Kalimantan Timur    Indonesia      2021-10-03  \n",
       "4          114.924675   Kalimantan Selatan    Indonesia      2021-04-11  "
      ]
     },
     "execution_count": 110,
     "metadata": {},
     "output_type": "execute_result"
    }
   ],
   "source": [
    "df_customer = pd.read_csv(\"Data/customer.csv\")\n",
    "df_customer.head()"
   ]
  },
  {
   "cell_type": "code",
   "execution_count": 111,
   "id": "77a35fb2",
   "metadata": {},
   "outputs": [
    {
     "data": {
      "text/html": [
       "<div>\n",
       "<style scoped>\n",
       "    .dataframe tbody tr th:only-of-type {\n",
       "        vertical-align: middle;\n",
       "    }\n",
       "\n",
       "    .dataframe tbody tr th {\n",
       "        vertical-align: top;\n",
       "    }\n",
       "\n",
       "    .dataframe thead th {\n",
       "        text-align: right;\n",
       "    }\n",
       "</style>\n",
       "<table border=\"1\" class=\"dataframe\">\n",
       "  <thead>\n",
       "    <tr style=\"text-align: right;\">\n",
       "      <th></th>\n",
       "      <th>created_at</th>\n",
       "      <th>customer_id</th>\n",
       "      <th>booking_id</th>\n",
       "      <th>session_id</th>\n",
       "      <th>payment_method</th>\n",
       "      <th>payment_status</th>\n",
       "      <th>promo_amount</th>\n",
       "      <th>promo_code</th>\n",
       "      <th>shipment_fee</th>\n",
       "      <th>shipment_date_limit</th>\n",
       "      <th>shipment_location_lat</th>\n",
       "      <th>shipment_location_long</th>\n",
       "      <th>total_amount</th>\n",
       "      <th>product_id</th>\n",
       "      <th>quantity</th>\n",
       "      <th>item_price</th>\n",
       "    </tr>\n",
       "  </thead>\n",
       "  <tbody>\n",
       "    <tr>\n",
       "      <th>0</th>\n",
       "      <td>2018-07-29T15:22:01.458193Z</td>\n",
       "      <td>5868</td>\n",
       "      <td>186e2bee-0637-4710-8981-50c2d737bc42</td>\n",
       "      <td>3abaa6ce-e320-4e51-9469-d9f3fa328e86</td>\n",
       "      <td>Debit Card</td>\n",
       "      <td>Success</td>\n",
       "      <td>1415</td>\n",
       "      <td>WEEKENDSERU</td>\n",
       "      <td>10000</td>\n",
       "      <td>2018-08-03T05:07:24.812676Z</td>\n",
       "      <td>-8.227893</td>\n",
       "      <td>111.969107</td>\n",
       "      <td>199832</td>\n",
       "      <td>54728</td>\n",
       "      <td>1</td>\n",
       "      <td>191247</td>\n",
       "    </tr>\n",
       "    <tr>\n",
       "      <th>1</th>\n",
       "      <td>2018-07-30T12:40:22.365620Z</td>\n",
       "      <td>4774</td>\n",
       "      <td>caadb57b-e808-4f94-9e96-8a7d4c9898db</td>\n",
       "      <td>2ee5ead1-f13e-4759-92df-7ff48475e970</td>\n",
       "      <td>Credit Card</td>\n",
       "      <td>Success</td>\n",
       "      <td>0</td>\n",
       "      <td>NaN</td>\n",
       "      <td>10000</td>\n",
       "      <td>2018-08-03T01:29:03.415705Z</td>\n",
       "      <td>3.013470</td>\n",
       "      <td>107.802514</td>\n",
       "      <td>155526</td>\n",
       "      <td>16193</td>\n",
       "      <td>1</td>\n",
       "      <td>145526</td>\n",
       "    </tr>\n",
       "    <tr>\n",
       "      <th>2</th>\n",
       "      <td>2018-09-15T11:51:17.365620Z</td>\n",
       "      <td>4774</td>\n",
       "      <td>6000fffb-9c1a-4f4a-9296-bc8f6b622b50</td>\n",
       "      <td>93325fb6-eb00-4268-bb0e-6471795a0ad0</td>\n",
       "      <td>OVO</td>\n",
       "      <td>Success</td>\n",
       "      <td>0</td>\n",
       "      <td>NaN</td>\n",
       "      <td>10000</td>\n",
       "      <td>2018-09-18T08:41:49.422380Z</td>\n",
       "      <td>-2.579428</td>\n",
       "      <td>115.743885</td>\n",
       "      <td>550696</td>\n",
       "      <td>53686</td>\n",
       "      <td>4</td>\n",
       "      <td>135174</td>\n",
       "    </tr>\n",
       "    <tr>\n",
       "      <th>3</th>\n",
       "      <td>2018-11-01T11:23:48.365620Z</td>\n",
       "      <td>4774</td>\n",
       "      <td>f5e530a7-4350-4cd1-a3bc-525b5037bcab</td>\n",
       "      <td>bcad5a61-1b67-448d-8ff4-781d67bc56e4</td>\n",
       "      <td>Credit Card</td>\n",
       "      <td>Success</td>\n",
       "      <td>0</td>\n",
       "      <td>NaN</td>\n",
       "      <td>0</td>\n",
       "      <td>2018-11-05T17:42:27.954235Z</td>\n",
       "      <td>-3.602334</td>\n",
       "      <td>120.363824</td>\n",
       "      <td>271012</td>\n",
       "      <td>20228</td>\n",
       "      <td>1</td>\n",
       "      <td>271012</td>\n",
       "    </tr>\n",
       "    <tr>\n",
       "      <th>4</th>\n",
       "      <td>2018-12-18T11:20:30.365620Z</td>\n",
       "      <td>4774</td>\n",
       "      <td>0efc0594-dbbf-4f9a-b0b0-a488cfddf8a2</td>\n",
       "      <td>df1042ab-13e6-4072-b9d2-64a81974c51a</td>\n",
       "      <td>Credit Card</td>\n",
       "      <td>Success</td>\n",
       "      <td>0</td>\n",
       "      <td>NaN</td>\n",
       "      <td>0</td>\n",
       "      <td>2018-12-23T17:24:07.361785Z</td>\n",
       "      <td>-3.602334</td>\n",
       "      <td>120.363824</td>\n",
       "      <td>198753</td>\n",
       "      <td>55220</td>\n",
       "      <td>1</td>\n",
       "      <td>198753</td>\n",
       "    </tr>\n",
       "  </tbody>\n",
       "</table>\n",
       "</div>"
      ],
      "text/plain": [
       "                    created_at  customer_id  \\\n",
       "0  2018-07-29T15:22:01.458193Z         5868   \n",
       "1  2018-07-30T12:40:22.365620Z         4774   \n",
       "2  2018-09-15T11:51:17.365620Z         4774   \n",
       "3  2018-11-01T11:23:48.365620Z         4774   \n",
       "4  2018-12-18T11:20:30.365620Z         4774   \n",
       "\n",
       "                             booking_id                            session_id  \\\n",
       "0  186e2bee-0637-4710-8981-50c2d737bc42  3abaa6ce-e320-4e51-9469-d9f3fa328e86   \n",
       "1  caadb57b-e808-4f94-9e96-8a7d4c9898db  2ee5ead1-f13e-4759-92df-7ff48475e970   \n",
       "2  6000fffb-9c1a-4f4a-9296-bc8f6b622b50  93325fb6-eb00-4268-bb0e-6471795a0ad0   \n",
       "3  f5e530a7-4350-4cd1-a3bc-525b5037bcab  bcad5a61-1b67-448d-8ff4-781d67bc56e4   \n",
       "4  0efc0594-dbbf-4f9a-b0b0-a488cfddf8a2  df1042ab-13e6-4072-b9d2-64a81974c51a   \n",
       "\n",
       "  payment_method payment_status  promo_amount   promo_code  shipment_fee  \\\n",
       "0     Debit Card        Success          1415  WEEKENDSERU         10000   \n",
       "1    Credit Card        Success             0          NaN         10000   \n",
       "2            OVO        Success             0          NaN         10000   \n",
       "3    Credit Card        Success             0          NaN             0   \n",
       "4    Credit Card        Success             0          NaN             0   \n",
       "\n",
       "           shipment_date_limit  shipment_location_lat  shipment_location_long  \\\n",
       "0  2018-08-03T05:07:24.812676Z              -8.227893              111.969107   \n",
       "1  2018-08-03T01:29:03.415705Z               3.013470              107.802514   \n",
       "2  2018-09-18T08:41:49.422380Z              -2.579428              115.743885   \n",
       "3  2018-11-05T17:42:27.954235Z              -3.602334              120.363824   \n",
       "4  2018-12-23T17:24:07.361785Z              -3.602334              120.363824   \n",
       "\n",
       "   total_amount  product_id  quantity  item_price  \n",
       "0        199832       54728         1      191247  \n",
       "1        155526       16193         1      145526  \n",
       "2        550696       53686         4      135174  \n",
       "3        271012       20228         1      271012  \n",
       "4        198753       55220         1      198753  "
      ]
     },
     "execution_count": 111,
     "metadata": {},
     "output_type": "execute_result"
    }
   ],
   "source": [
    "df_transaction = pd.read_csv(\"Data/transaction_new.csv\")\n",
    "df_transaction.head()"
   ]
  },
  {
   "cell_type": "code",
   "execution_count": 112,
   "id": "f5143e55",
   "metadata": {},
   "outputs": [
    {
     "data": {
      "text/html": [
       "<div>\n",
       "<style scoped>\n",
       "    .dataframe tbody tr th:only-of-type {\n",
       "        vertical-align: middle;\n",
       "    }\n",
       "\n",
       "    .dataframe tbody tr th {\n",
       "        vertical-align: top;\n",
       "    }\n",
       "\n",
       "    .dataframe thead th {\n",
       "        text-align: right;\n",
       "    }\n",
       "</style>\n",
       "<table border=\"1\" class=\"dataframe\">\n",
       "  <thead>\n",
       "    <tr style=\"text-align: right;\">\n",
       "      <th></th>\n",
       "      <th>id</th>\n",
       "      <th>gender</th>\n",
       "      <th>masterCategory</th>\n",
       "      <th>subCategory</th>\n",
       "      <th>articleType</th>\n",
       "      <th>baseColour</th>\n",
       "      <th>season</th>\n",
       "      <th>year</th>\n",
       "      <th>usage</th>\n",
       "      <th>productDisplayName</th>\n",
       "    </tr>\n",
       "  </thead>\n",
       "  <tbody>\n",
       "    <tr>\n",
       "      <th>0</th>\n",
       "      <td>15970</td>\n",
       "      <td>Men</td>\n",
       "      <td>Apparel</td>\n",
       "      <td>Topwear</td>\n",
       "      <td>Shirts</td>\n",
       "      <td>Navy Blue</td>\n",
       "      <td>Fall</td>\n",
       "      <td>2011.0</td>\n",
       "      <td>Casual</td>\n",
       "      <td>Turtle Check Men Navy Blue Shirt</td>\n",
       "    </tr>\n",
       "    <tr>\n",
       "      <th>1</th>\n",
       "      <td>39386</td>\n",
       "      <td>Men</td>\n",
       "      <td>Apparel</td>\n",
       "      <td>Bottomwear</td>\n",
       "      <td>Jeans</td>\n",
       "      <td>Blue</td>\n",
       "      <td>Summer</td>\n",
       "      <td>2012.0</td>\n",
       "      <td>Casual</td>\n",
       "      <td>Peter England Men Party Blue Jeans</td>\n",
       "    </tr>\n",
       "    <tr>\n",
       "      <th>2</th>\n",
       "      <td>59263</td>\n",
       "      <td>Women</td>\n",
       "      <td>Accessories</td>\n",
       "      <td>Watches</td>\n",
       "      <td>Watches</td>\n",
       "      <td>Silver</td>\n",
       "      <td>Winter</td>\n",
       "      <td>2016.0</td>\n",
       "      <td>Casual</td>\n",
       "      <td>Titan Women Silver Watch</td>\n",
       "    </tr>\n",
       "    <tr>\n",
       "      <th>3</th>\n",
       "      <td>21379</td>\n",
       "      <td>Men</td>\n",
       "      <td>Apparel</td>\n",
       "      <td>Bottomwear</td>\n",
       "      <td>Track Pants</td>\n",
       "      <td>Black</td>\n",
       "      <td>Fall</td>\n",
       "      <td>2011.0</td>\n",
       "      <td>Casual</td>\n",
       "      <td>Manchester United Men Solid Black Track Pants</td>\n",
       "    </tr>\n",
       "    <tr>\n",
       "      <th>4</th>\n",
       "      <td>53759</td>\n",
       "      <td>Men</td>\n",
       "      <td>Apparel</td>\n",
       "      <td>Topwear</td>\n",
       "      <td>Tshirts</td>\n",
       "      <td>Grey</td>\n",
       "      <td>Summer</td>\n",
       "      <td>2012.0</td>\n",
       "      <td>Casual</td>\n",
       "      <td>Puma Men Grey T-shirt</td>\n",
       "    </tr>\n",
       "  </tbody>\n",
       "</table>\n",
       "</div>"
      ],
      "text/plain": [
       "      id gender masterCategory subCategory  articleType baseColour  season  \\\n",
       "0  15970    Men        Apparel     Topwear       Shirts  Navy Blue    Fall   \n",
       "1  39386    Men        Apparel  Bottomwear        Jeans       Blue  Summer   \n",
       "2  59263  Women    Accessories     Watches      Watches     Silver  Winter   \n",
       "3  21379    Men        Apparel  Bottomwear  Track Pants      Black    Fall   \n",
       "4  53759    Men        Apparel     Topwear      Tshirts       Grey  Summer   \n",
       "\n",
       "     year   usage                             productDisplayName  \n",
       "0  2011.0  Casual               Turtle Check Men Navy Blue Shirt  \n",
       "1  2012.0  Casual             Peter England Men Party Blue Jeans  \n",
       "2  2016.0  Casual                       Titan Women Silver Watch  \n",
       "3  2011.0  Casual  Manchester United Men Solid Black Track Pants  \n",
       "4  2012.0  Casual                          Puma Men Grey T-shirt  "
      ]
     },
     "execution_count": 112,
     "metadata": {},
     "output_type": "execute_result"
    }
   ],
   "source": [
    "df_product = pd.read_csv(\"Data/product.csv\")\n",
    "df_product.head()"
   ]
  },
  {
   "cell_type": "markdown",
   "id": "44bace8c",
   "metadata": {},
   "source": [
    "### **_01.1. How many rows and how many columns?_**"
   ]
  },
  {
   "cell_type": "code",
   "execution_count": 113,
   "id": "99b909f2",
   "metadata": {},
   "outputs": [
    {
     "data": {
      "text/plain": [
       "(100000, 15)"
      ]
     },
     "execution_count": 113,
     "metadata": {},
     "output_type": "execute_result"
    }
   ],
   "source": [
    "df_customer.shape"
   ]
  },
  {
   "cell_type": "code",
   "execution_count": 114,
   "id": "ffbb99c4",
   "metadata": {},
   "outputs": [
    {
     "data": {
      "text/plain": [
       "(44446, 10)"
      ]
     },
     "execution_count": 114,
     "metadata": {},
     "output_type": "execute_result"
    }
   ],
   "source": [
    "df_product.shape"
   ]
  },
  {
   "cell_type": "code",
   "execution_count": 115,
   "id": "01838a39",
   "metadata": {},
   "outputs": [
    {
     "data": {
      "text/plain": [
       "(1254585, 16)"
      ]
     },
     "execution_count": 115,
     "metadata": {},
     "output_type": "execute_result"
    }
   ],
   "source": [
    "df_transaction.shape"
   ]
  },
  {
   "cell_type": "markdown",
   "id": "4dd2486c",
   "metadata": {},
   "source": [
    "Bộ dữ liệu `customer` có 100.000 dòng và 15 cột, bộ dữ liệu `product` có 44.446 dòng và 11 cột, bộ dữ liệu `transaction` có 1.254.585 dòng và 16 cột."
   ]
  },
  {
   "cell_type": "markdown",
   "id": "a08c0812",
   "metadata": {},
   "source": [
    "---"
   ]
  },
  {
   "cell_type": "markdown",
   "id": "040024f8",
   "metadata": {},
   "source": [
    "### **_01.2. What is the meaning of each row?_**"
   ]
  },
  {
   "cell_type": "markdown",
   "id": "89e0b329",
   "metadata": {},
   "source": [
    "Mỗi dòng là thông tin của một khách hàng, sản phẩm hoặc giao dịch có trên sàn thương mại điện tử Fashion Campus"
   ]
  },
  {
   "cell_type": "markdown",
   "id": "03b2b04c",
   "metadata": {},
   "source": [
    "---"
   ]
  },
  {
   "cell_type": "markdown",
   "id": "80edb0f0",
   "metadata": {},
   "source": [
    "### **_01.3. What is the meaning of each column?_**\n"
   ]
  },
  {
   "cell_type": "markdown",
   "id": "3758aa5a",
   "metadata": {},
   "source": [
    "- Dữ liệu `customer`"
   ]
  },
  {
   "cell_type": "markdown",
   "id": "6a3d7a79",
   "metadata": {},
   "source": [
    "  | Cột               | Ý nghĩa                                                                       |\n",
    "  |-------------------|-------------------------------------------------------------------------------|\n",
    "  |`customer_id`         | Id duy nhất của khách hàng                            |\n",
    "  |`first_name `            | Tên của khách hàng              |\n",
    "  |`last_name `             | Họ của khách hàng              |\n",
    "  |`username `            | Tên người dùng của khách hàng                                       |\n",
    "  |`email `        | Email của khách hàng                                    |\n",
    "  |`gender `           | Giới tính của khách hàng (Nam (M) hoặc Nữ (F))                    |\n",
    "  |`birthdate `           | Ngày sinh của khách hàng, ngày - tháng - năm                    |\n",
    "  |`device_type `          | Loại thiết bị của khách hàng khi sử dụng ứng dụng                                                                      |\n",
    "  |`device_id `         | Id thiết bị của khách hàng khi sử dụng ứng dụng                                                                  |\n",
    "  |`device_version `       | Phiên bản chi tiết của thiết bị được khách hàng sử dụng                                                        |\n",
    "  |`home_location_lat `         | Vĩ độ vị trí của khách hàng                                                    |\n",
    "  |`home_location_long `          | Kinh độ vị trí khách hàng                           |\n",
    "  |`home_location `        | Tên tỉnh/khu vực của khách hàng                                      |\n",
    "  |`home_country `              | Tên quốc gia của khách hàng                                             |\n",
    "  |`first_join_date `         | Ngày đầu tiên khách hàng tham gia ứng dụng                                           |\n"
   ]
  },
  {
   "cell_type": "markdown",
   "id": "9b34e428",
   "metadata": {},
   "source": [
    "- Dữ liệu `product`"
   ]
  },
  {
   "cell_type": "markdown",
   "id": "0a300871",
   "metadata": {},
   "source": [
    "  | Cột               | Ý nghĩa                                                                       |\n",
    "  |-------------------|-------------------------------------------------------------------------------|\n",
    "  |`id`         | Mã sản phẩm                           |\n",
    "  |`gender  `            | Mục tiêu/chỉ định sản phẩm dựa trên giới tính              |\n",
    "  |`masterCategory  `             | Danh mục sản phẩm chính             |\n",
    "  |`subCategory  `            | Danh mục phụ của sản phẩm                                       |\n",
    "  |`articleType  `        | Loại sản phẩm thời trang                                    |\n",
    "  |`baseColour  `           | Màu cơ bản của sản phẩm thời trang                    |\n",
    "  |`season  `           | Mục tiêu/chỉ định sản phẩm dựa trên mùa                    |\n",
    "  |`year  `          | Năm sản xuất                                                                     |\n",
    "  |`usage  `         | Loại sử dụng của sản phẩm                                                                |\n",
    "  |`productDisplayName  `       | Tên hiển thị của sản phẩm trong ứng dụng thương mại điện tử                                                       |\n"
   ]
  },
  {
   "cell_type": "markdown",
   "id": "ee494ecd",
   "metadata": {},
   "source": [
    "- Dữ liệu `transaction`"
   ]
  },
  {
   "cell_type": "markdown",
   "id": "f2c074b4",
   "metadata": {},
   "source": [
    "  | Cột               | Ý nghĩa                                                                       |\n",
    "  |-------------------|-------------------------------------------------------------------------------|\n",
    "  |`created_at `         | Dấu thời gian khi dữ liệu/giao dịch được tạo                            |\n",
    "  |`customer_id  `            | Id duy nhất của mỗi khách hàng              |\n",
    "  |`booking_id  `             | Id duy nhất của giao dịch            |\n",
    "  |`session_id  `            | Id phiên duy nhất của người dùng khi truy cập ứng dụng                                       |\n",
    "  |`product_metadata  `        | Siêu dữ liệu của sản phẩm đã mua                                   |\n",
    "  |`payment_method  `           | Phương thức thanh toán được sử dụng trong giao dịch                    |\n",
    "  |`payment_status  `           | Trạng thái thanh toán (Thành công / Thất bại)                    |\n",
    "  |`promo_amount  `          | Số tiền khuyến mãi trong mỗi giao dịch                                                                     |\n",
    "  |`promo_code  `         | Mã khuyến mãi                                                                  |\n",
    "  |`shipment_fee  `       | Phí vận chuyển của giao dịch (ongkir)                                                        |\n",
    "  |`shipment_date_limit  `         | Dữ liệu giới hạn lô hàng                                          |\n",
    "  |`shipment_location_lat  `          | Vị trí lô hàng/vĩ độ mục tiêu                          |\n",
    "  |`shipment_location_long  `        | Vị trí lô hàng/kinh độ mục tiêu                                 |\n",
    "  |`total_amount  `              | Tổng số tiền phải trả cho mỗi giao dịch                                         |\n"
   ]
  },
  {
   "cell_type": "markdown",
   "id": "4f14cac2",
   "metadata": {},
   "source": [
    "---"
   ]
  },
  {
   "cell_type": "markdown",
   "id": "57790583",
   "metadata": {},
   "source": [
    "### **_01.4. Is data missing?_**"
   ]
  },
  {
   "cell_type": "code",
   "execution_count": 116,
   "id": "21c589b2",
   "metadata": {},
   "outputs": [
    {
     "data": {
      "text/plain": [
       "customer_id           0\n",
       "first_name            0\n",
       "last_name             0\n",
       "username              0\n",
       "email                 0\n",
       "gender                0\n",
       "birthdate             0\n",
       "device_type           0\n",
       "device_id             0\n",
       "device_version        0\n",
       "home_location_lat     0\n",
       "home_location_long    0\n",
       "home_location         0\n",
       "home_country          0\n",
       "first_join_date       0\n",
       "dtype: int64"
      ]
     },
     "execution_count": 116,
     "metadata": {},
     "output_type": "execute_result"
    }
   ],
   "source": [
    "df_customer.isnull().sum()"
   ]
  },
  {
   "cell_type": "markdown",
   "id": "d3e3665e",
   "metadata": {},
   "source": [
    "Dữ liệu `customer` không bị thiếu, tất cả các trường dữ liệu đều non null"
   ]
  },
  {
   "cell_type": "code",
   "execution_count": 117,
   "id": "b20d0617",
   "metadata": {},
   "outputs": [
    {
     "data": {
      "text/plain": [
       "id                      0\n",
       "gender                  0\n",
       "masterCategory          0\n",
       "subCategory             0\n",
       "articleType             0\n",
       "baseColour             15\n",
       "season                 21\n",
       "year                    1\n",
       "usage                 317\n",
       "productDisplayName      7\n",
       "dtype: int64"
      ]
     },
     "execution_count": 117,
     "metadata": {},
     "output_type": "execute_result"
    }
   ],
   "source": [
    "df_product.isnull().sum()"
   ]
  },
  {
   "cell_type": "markdown",
   "id": "da5d5895",
   "metadata": {},
   "source": [
    "Dữ liệu `product` bị thiếu, các trường dữ liệu bị thiếu như `baseColour`, `season`, `year`, `usage`, `productDisplayName`"
   ]
  },
  {
   "cell_type": "code",
   "execution_count": 118,
   "id": "8cfd86ec",
   "metadata": {},
   "outputs": [
    {
     "data": {
      "text/plain": [
       "created_at                     0\n",
       "customer_id                    0\n",
       "booking_id                     0\n",
       "session_id                     0\n",
       "payment_method                 0\n",
       "payment_status                 0\n",
       "promo_amount                   0\n",
       "promo_code                773446\n",
       "shipment_fee                   0\n",
       "shipment_date_limit            0\n",
       "shipment_location_lat          0\n",
       "shipment_location_long         0\n",
       "total_amount                   0\n",
       "product_id                     0\n",
       "quantity                       0\n",
       "item_price                     0\n",
       "dtype: int64"
      ]
     },
     "execution_count": 118,
     "metadata": {},
     "output_type": "execute_result"
    }
   ],
   "source": [
    "df_transaction.isnull().sum()"
   ]
  },
  {
   "cell_type": "markdown",
   "id": "3b2bb818",
   "metadata": {},
   "source": [
    "---"
   ]
  },
  {
   "cell_type": "markdown",
   "id": "992aa9a2",
   "metadata": {},
   "source": [
    "### **_01.5. Are there duplicated rows?_**"
   ]
  },
  {
   "cell_type": "code",
   "execution_count": 119,
   "id": "7f64ba9f",
   "metadata": {},
   "outputs": [
    {
     "data": {
      "text/plain": [
       "0"
      ]
     },
     "execution_count": 119,
     "metadata": {},
     "output_type": "execute_result"
    }
   ],
   "source": [
    "np.sum(df_customer.duplicated())"
   ]
  },
  {
   "cell_type": "code",
   "execution_count": 120,
   "id": "32511960",
   "metadata": {},
   "outputs": [
    {
     "data": {
      "text/plain": [
       "0"
      ]
     },
     "execution_count": 120,
     "metadata": {},
     "output_type": "execute_result"
    }
   ],
   "source": [
    "np.sum(df_product.duplicated())"
   ]
  },
  {
   "cell_type": "code",
   "execution_count": 121,
   "id": "ecae624f",
   "metadata": {},
   "outputs": [
    {
     "data": {
      "text/plain": [
       "0"
      ]
     },
     "execution_count": 121,
     "metadata": {},
     "output_type": "execute_result"
    }
   ],
   "source": [
    "np.sum(df_transaction.duplicated())"
   ]
  },
  {
   "cell_type": "markdown",
   "id": "c3341a7e",
   "metadata": {},
   "source": [
    "Cả ba tập dữ liệu không có dòng nào trùng lắp"
   ]
  },
  {
   "cell_type": "markdown",
   "id": "6e56ad32",
   "metadata": {},
   "source": [
    "---"
   ]
  },
  {
   "cell_type": "markdown",
   "id": "77af2278",
   "metadata": {},
   "source": [
    "### **_01.6. What is the current data type of each column? Are there columns having inappropriate data types?_**"
   ]
  },
  {
   "cell_type": "code",
   "execution_count": 122,
   "id": "af260062",
   "metadata": {},
   "outputs": [
    {
     "data": {
      "text/plain": [
       "customer_id             int64\n",
       "first_name             object\n",
       "last_name              object\n",
       "username               object\n",
       "email                  object\n",
       "gender                 object\n",
       "birthdate              object\n",
       "device_type            object\n",
       "device_id              object\n",
       "device_version         object\n",
       "home_location_lat     float64\n",
       "home_location_long    float64\n",
       "home_location          object\n",
       "home_country           object\n",
       "first_join_date        object\n",
       "dtype: object"
      ]
     },
     "execution_count": 122,
     "metadata": {},
     "output_type": "execute_result"
    }
   ],
   "source": [
    "df_customer.dtypes"
   ]
  },
  {
   "cell_type": "markdown",
   "id": "24c7baeb",
   "metadata": {},
   "source": [
    "### **_01.7. Columns that exhibit concordance or disparity in terms of data types:_**\n"
   ]
  },
  {
   "cell_type": "markdown",
   "id": "3df57c8c",
   "metadata": {},
   "source": [
    "#### **_01.7.1. `customer` table:_**"
   ]
  },
  {
   "cell_type": "code",
   "execution_count": 123,
   "id": "f8d481ff",
   "metadata": {},
   "outputs": [
    {
     "data": {
      "text/plain": [
       "customer_id             int64\n",
       "first_name             object\n",
       "last_name              object\n",
       "username               object\n",
       "email                  object\n",
       "gender                 object\n",
       "birthdate              object\n",
       "device_type            object\n",
       "device_id              object\n",
       "device_version         object\n",
       "home_location_lat     float64\n",
       "home_location_long    float64\n",
       "home_location          object\n",
       "home_country           object\n",
       "first_join_date        object\n",
       "dtype: object"
      ]
     },
     "execution_count": 123,
     "metadata": {},
     "output_type": "execute_result"
    }
   ],
   "source": [
    "df_customer.dtypes"
   ]
  },
  {
   "cell_type": "markdown",
   "id": "7ad77e17",
   "metadata": {},
   "source": [
    "- `customer_id`, `first_name`, `last_name`, `username`, `email`, `gender`, `device_type`, `device_id`, `device_version`, `home_location_lat`, `home_location_long`, `home_location`, `home_country`: phù hợp\n",
    "- `birthdate`, `first_join_date`: chuyển về date\n",
    "\n",
    "\n",
    "  | Cột               | Kiểu dữ liệu có phù hợp |\n",
    "  |-------------------|-------------------------|\n",
    "  |`customer_id`         | True                    |\n",
    "  |`first_name`            | True                    |\n",
    "  |`last_name`             | True                    |\n",
    "  |`username`            | True                    |\n",
    "  |`email`        | True                    |\n",
    "  |`gender`           | True                    |\n",
    "  |`device_type`          | True                    |\n",
    "  |`device_id`         | True                    |\n",
    "  |`device_version`       | True    |\n",
    "  |`home_location_lat`         | True    |\n",
    "  |`home_location_long`          | True                    |\n",
    "  |`home_location`        | True                    |\n",
    "  |`home_country`              | True                    |\n",
    "  |`birthdate`         | False (to datetime)                    |\n",
    "  |`first_join_date`| False (to datetime)     |"
   ]
  },
  {
   "cell_type": "markdown",
   "id": "7b686ab6",
   "metadata": {},
   "source": [
    "#### **_01.7.2. `product` table:_**"
   ]
  },
  {
   "cell_type": "code",
   "execution_count": 124,
   "id": "01ecea6d",
   "metadata": {},
   "outputs": [
    {
     "data": {
      "text/plain": [
       "id                      int64\n",
       "gender                 object\n",
       "masterCategory         object\n",
       "subCategory            object\n",
       "articleType            object\n",
       "baseColour             object\n",
       "season                 object\n",
       "year                  float64\n",
       "usage                  object\n",
       "productDisplayName     object\n",
       "dtype: object"
      ]
     },
     "execution_count": 124,
     "metadata": {},
     "output_type": "execute_result"
    }
   ],
   "source": [
    "df_product.dtypes"
   ]
  },
  {
   "cell_type": "markdown",
   "id": "4a59ba85",
   "metadata": {},
   "source": [
    "- `id`, `gender`, `masterCategory`, `subCategory`, `articleType`, `baseColour`, `season`, `usage`, `productDisplayName`: phù hợp\n",
    "- `year`: chuyển về year\n",
    "\n",
    "\n",
    "  | Cột               | Kiểu dữ liệu có phù hợp |\n",
    "  |-------------------|-------------------------|\n",
    "  |`id`         | True                           |\n",
    "  |`gender  `            | True              |\n",
    "  |`masterCategory  `             | True             |\n",
    "  |`subCategory  `            | True                                       |\n",
    "  |`articleType  `        | True                                   |\n",
    "  |`baseColour  `           | True                  |\n",
    "  |`season  `           | True                    |\n",
    "  |`year  `          | False (to datetime)                                                                     |\n",
    "  |`usage  `         | True                                                             |\n",
    "  |`productDisplayName  `       | True                                                    |"
   ]
  },
  {
   "cell_type": "markdown",
   "id": "42889499",
   "metadata": {},
   "source": [
    "#### **_01.7.3. `transaction` table:_**"
   ]
  },
  {
   "cell_type": "code",
   "execution_count": 125,
   "id": "8ca77e7c",
   "metadata": {},
   "outputs": [
    {
     "data": {
      "text/plain": [
       "created_at                 object\n",
       "customer_id                 int64\n",
       "booking_id                 object\n",
       "session_id                 object\n",
       "payment_method             object\n",
       "payment_status             object\n",
       "promo_amount                int64\n",
       "promo_code                 object\n",
       "shipment_fee                int64\n",
       "shipment_date_limit        object\n",
       "shipment_location_lat     float64\n",
       "shipment_location_long    float64\n",
       "total_amount                int64\n",
       "product_id                  int64\n",
       "quantity                    int64\n",
       "item_price                  int64\n",
       "dtype: object"
      ]
     },
     "execution_count": 125,
     "metadata": {},
     "output_type": "execute_result"
    }
   ],
   "source": [
    "df_transaction.dtypes"
   ]
  },
  {
   "cell_type": "markdown",
   "id": "69c9ddbf",
   "metadata": {},
   "source": [
    "- `customer_id`, `booking_id`, `session_id`, `product_metadata`, `payment_method`, `payment_status`, `promo_amount`, `promo_code`, `shipment_fee` ,`shipment_location_lat` , `shipment_location_long` , `total_amount`: phù hợp\n",
    "- `created_at` , `shipment_date_limit  `: chuyển về datetime\n",
    "\n",
    "\n",
    "  | Cột               | Kiểu dữ liệu có phù hợp |\n",
    "  |-------------------|-------------------------|\n",
    "  |`created_at `         | False (to datetime)                           |\n",
    "  |`customer_id  `            | True              |\n",
    "  |`booking_id  `             | True         |\n",
    "  |`session_id  `            | True                                      |\n",
    "  |`product_metadata  `        | True                                  |\n",
    "  |`payment_method  `           | True                   |\n",
    "  |`payment_status  `           | True                  |\n",
    "  |`promo_amount  `          | True                                                            |\n",
    "  |`promo_code  `         | True                                                        |\n",
    "  |`shipment_fee  `       | True                                            |\n",
    "  |`shipment_date_limit  `         | False (to datetime)                                   |\n",
    "  |`shipment_location_lat  `          | True           |\n",
    "  |`shipment_location_long  `        | True                      |\n",
    "  |`total_amount  `              | True                              |"
   ]
  },
  {
   "cell_type": "markdown",
   "id": "3ef6f1e9",
   "metadata": {},
   "source": [
    "### **_01.8. Verify the unique values within each dataset:_**"
   ]
  },
  {
   "cell_type": "code",
   "execution_count": 140,
   "id": "78064da2",
   "metadata": {},
   "outputs": [
    {
     "name": "stdout",
     "output_type": "stream",
     "text": [
      "[ 2870  8193  7279 ... 32818 75597 40573]\n",
      "['F' 'M']\n",
      "['iOS' 'Android']\n",
      "['Sumatera Barat' 'Jakarta Raya' 'Nusa Tenggara Barat' 'Kalimantan Timur'\n",
      " 'Kalimantan Selatan' 'Kepulauan Riau' 'Bengkulu' 'Jawa Barat'\n",
      " 'Nusa Tenggara Timur' 'Yogyakarta' 'Jawa Timur' 'Jawa Tengah'\n",
      " 'Sulawesi Tenggara' 'Lampung' 'Bangka Belitung' 'Maluku' 'Sulawesi Utara'\n",
      " 'Sulawesi Barat' 'Jambi' 'Kalimantan Tengah' 'Sumatera Utara'\n",
      " 'Kalimantan Barat' 'Papua Barat' 'Sulawesi Selatan' 'Maluku Utara'\n",
      " 'Banten' 'Bali' 'Riau' 'Sumatera Selatan' 'Aceh' 'Papua'\n",
      " 'Sulawesi Tengah' 'Gorontalo']\n",
      "['Indonesia']\n"
     ]
    }
   ],
   "source": [
    "print(df_customer['customer_id'].unique())\n",
    "print(df_customer['gender'].unique())\n",
    "print(df_customer['device_type'].unique())\n",
    "print(df_customer['home_location'].unique())\n",
    "print(df_customer['home_country'].unique())"
   ]
  },
  {
   "cell_type": "code",
   "execution_count": 137,
   "id": "8cbcf917",
   "metadata": {},
   "outputs": [
    {
     "name": "stdout",
     "output_type": "stream",
     "text": [
      "['Men' 'Women' 'Boys' 'Girls' 'Unisex']\n",
      "['Apparel' 'Accessories' 'Footwear' 'Personal Care' 'Free Items'\n",
      " 'Sporting Goods' 'Home']\n",
      "['Topwear' 'Bottomwear' 'Watches' 'Socks' 'Shoes' 'Belts' 'Flip Flops'\n",
      " 'Bags' 'Innerwear' 'Sandal' 'Shoe Accessories' 'Fragrance' 'Jewellery'\n",
      " 'Lips' 'Saree' 'Eyewear' 'Scarves' 'Dress' 'Loungewear and Nightwear'\n",
      " 'Wallets' 'Apparel Set' 'Headwear' 'Mufflers' 'Skin Care' 'Makeup'\n",
      " 'Free Gifts' 'Ties' 'Accessories' 'Nails' 'Beauty Accessories'\n",
      " 'Water Bottle' 'Skin' 'Eyes' 'Bath and Body' 'Gloves'\n",
      " 'Sports Accessories' 'Cufflinks' 'Sports Equipment' 'Stoles' 'Hair'\n",
      " 'Perfumes' 'Home Furnishing' 'Umbrellas' 'Wristbands' 'Vouchers']\n",
      "['Shirts' 'Jeans' 'Watches' 'Track Pants' 'Tshirts' 'Socks' 'Casual Shoes'\n",
      " 'Belts' 'Flip Flops' 'Handbags' 'Tops' 'Bra' 'Sandals' 'Shoe Accessories'\n",
      " 'Sweatshirts' 'Deodorant' 'Formal Shoes' 'Bracelet' 'Lipstick' 'Flats'\n",
      " 'Kurtas' 'Waistcoat' 'Sports Shoes' 'Shorts' 'Briefs' 'Sarees'\n",
      " 'Perfume and Body Mist' 'Heels' 'Sunglasses' 'Innerwear Vests' 'Pendant'\n",
      " 'Laptop Bag' 'Scarves' 'Dresses' 'Night suits' 'Skirts' 'Wallets'\n",
      " 'Blazers' 'Ring' 'Kurta Sets' 'Clutches' 'Shrug' 'Backpacks' 'Caps'\n",
      " 'Trousers' 'Earrings' 'Camisoles' 'Boxers' 'Jewellery Set' 'Dupatta'\n",
      " 'Capris' 'Lip Gloss' 'Bath Robe' 'Mufflers' 'Tunics' 'Jackets' 'Trunk'\n",
      " 'Lounge Pants' 'Face Wash and Cleanser' 'Necklace and Chains'\n",
      " 'Duffel Bag' 'Sports Sandals' 'Foundation and Primer' 'Sweaters'\n",
      " 'Free Gifts' 'Trolley Bag' 'Tracksuits' 'Swimwear' 'Shoe Laces'\n",
      " 'Fragrance Gift Set' 'Bangle' 'Nightdress' 'Ties' 'Baby Dolls' 'Leggings'\n",
      " 'Highlighter and Blush' 'Travel Accessory' 'Kurtis' 'Mobile Pouch'\n",
      " 'Messenger Bag' 'Lip Care' 'Nail Polish' 'Eye Cream' 'Accessory Gift Set'\n",
      " 'Beauty Accessory' 'Jumpsuit' 'Kajal and Eyeliner' 'Water Bottle'\n",
      " 'Suspenders' 'Face Moisturisers' 'Lip Liner' 'Robe' 'Salwar and Dupatta'\n",
      " 'Patiala' 'Stockings' 'Eyeshadow' 'Headband' 'Tights' 'Nail Essentials'\n",
      " 'Churidar' 'Lounge Tshirts' 'Face Scrub and Exfoliator' 'Lounge Shorts'\n",
      " 'Gloves' 'Wristbands' 'Tablet Sleeve' 'Ties and Cufflinks' 'Footballs'\n",
      " 'Compact' 'Stoles' 'Shapewear' 'Nehru Jackets' 'Salwar' 'Cufflinks'\n",
      " 'Jeggings' 'Hair Colour' 'Concealer' 'Rompers' 'Sunscreen' 'Booties'\n",
      " 'Mask and Peel' 'Waist Pouch' 'Hair Accessory' 'Body Lotion' 'Rucksacks'\n",
      " 'Basketballs' 'Lehenga Choli' 'Clothing Set' 'Mascara' 'Cushion Covers'\n",
      " 'Key chain' 'Rain Jacket' 'Toner' 'Lip Plumper' 'Umbrellas'\n",
      " 'Face Serum and Gel' 'Hat' 'Mens Grooming Kit' 'Makeup Remover'\n",
      " 'Body Wash and Scrub' 'Suits' 'Ipad']\n",
      "['Navy Blue' 'Blue' 'Silver' 'Black' 'Grey' 'Green' 'Purple' 'White'\n",
      " 'Beige' 'Brown' 'Bronze' 'Teal' 'Copper' 'Pink' 'Off White' 'Maroon'\n",
      " 'Red' 'Khaki' 'Orange' 'Yellow' 'Charcoal' 'Gold' 'Steel' 'Tan' 'Multi'\n",
      " 'Magenta' 'Lavender' 'Sea Green' 'Cream' 'Peach' 'Olive' 'Skin'\n",
      " 'Burgundy' 'Coffee Brown' 'Grey Melange' 'Rust' 'Rose' 'Lime Green'\n",
      " 'Mauve' 'Turquoise Blue' 'Metallic' 'Mustard' 'Taupe' 'Nude'\n",
      " 'Mushroom Brown' 'Fluorescent Green']\n",
      "['Fall' 'Summer' 'Winter' 'Spring']\n",
      "['Casual' 'Ethnic' 'Formal' 'Sports' 'Smart Casual' 'Travel' 'Party'\n",
      " 'Home']\n"
     ]
    }
   ],
   "source": [
    "print(df_product['gender'].unique())\n",
    "print(df_product['masterCategory'].unique())\n",
    "print(df_product['subCategory'].unique())\n",
    "print(df_product['articleType'].unique())\n",
    "print(df_product['baseColour'].unique())\n",
    "print(df_product['season'].unique())\n",
    "print(df_product['usage'].unique())"
   ]
  },
  {
   "cell_type": "code",
   "execution_count": 139,
   "id": "95c3e6c6",
   "metadata": {},
   "outputs": [
    {
     "name": "stdout",
     "output_type": "stream",
     "text": [
      "['Debit Card' 'Credit Card' 'OVO' 'LinkAja' 'Gopay']\n",
      "['Success' 'Failed']\n"
     ]
    }
   ],
   "source": [
    "print(df_transaction['payment_method'].unique())\n",
    "print(df_transaction['payment_status'].unique())"
   ]
  },
  {
   "cell_type": "markdown",
   "id": "0ac6bfcc",
   "metadata": {},
   "source": [
    "---"
   ]
  },
  {
   "cell_type": "markdown",
   "id": "1aba79e8",
   "metadata": {},
   "source": [
    "## **_02. Pre-processing Data:_**"
   ]
  },
  {
   "cell_type": "markdown",
   "id": "63e0dc64",
   "metadata": {},
   "source": [
    "### **_02.1. Convert data types:_**"
   ]
  },
  {
   "cell_type": "markdown",
   "id": "c47b07e3",
   "metadata": {},
   "source": [
    "Ta sẽ chuyển những cột có kiểu không phù hợp về dạng thích hợp như đã đề cập ở phần 1"
   ]
  },
  {
   "cell_type": "code",
   "execution_count": 129,
   "id": "48e3aa31",
   "metadata": {},
   "outputs": [],
   "source": [
    "# Chuyển về kiểu datetime bằng pd.to_datetime cả ba bộ dữ liệu\n",
    "df_customer['birthdate'] = pd.to_datetime(df_customer['birthdate'],format= '%Y-%m-%d' )\n",
    "df_customer['first_join_date'] = pd.to_datetime(df_customer['first_join_date'], format='%Y-%m-%d')\n",
    "\n",
    "df_product['year'] = pd.to_datetime(df_product['year'], format='%Y')\n",
    "\n",
    "df_transaction['created_at'] = pd.to_datetime(df_transaction['created_at'])\n",
    "df_transaction['shipment_date_limit'] = pd.to_datetime(df_transaction['shipment_date_limit'])"
   ]
  },
  {
   "cell_type": "markdown",
   "id": "aa13e029",
   "metadata": {},
   "source": [
    "_Bây giờ ta có thể thấy, tất cả dữ liệu đều hợp lệ_"
   ]
  },
  {
   "cell_type": "code",
   "execution_count": 130,
   "id": "64b1c7cd",
   "metadata": {},
   "outputs": [
    {
     "data": {
      "text/plain": [
       "customer_id                    int64\n",
       "first_name                    object\n",
       "last_name                     object\n",
       "username                      object\n",
       "email                         object\n",
       "gender                        object\n",
       "birthdate             datetime64[ns]\n",
       "device_type                   object\n",
       "device_id                     object\n",
       "device_version                object\n",
       "home_location_lat            float64\n",
       "home_location_long           float64\n",
       "home_location                 object\n",
       "home_country                  object\n",
       "first_join_date       datetime64[ns]\n",
       "dtype: object"
      ]
     },
     "execution_count": 130,
     "metadata": {},
     "output_type": "execute_result"
    }
   ],
   "source": [
    "df_customer.dtypes"
   ]
  },
  {
   "cell_type": "code",
   "execution_count": 131,
   "id": "f867fc43",
   "metadata": {},
   "outputs": [
    {
     "data": {
      "text/plain": [
       "id                             int64\n",
       "gender                        object\n",
       "masterCategory                object\n",
       "subCategory                   object\n",
       "articleType                   object\n",
       "baseColour                    object\n",
       "season                        object\n",
       "year                  datetime64[ns]\n",
       "usage                         object\n",
       "productDisplayName            object\n",
       "dtype: object"
      ]
     },
     "execution_count": 131,
     "metadata": {},
     "output_type": "execute_result"
    }
   ],
   "source": [
    "df_product.dtypes"
   ]
  },
  {
   "cell_type": "code",
   "execution_count": 132,
   "id": "998710a5",
   "metadata": {},
   "outputs": [
    {
     "data": {
      "text/plain": [
       "created_at                datetime64[ns, UTC]\n",
       "customer_id                             int64\n",
       "booking_id                             object\n",
       "session_id                             object\n",
       "payment_method                         object\n",
       "payment_status                         object\n",
       "promo_amount                            int64\n",
       "promo_code                             object\n",
       "shipment_fee                            int64\n",
       "shipment_date_limit       datetime64[ns, UTC]\n",
       "shipment_location_lat                 float64\n",
       "shipment_location_long                float64\n",
       "total_amount                            int64\n",
       "product_id                              int64\n",
       "quantity                                int64\n",
       "item_price                              int64\n",
       "dtype: object"
      ]
     },
     "execution_count": 132,
     "metadata": {},
     "output_type": "execute_result"
    }
   ],
   "source": [
    "df_transaction.dtypes"
   ]
  },
  {
   "cell_type": "markdown",
   "id": "83f42ae5",
   "metadata": {},
   "source": [
    "### **_02.2. Process missing values:_**"
   ]
  },
  {
   "cell_type": "markdown",
   "id": "15bd8e47",
   "metadata": {},
   "source": [
    "Như đã đề cập như ở trên, trong tập dữ liệu `product` chúng ta có thể thấy rằng cột dữ lệu `baseColour`, `season`, `year`, `usage`, `productDisplayName` có giá trị thiếu, tuy nhiên chúng chỉ chiếm một phần nhỏ nên chúng ta sẽ tiến hành xóa các cột bị thiếu đi"
   ]
  },
  {
   "cell_type": "code",
   "execution_count": 133,
   "id": "f48035f8",
   "metadata": {},
   "outputs": [
    {
     "data": {
      "text/plain": [
       "id                      0\n",
       "gender                  0\n",
       "masterCategory          0\n",
       "subCategory             0\n",
       "articleType             0\n",
       "baseColour             15\n",
       "season                 21\n",
       "year                    1\n",
       "usage                 317\n",
       "productDisplayName      7\n",
       "dtype: int64"
      ]
     },
     "execution_count": 133,
     "metadata": {},
     "output_type": "execute_result"
    }
   ],
   "source": [
    "df_product.isnull().sum()"
   ]
  },
  {
   "cell_type": "code",
   "execution_count": 134,
   "id": "6bcf9c50",
   "metadata": {},
   "outputs": [
    {
     "data": {
      "text/plain": [
       "id                    0\n",
       "gender                0\n",
       "masterCategory        0\n",
       "subCategory           0\n",
       "articleType           0\n",
       "baseColour            0\n",
       "season                0\n",
       "year                  0\n",
       "usage                 0\n",
       "productDisplayName    0\n",
       "dtype: int64"
      ]
     },
     "execution_count": 134,
     "metadata": {},
     "output_type": "execute_result"
    }
   ],
   "source": [
    "df_product = df_product.dropna(axis=0).reset_index(drop = True)\n",
    "df_product.isnull().sum()"
   ]
  },
  {
   "cell_type": "markdown",
   "id": "17e036a7",
   "metadata": {},
   "source": [
    "Đối với bộ dữ liệu `transaction` chúng ta có cột `promo_code` thiếu rất nhiều giá trị, vì vậy chúng ta sẽ thực hiện xóa cột này đi"
   ]
  },
  {
   "cell_type": "code",
   "execution_count": 135,
   "id": "dc75b4eb",
   "metadata": {},
   "outputs": [
    {
     "data": {
      "text/plain": [
       "created_at                     0\n",
       "customer_id                    0\n",
       "booking_id                     0\n",
       "session_id                     0\n",
       "payment_method                 0\n",
       "payment_status                 0\n",
       "promo_amount                   0\n",
       "promo_code                773446\n",
       "shipment_fee                   0\n",
       "shipment_date_limit            0\n",
       "shipment_location_lat          0\n",
       "shipment_location_long         0\n",
       "total_amount                   0\n",
       "product_id                     0\n",
       "quantity                       0\n",
       "item_price                     0\n",
       "dtype: int64"
      ]
     },
     "execution_count": 135,
     "metadata": {},
     "output_type": "execute_result"
    }
   ],
   "source": [
    "df_transaction.isnull().sum()"
   ]
  },
  {
   "cell_type": "code",
   "execution_count": 136,
   "id": "564f0f8b",
   "metadata": {},
   "outputs": [
    {
     "data": {
      "text/plain": [
       "created_at                0\n",
       "customer_id               0\n",
       "booking_id                0\n",
       "session_id                0\n",
       "payment_method            0\n",
       "payment_status            0\n",
       "promo_amount              0\n",
       "shipment_fee              0\n",
       "shipment_date_limit       0\n",
       "shipment_location_lat     0\n",
       "shipment_location_long    0\n",
       "total_amount              0\n",
       "product_id                0\n",
       "quantity                  0\n",
       "item_price                0\n",
       "dtype: int64"
      ]
     },
     "execution_count": 136,
     "metadata": {},
     "output_type": "execute_result"
    }
   ],
   "source": [
    "df_transaction = df_transaction.drop(columns=['promo_code'])\n",
    "df_transaction.isnull().sum()"
   ]
  },
  {
   "cell_type": "markdown",
   "id": "de21b0eb",
   "metadata": {},
   "source": [
    "## **_03. Data Distribution:_**"
   ]
  },
  {
   "cell_type": "markdown",
   "id": "a3a1e2aa",
   "metadata": {},
   "source": [
    "### **_03.1. Numeric columns distribution:_**"
   ]
  },
  {
   "cell_type": "code",
   "execution_count": null,
   "id": "67e10917",
   "metadata": {},
   "outputs": [],
   "source": []
  },
  {
   "cell_type": "markdown",
   "id": "3d75785f",
   "metadata": {},
   "source": [
    "### **_03.2. Categorical columns distribution:_**"
   ]
  },
  {
   "cell_type": "code",
   "execution_count": null,
   "id": "b86f03de",
   "metadata": {},
   "outputs": [],
   "source": []
  }
 ],
 "metadata": {
  "kernelspec": {
   "display_name": "Python 3 (ipykernel)",
   "language": "python",
   "name": "python3"
  },
  "language_info": {
   "codemirror_mode": {
    "name": "ipython",
    "version": 3
   },
   "file_extension": ".py",
   "mimetype": "text/x-python",
   "name": "python",
   "nbconvert_exporter": "python",
   "pygments_lexer": "ipython3",
   "version": "3.11.5"
  },
  "vscode": {
   "interpreter": {
    "hash": "b21147f2419be4da8d7582b23aa991572aa88be9e9fd6d03988264f429b89f7c"
   }
  }
 },
 "nbformat": 4,
 "nbformat_minor": 5
}
