{
 "cells": [
  {
   "cell_type": "markdown",
   "id": "01991a12",
   "metadata": {},
   "source": [
    "# **<center>Exploring and Pre-processing Data Section</center>**"
   ]
  },
  {
   "cell_type": "markdown",
   "id": "37c5655b",
   "metadata": {},
   "source": [
    "## **<center>Table of Contents</center>**\n",
    "\n",
    "00. [Import necessary libraries:](#00.-Import-necessary-libraries:)\n",
    "01. [Exploring Data (row, column, dtypes):](#01.-Exploring-Data-(row,-column,-dtypes):)\n",
    "    1. [How many rows and how many columns?](#01.1.-How-many-rows-and-how-many-columns:)\n",
    "    2. [What is the meaning of each row?](#01.2.-What-is-the-meaning-of-each-row:)\n",
    "    3. [What is the meaning of each column?](#01.3.-What-is-the-meaning-of-each-column)\n",
    "    4. [Is data missing?](#01.4.-Is-data-missing)\n",
    "    5. [Are there duplicated rows?](#01.5.-Are-there-duplicated-rows)\n",
    "    6. [What is the current data type of each column? Are there columns having inappropriate data types?](#01.6.-What-is-the-current-data-type-of-each-column-Are-there-columns-having-inappropriate-data-types)\n",
    "    7. [Columns that exhibit concordance or disparity in terms of data types:](#01.7.-Columns-that-exhibit-concordance-or-disparity-in-terms-of-data-types)\n",
    "        1. [customer table:](#01.7.1.-customer-table:)\n",
    "        2. [product table:](#01.7.2.-product-table:)\n",
    "        3. [transaction table:](#01.7.3.-transaction-table:)\n",
    "    8. [Verify the unique values within each dataset:](#01.8.-Verify-the-unique-values-within-each-dataset:)\n",
    "02. [Pre-processing Data:](#02.-Pre-processing-Data:)\n",
    "    1. [Convert data types:](#02.1.-Convert-data-types:) \n",
    "    2. [Process missing values:](#02.2.-Process-missing-values:)\n",
    "03. [Data Distribution:](#03.-Data-Distribution:)\n",
    "    1. [Numeric columns distribution:](#03.1.-Numeric-columns-distribution:)\n",
    "    2. [Categorical columns distribution:](#03.2.-Categorical-columns-distribution:)"
   ]
  },
  {
   "cell_type": "markdown",
   "id": "a40edc95",
   "metadata": {},
   "source": [
    "## **_00. Import necessary libraries:_**"
   ]
  },
  {
   "cell_type": "code",
   "execution_count": null,
   "id": "4ec32fb6",
   "metadata": {},
   "outputs": [],
   "source": []
  },
  {
   "cell_type": "markdown",
   "id": "d89cad95",
   "metadata": {},
   "source": [
    "## **_01. Exploring Data (row, column, dtypes):_**"
   ]
  },
  {
   "cell_type": "markdown",
   "id": "44bace8c",
   "metadata": {},
   "source": [
    "### **_01.1. How many rows and how many columns?_**"
   ]
  },
  {
   "cell_type": "code",
   "execution_count": null,
   "id": "68bad21c",
   "metadata": {},
   "outputs": [],
   "source": []
  },
  {
   "cell_type": "markdown",
   "id": "040024f8",
   "metadata": {},
   "source": [
    "### **_01.2. What is the meaning of each row?_**"
   ]
  },
  {
   "cell_type": "code",
   "execution_count": null,
   "id": "1e925240",
   "metadata": {},
   "outputs": [],
   "source": []
  },
  {
   "cell_type": "markdown",
   "id": "80edb0f0",
   "metadata": {},
   "source": [
    "### **_01.3. What is the meaning of each column?_**\n"
   ]
  },
  {
   "cell_type": "code",
   "execution_count": null,
   "id": "c0f95300",
   "metadata": {},
   "outputs": [],
   "source": []
  },
  {
   "cell_type": "markdown",
   "id": "57790583",
   "metadata": {},
   "source": [
    "### **_01.4. Is data missing?_**"
   ]
  },
  {
   "cell_type": "code",
   "execution_count": null,
   "id": "21a2c626",
   "metadata": {},
   "outputs": [],
   "source": []
  },
  {
   "cell_type": "markdown",
   "id": "992aa9a2",
   "metadata": {},
   "source": [
    "### **_01.5. Are there duplicated rows?_**"
   ]
  },
  {
   "cell_type": "code",
   "execution_count": null,
   "id": "8d904e13",
   "metadata": {},
   "outputs": [],
   "source": []
  },
  {
   "cell_type": "markdown",
   "id": "77af2278",
   "metadata": {},
   "source": [
    "### **_01.6. What is the current data type of each column? Are there columns having inappropriate data types?_**"
   ]
  },
  {
   "cell_type": "code",
   "execution_count": null,
   "id": "af260062",
   "metadata": {},
   "outputs": [],
   "source": []
  },
  {
   "cell_type": "markdown",
   "id": "24c7baeb",
   "metadata": {},
   "source": [
    "### **_01.7. Columns that exhibit concordance or disparity in terms of data types:_**\n"
   ]
  },
  {
   "cell_type": "markdown",
   "id": "3df57c8c",
   "metadata": {},
   "source": [
    "#### **_01.7.1. `customer` table:_**"
   ]
  },
  {
   "cell_type": "code",
   "execution_count": null,
   "id": "7ad77e17",
   "metadata": {},
   "outputs": [],
   "source": []
  },
  {
   "cell_type": "markdown",
   "id": "7b686ab6",
   "metadata": {},
   "source": [
    "#### **_01.7.2. `product` table:_**"
   ]
  },
  {
   "cell_type": "code",
   "execution_count": null,
   "id": "4a59ba85",
   "metadata": {},
   "outputs": [],
   "source": []
  },
  {
   "cell_type": "markdown",
   "id": "42889499",
   "metadata": {},
   "source": [
    "#### **_01.7.3. `transaction` table:_**"
   ]
  },
  {
   "cell_type": "code",
   "execution_count": null,
   "id": "8ca77e7c",
   "metadata": {},
   "outputs": [],
   "source": []
  },
  {
   "cell_type": "markdown",
   "id": "3ef6f1e9",
   "metadata": {},
   "source": [
    "### **_01.8. Verify the unique values within each dataset:_**"
   ]
  },
  {
   "cell_type": "code",
   "execution_count": null,
   "id": "bb586823",
   "metadata": {},
   "outputs": [],
   "source": []
  },
  {
   "cell_type": "markdown",
   "id": "1aba79e8",
   "metadata": {},
   "source": [
    "## **_02. Pre-processing Data:_**"
   ]
  },
  {
   "cell_type": "markdown",
   "id": "2638cba2",
   "metadata": {},
   "source": [
    "### **_02.1. Convert data types:_**"
   ]
  },
  {
   "cell_type": "code",
   "execution_count": null,
   "id": "483950bf",
   "metadata": {},
   "outputs": [],
   "source": []
  },
  {
   "cell_type": "markdown",
   "id": "578f1689",
   "metadata": {},
   "source": [
    "### **_02.2. Process missing values:_**"
   ]
  },
  {
   "cell_type": "code",
   "execution_count": null,
   "id": "4ccff9b6",
   "metadata": {},
   "outputs": [],
   "source": []
  },
  {
   "cell_type": "markdown",
   "id": "de21b0eb",
   "metadata": {},
   "source": [
    "## **_03. Data Distribution:_**"
   ]
  },
  {
   "cell_type": "markdown",
   "id": "baa1a14a",
   "metadata": {},
   "source": [
    "### **_03.1. Numeric columns distribution:_**"
   ]
  },
  {
   "cell_type": "code",
   "execution_count": null,
   "id": "67e10917",
   "metadata": {},
   "outputs": [],
   "source": []
  },
  {
   "cell_type": "markdown",
   "id": "3d75785f",
   "metadata": {},
   "source": [
    "### **_03.2. Categorical columns distribution:_**"
   ]
  },
  {
   "cell_type": "code",
   "execution_count": null,
   "id": "b86f03de",
   "metadata": {},
   "outputs": [],
   "source": []
  }
 ],
 "metadata": {
  "kernelspec": {
   "display_name": "Python 3 (ipykernel)",
   "language": "python",
   "name": "python3"
  },
  "language_info": {
   "codemirror_mode": {
    "name": "ipython",
    "version": 3
   },
   "file_extension": ".py",
   "mimetype": "text/x-python",
   "name": "python",
   "nbconvert_exporter": "python",
   "pygments_lexer": "ipython3",
   "version": "3.11.5"
  },
  "vscode": {
   "interpreter": {
    "hash": "b21147f2419be4da8d7582b23aa991572aa88be9e9fd6d03988264f429b89f7c"
   }
  }
 },
 "nbformat": 4,
 "nbformat_minor": 5
}
