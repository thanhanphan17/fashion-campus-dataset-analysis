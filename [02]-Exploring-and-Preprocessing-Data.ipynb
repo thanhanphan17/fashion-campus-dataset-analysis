{
 "cells": [
  {
   "cell_type": "markdown",
   "id": "01991a12",
   "metadata": {},
   "source": [
    "# **<center>Exploring and Pre-processing Data Section</center>**"
   ]
  },
  {
   "cell_type": "markdown",
   "id": "37c5655b",
   "metadata": {},
   "source": [
    "## **<center>Table of Contents</center>**\n",
    "\n",
    "00. [Import necessary libraries:](#00.-Import-necessary-libraries:)\n",
    "01. [Exploring Data (row, column, dtypes):](#01.-Exploring-Data-(row,-column,-dtypes):)\n",
    "    1. [How many rows and how many columns?](#01.1.-How-many-rows-and-how-many-columns:)\n",
    "    2. [What is the meaning of each row?](#01.2.-What-is-the-meaning-of-each-row:)\n",
    "    3. [What is the meaning of each column?](#01.3.-What-is-the-meaning-of-each-column)\n",
    "    4. [Is data missing?](#01.4.-Is-data-missing)\n",
    "    5. [Are there duplicated rows?](#01.5.-Are-there-duplicated-rows)\n",
    "    6. [What is the current data type of each column? Are there columns having inappropriate data types?](#01.6.-What-is-the-current-data-type-of-each-column-Are-there-columns-having-inappropriate-data-types)\n",
    "    7. [Columns that exhibit concordance or disparity in terms of data types:](#01.7.-Columns-that-exhibit-concordance-or-disparity-in-terms-of-data-types)\n",
    "        1. [customer table:](#01.7.1.-customer-table:)\n",
    "        2. [product table:](#01.7.2.-product-table:)\n",
    "        3. [transaction table:](#01.7.3.-transaction-table:)\n",
    "    8. [Verify the unique values within each dataset:](#01.8.-Verify-the-unique-values-within-each-dataset:)\n",
    "02. [Pre-processing Data:](#02.-Pre-processing-Data:)\n",
    "    1. [Convert data types:](#02.1.-Convert-data-types:) \n",
    "    2. [Process missing values:](#02.2.-Process-missing-values:)\n",
    "03. [Data Distribution:](#03.-Data-Distribution:)\n",
    "    1. [Numeric columns distribution:](#03.1.-Numeric-columns-distribution:)\n",
    "    2. [Categorical columns distribution:](#03.2.-Categorical-columns-distribution:)"
   ]
  },
  {
   "cell_type": "markdown",
   "id": "a40edc95",
   "metadata": {},
   "source": [
    "## **_00. Import necessary libraries:_**"
   ]
  },
  {
   "cell_type": "code",
   "execution_count": 37,
   "id": "4ec32fb6",
   "metadata": {},
   "outputs": [],
   "source": [
    "import numpy as np\n",
    "import pandas as pd\n",
    "import matplotlib.pyplot as plt\n",
    "import seaborn as sns\n",
    "\n",
    "pd.set_option('display.max_columns', None)"
   ]
  },
  {
   "cell_type": "markdown",
   "id": "d89cad95",
   "metadata": {},
   "source": [
    "## **_01. Exploring Data (row, column, dtypes):_**"
   ]
  },
  {
   "cell_type": "markdown",
   "id": "9cb1cd6e",
   "metadata": {},
   "source": [
    "- Chúng ta sẽ thực hiện phân tích cả ba bộ dữ liệu gồm: customer, product và transaction"
   ]
  },
  {
   "cell_type": "code",
   "execution_count": 38,
   "id": "5b5bf274",
   "metadata": {},
   "outputs": [
    {
     "data": {
      "text/html": [
       "<div>\n",
       "<style scoped>\n",
       "    .dataframe tbody tr th:only-of-type {\n",
       "        vertical-align: middle;\n",
       "    }\n",
       "\n",
       "    .dataframe tbody tr th {\n",
       "        vertical-align: top;\n",
       "    }\n",
       "\n",
       "    .dataframe thead th {\n",
       "        text-align: right;\n",
       "    }\n",
       "</style>\n",
       "<table border=\"1\" class=\"dataframe\">\n",
       "  <thead>\n",
       "    <tr style=\"text-align: right;\">\n",
       "      <th></th>\n",
       "      <th>customer_id</th>\n",
       "      <th>first_name</th>\n",
       "      <th>last_name</th>\n",
       "      <th>username</th>\n",
       "      <th>email</th>\n",
       "      <th>gender</th>\n",
       "      <th>birthdate</th>\n",
       "      <th>device_type</th>\n",
       "      <th>device_id</th>\n",
       "      <th>device_version</th>\n",
       "      <th>home_location_lat</th>\n",
       "      <th>home_location_long</th>\n",
       "      <th>home_location</th>\n",
       "      <th>home_country</th>\n",
       "      <th>first_join_date</th>\n",
       "    </tr>\n",
       "  </thead>\n",
       "  <tbody>\n",
       "    <tr>\n",
       "      <th>0</th>\n",
       "      <td>2870</td>\n",
       "      <td>Lala</td>\n",
       "      <td>Maryati</td>\n",
       "      <td>671a0865-ac4e-4dc4-9c4f-c286a1176f7e</td>\n",
       "      <td>671a0865_ac4e_4dc4_9c4f_c286a1176f7e@startupca...</td>\n",
       "      <td>F</td>\n",
       "      <td>1996-06-14</td>\n",
       "      <td>iOS</td>\n",
       "      <td>c9c0de76-0a6c-4ac2-843f-65264ab9fe63</td>\n",
       "      <td>iPhone; CPU iPhone OS 14_2_1 like Mac OS X</td>\n",
       "      <td>-1.043345</td>\n",
       "      <td>101.360523</td>\n",
       "      <td>Sumatera Barat</td>\n",
       "      <td>Indonesia</td>\n",
       "      <td>2019-07-21</td>\n",
       "    </tr>\n",
       "    <tr>\n",
       "      <th>1</th>\n",
       "      <td>8193</td>\n",
       "      <td>Maimunah</td>\n",
       "      <td>Laksmiwati</td>\n",
       "      <td>83be2ba7-8133-48a4-bbcb-b46a2762473f</td>\n",
       "      <td>83be2ba7_8133_48a4_bbcb_b46a2762473f@zakyfound...</td>\n",
       "      <td>F</td>\n",
       "      <td>1993-08-16</td>\n",
       "      <td>Android</td>\n",
       "      <td>fb331c3d-f42e-40fe-afe2-b4b73a8a6e25</td>\n",
       "      <td>Android 2.2.1</td>\n",
       "      <td>-6.212489</td>\n",
       "      <td>106.818850</td>\n",
       "      <td>Jakarta Raya</td>\n",
       "      <td>Indonesia</td>\n",
       "      <td>2017-07-16</td>\n",
       "    </tr>\n",
       "    <tr>\n",
       "      <th>2</th>\n",
       "      <td>7279</td>\n",
       "      <td>Bakiman</td>\n",
       "      <td>Simanjuntak</td>\n",
       "      <td>3250e5a3-1d23-4675-a647-3281879d42be</td>\n",
       "      <td>3250e5a3_1d23_4675_a647_3281879d42be@startupca...</td>\n",
       "      <td>M</td>\n",
       "      <td>1989-01-23</td>\n",
       "      <td>iOS</td>\n",
       "      <td>d13dde0a-6ae1-43c3-83a7-11bbb922730b</td>\n",
       "      <td>iPad; CPU iPad OS 4_2_1 like Mac OS X</td>\n",
       "      <td>-8.631607</td>\n",
       "      <td>116.428436</td>\n",
       "      <td>Nusa Tenggara Barat</td>\n",
       "      <td>Indonesia</td>\n",
       "      <td>2020-08-23</td>\n",
       "    </tr>\n",
       "    <tr>\n",
       "      <th>3</th>\n",
       "      <td>88813</td>\n",
       "      <td>Cahyadi</td>\n",
       "      <td>Maheswara</td>\n",
       "      <td>df797edf-b465-4a80-973b-9fbb612260c2</td>\n",
       "      <td>df797edf_b465_4a80_973b_9fbb612260c2@zakyfound...</td>\n",
       "      <td>M</td>\n",
       "      <td>1991-01-05</td>\n",
       "      <td>iOS</td>\n",
       "      <td>f4c18515-c5be-419f-8142-f037be47c9cd</td>\n",
       "      <td>iPad; CPU iPad OS 14_2 like Mac OS X</td>\n",
       "      <td>1.299332</td>\n",
       "      <td>115.774934</td>\n",
       "      <td>Kalimantan Timur</td>\n",
       "      <td>Indonesia</td>\n",
       "      <td>2021-10-03</td>\n",
       "    </tr>\n",
       "    <tr>\n",
       "      <th>4</th>\n",
       "      <td>82542</td>\n",
       "      <td>Irnanto</td>\n",
       "      <td>Wijaya</td>\n",
       "      <td>36ab08e1-03de-42a8-9e3b-59528c798824</td>\n",
       "      <td>36ab08e1_03de_42a8_9e3b_59528c798824@startupca...</td>\n",
       "      <td>M</td>\n",
       "      <td>2000-07-15</td>\n",
       "      <td>iOS</td>\n",
       "      <td>e46e4c36-4630-4736-8fcf-663db29ca3b0</td>\n",
       "      <td>iPhone; CPU iPhone OS 10_3_3 like Mac OS X</td>\n",
       "      <td>-2.980807</td>\n",
       "      <td>114.924675</td>\n",
       "      <td>Kalimantan Selatan</td>\n",
       "      <td>Indonesia</td>\n",
       "      <td>2021-04-11</td>\n",
       "    </tr>\n",
       "  </tbody>\n",
       "</table>\n",
       "</div>"
      ],
      "text/plain": [
       "   customer_id first_name    last_name                              username  \\\n",
       "0         2870       Lala      Maryati  671a0865-ac4e-4dc4-9c4f-c286a1176f7e   \n",
       "1         8193   Maimunah   Laksmiwati  83be2ba7-8133-48a4-bbcb-b46a2762473f   \n",
       "2         7279    Bakiman  Simanjuntak  3250e5a3-1d23-4675-a647-3281879d42be   \n",
       "3        88813    Cahyadi    Maheswara  df797edf-b465-4a80-973b-9fbb612260c2   \n",
       "4        82542    Irnanto       Wijaya  36ab08e1-03de-42a8-9e3b-59528c798824   \n",
       "\n",
       "                                               email gender   birthdate  \\\n",
       "0  671a0865_ac4e_4dc4_9c4f_c286a1176f7e@startupca...      F  1996-06-14   \n",
       "1  83be2ba7_8133_48a4_bbcb_b46a2762473f@zakyfound...      F  1993-08-16   \n",
       "2  3250e5a3_1d23_4675_a647_3281879d42be@startupca...      M  1989-01-23   \n",
       "3  df797edf_b465_4a80_973b_9fbb612260c2@zakyfound...      M  1991-01-05   \n",
       "4  36ab08e1_03de_42a8_9e3b_59528c798824@startupca...      M  2000-07-15   \n",
       "\n",
       "  device_type                             device_id  \\\n",
       "0         iOS  c9c0de76-0a6c-4ac2-843f-65264ab9fe63   \n",
       "1     Android  fb331c3d-f42e-40fe-afe2-b4b73a8a6e25   \n",
       "2         iOS  d13dde0a-6ae1-43c3-83a7-11bbb922730b   \n",
       "3         iOS  f4c18515-c5be-419f-8142-f037be47c9cd   \n",
       "4         iOS  e46e4c36-4630-4736-8fcf-663db29ca3b0   \n",
       "\n",
       "                               device_version  home_location_lat  \\\n",
       "0  iPhone; CPU iPhone OS 14_2_1 like Mac OS X          -1.043345   \n",
       "1                               Android 2.2.1          -6.212489   \n",
       "2       iPad; CPU iPad OS 4_2_1 like Mac OS X          -8.631607   \n",
       "3        iPad; CPU iPad OS 14_2 like Mac OS X           1.299332   \n",
       "4  iPhone; CPU iPhone OS 10_3_3 like Mac OS X          -2.980807   \n",
       "\n",
       "   home_location_long        home_location home_country first_join_date  \n",
       "0          101.360523       Sumatera Barat    Indonesia      2019-07-21  \n",
       "1          106.818850         Jakarta Raya    Indonesia      2017-07-16  \n",
       "2          116.428436  Nusa Tenggara Barat    Indonesia      2020-08-23  \n",
       "3          115.774934     Kalimantan Timur    Indonesia      2021-10-03  \n",
       "4          114.924675   Kalimantan Selatan    Indonesia      2021-04-11  "
      ]
     },
     "execution_count": 38,
     "metadata": {},
     "output_type": "execute_result"
    }
   ],
   "source": [
    "df_customer = pd.read_csv(\"Data/customer.csv\")\n",
    "df_customer.head()"
   ]
  },
  {
   "cell_type": "code",
   "execution_count": 39,
   "id": "77a35fb2",
   "metadata": {},
   "outputs": [
    {
     "data": {
      "text/html": [
       "<div>\n",
       "<style scoped>\n",
       "    .dataframe tbody tr th:only-of-type {\n",
       "        vertical-align: middle;\n",
       "    }\n",
       "\n",
       "    .dataframe tbody tr th {\n",
       "        vertical-align: top;\n",
       "    }\n",
       "\n",
       "    .dataframe thead th {\n",
       "        text-align: right;\n",
       "    }\n",
       "</style>\n",
       "<table border=\"1\" class=\"dataframe\">\n",
       "  <thead>\n",
       "    <tr style=\"text-align: right;\">\n",
       "      <th></th>\n",
       "      <th>created_at</th>\n",
       "      <th>customer_id</th>\n",
       "      <th>booking_id</th>\n",
       "      <th>session_id</th>\n",
       "      <th>payment_method</th>\n",
       "      <th>payment_status</th>\n",
       "      <th>promo_amount</th>\n",
       "      <th>promo_code</th>\n",
       "      <th>shipment_fee</th>\n",
       "      <th>shipment_date_limit</th>\n",
       "      <th>shipment_location_lat</th>\n",
       "      <th>shipment_location_long</th>\n",
       "      <th>total_amount</th>\n",
       "      <th>product_id</th>\n",
       "      <th>quantity</th>\n",
       "      <th>item_price</th>\n",
       "    </tr>\n",
       "  </thead>\n",
       "  <tbody>\n",
       "    <tr>\n",
       "      <th>0</th>\n",
       "      <td>2018-07-29T15:22:01.458193Z</td>\n",
       "      <td>5868</td>\n",
       "      <td>186e2bee-0637-4710-8981-50c2d737bc42</td>\n",
       "      <td>3abaa6ce-e320-4e51-9469-d9f3fa328e86</td>\n",
       "      <td>Debit Card</td>\n",
       "      <td>Success</td>\n",
       "      <td>1415</td>\n",
       "      <td>WEEKENDSERU</td>\n",
       "      <td>10000</td>\n",
       "      <td>2018-08-03T05:07:24.812676Z</td>\n",
       "      <td>-8.227893</td>\n",
       "      <td>111.969107</td>\n",
       "      <td>199832</td>\n",
       "      <td>54728</td>\n",
       "      <td>1</td>\n",
       "      <td>191247</td>\n",
       "    </tr>\n",
       "    <tr>\n",
       "      <th>1</th>\n",
       "      <td>2018-07-30T12:40:22.365620Z</td>\n",
       "      <td>4774</td>\n",
       "      <td>caadb57b-e808-4f94-9e96-8a7d4c9898db</td>\n",
       "      <td>2ee5ead1-f13e-4759-92df-7ff48475e970</td>\n",
       "      <td>Credit Card</td>\n",
       "      <td>Success</td>\n",
       "      <td>0</td>\n",
       "      <td>NaN</td>\n",
       "      <td>10000</td>\n",
       "      <td>2018-08-03T01:29:03.415705Z</td>\n",
       "      <td>3.013470</td>\n",
       "      <td>107.802514</td>\n",
       "      <td>155526</td>\n",
       "      <td>16193</td>\n",
       "      <td>1</td>\n",
       "      <td>145526</td>\n",
       "    </tr>\n",
       "    <tr>\n",
       "      <th>2</th>\n",
       "      <td>2018-09-15T11:51:17.365620Z</td>\n",
       "      <td>4774</td>\n",
       "      <td>6000fffb-9c1a-4f4a-9296-bc8f6b622b50</td>\n",
       "      <td>93325fb6-eb00-4268-bb0e-6471795a0ad0</td>\n",
       "      <td>OVO</td>\n",
       "      <td>Success</td>\n",
       "      <td>0</td>\n",
       "      <td>NaN</td>\n",
       "      <td>10000</td>\n",
       "      <td>2018-09-18T08:41:49.422380Z</td>\n",
       "      <td>-2.579428</td>\n",
       "      <td>115.743885</td>\n",
       "      <td>550696</td>\n",
       "      <td>53686</td>\n",
       "      <td>4</td>\n",
       "      <td>135174</td>\n",
       "    </tr>\n",
       "    <tr>\n",
       "      <th>3</th>\n",
       "      <td>2018-11-01T11:23:48.365620Z</td>\n",
       "      <td>4774</td>\n",
       "      <td>f5e530a7-4350-4cd1-a3bc-525b5037bcab</td>\n",
       "      <td>bcad5a61-1b67-448d-8ff4-781d67bc56e4</td>\n",
       "      <td>Credit Card</td>\n",
       "      <td>Success</td>\n",
       "      <td>0</td>\n",
       "      <td>NaN</td>\n",
       "      <td>0</td>\n",
       "      <td>2018-11-05T17:42:27.954235Z</td>\n",
       "      <td>-3.602334</td>\n",
       "      <td>120.363824</td>\n",
       "      <td>271012</td>\n",
       "      <td>20228</td>\n",
       "      <td>1</td>\n",
       "      <td>271012</td>\n",
       "    </tr>\n",
       "    <tr>\n",
       "      <th>4</th>\n",
       "      <td>2018-12-18T11:20:30.365620Z</td>\n",
       "      <td>4774</td>\n",
       "      <td>0efc0594-dbbf-4f9a-b0b0-a488cfddf8a2</td>\n",
       "      <td>df1042ab-13e6-4072-b9d2-64a81974c51a</td>\n",
       "      <td>Credit Card</td>\n",
       "      <td>Success</td>\n",
       "      <td>0</td>\n",
       "      <td>NaN</td>\n",
       "      <td>0</td>\n",
       "      <td>2018-12-23T17:24:07.361785Z</td>\n",
       "      <td>-3.602334</td>\n",
       "      <td>120.363824</td>\n",
       "      <td>198753</td>\n",
       "      <td>55220</td>\n",
       "      <td>1</td>\n",
       "      <td>198753</td>\n",
       "    </tr>\n",
       "  </tbody>\n",
       "</table>\n",
       "</div>"
      ],
      "text/plain": [
       "                    created_at  customer_id  \\\n",
       "0  2018-07-29T15:22:01.458193Z         5868   \n",
       "1  2018-07-30T12:40:22.365620Z         4774   \n",
       "2  2018-09-15T11:51:17.365620Z         4774   \n",
       "3  2018-11-01T11:23:48.365620Z         4774   \n",
       "4  2018-12-18T11:20:30.365620Z         4774   \n",
       "\n",
       "                             booking_id                            session_id  \\\n",
       "0  186e2bee-0637-4710-8981-50c2d737bc42  3abaa6ce-e320-4e51-9469-d9f3fa328e86   \n",
       "1  caadb57b-e808-4f94-9e96-8a7d4c9898db  2ee5ead1-f13e-4759-92df-7ff48475e970   \n",
       "2  6000fffb-9c1a-4f4a-9296-bc8f6b622b50  93325fb6-eb00-4268-bb0e-6471795a0ad0   \n",
       "3  f5e530a7-4350-4cd1-a3bc-525b5037bcab  bcad5a61-1b67-448d-8ff4-781d67bc56e4   \n",
       "4  0efc0594-dbbf-4f9a-b0b0-a488cfddf8a2  df1042ab-13e6-4072-b9d2-64a81974c51a   \n",
       "\n",
       "  payment_method payment_status  promo_amount   promo_code  shipment_fee  \\\n",
       "0     Debit Card        Success          1415  WEEKENDSERU         10000   \n",
       "1    Credit Card        Success             0          NaN         10000   \n",
       "2            OVO        Success             0          NaN         10000   \n",
       "3    Credit Card        Success             0          NaN             0   \n",
       "4    Credit Card        Success             0          NaN             0   \n",
       "\n",
       "           shipment_date_limit  shipment_location_lat  shipment_location_long  \\\n",
       "0  2018-08-03T05:07:24.812676Z              -8.227893              111.969107   \n",
       "1  2018-08-03T01:29:03.415705Z               3.013470              107.802514   \n",
       "2  2018-09-18T08:41:49.422380Z              -2.579428              115.743885   \n",
       "3  2018-11-05T17:42:27.954235Z              -3.602334              120.363824   \n",
       "4  2018-12-23T17:24:07.361785Z              -3.602334              120.363824   \n",
       "\n",
       "   total_amount  product_id  quantity  item_price  \n",
       "0        199832       54728         1      191247  \n",
       "1        155526       16193         1      145526  \n",
       "2        550696       53686         4      135174  \n",
       "3        271012       20228         1      271012  \n",
       "4        198753       55220         1      198753  "
      ]
     },
     "execution_count": 39,
     "metadata": {},
     "output_type": "execute_result"
    }
   ],
   "source": [
    "df_transaction = pd.read_csv(\"Data/transaction_new.csv\")\n",
    "df_transaction.head()"
   ]
  },
  {
   "cell_type": "code",
   "execution_count": 40,
   "id": "f5143e55",
   "metadata": {},
   "outputs": [
    {
     "data": {
      "text/html": [
       "<div>\n",
       "<style scoped>\n",
       "    .dataframe tbody tr th:only-of-type {\n",
       "        vertical-align: middle;\n",
       "    }\n",
       "\n",
       "    .dataframe tbody tr th {\n",
       "        vertical-align: top;\n",
       "    }\n",
       "\n",
       "    .dataframe thead th {\n",
       "        text-align: right;\n",
       "    }\n",
       "</style>\n",
       "<table border=\"1\" class=\"dataframe\">\n",
       "  <thead>\n",
       "    <tr style=\"text-align: right;\">\n",
       "      <th></th>\n",
       "      <th>id</th>\n",
       "      <th>gender</th>\n",
       "      <th>masterCategory</th>\n",
       "      <th>subCategory</th>\n",
       "      <th>articleType</th>\n",
       "      <th>baseColour</th>\n",
       "      <th>season</th>\n",
       "      <th>year</th>\n",
       "      <th>usage</th>\n",
       "      <th>productDisplayName</th>\n",
       "    </tr>\n",
       "  </thead>\n",
       "  <tbody>\n",
       "    <tr>\n",
       "      <th>0</th>\n",
       "      <td>15970</td>\n",
       "      <td>Men</td>\n",
       "      <td>Apparel</td>\n",
       "      <td>Topwear</td>\n",
       "      <td>Shirts</td>\n",
       "      <td>Navy Blue</td>\n",
       "      <td>Fall</td>\n",
       "      <td>2011.0</td>\n",
       "      <td>Casual</td>\n",
       "      <td>Turtle Check Men Navy Blue Shirt</td>\n",
       "    </tr>\n",
       "    <tr>\n",
       "      <th>1</th>\n",
       "      <td>39386</td>\n",
       "      <td>Men</td>\n",
       "      <td>Apparel</td>\n",
       "      <td>Bottomwear</td>\n",
       "      <td>Jeans</td>\n",
       "      <td>Blue</td>\n",
       "      <td>Summer</td>\n",
       "      <td>2012.0</td>\n",
       "      <td>Casual</td>\n",
       "      <td>Peter England Men Party Blue Jeans</td>\n",
       "    </tr>\n",
       "    <tr>\n",
       "      <th>2</th>\n",
       "      <td>59263</td>\n",
       "      <td>Women</td>\n",
       "      <td>Accessories</td>\n",
       "      <td>Watches</td>\n",
       "      <td>Watches</td>\n",
       "      <td>Silver</td>\n",
       "      <td>Winter</td>\n",
       "      <td>2016.0</td>\n",
       "      <td>Casual</td>\n",
       "      <td>Titan Women Silver Watch</td>\n",
       "    </tr>\n",
       "    <tr>\n",
       "      <th>3</th>\n",
       "      <td>21379</td>\n",
       "      <td>Men</td>\n",
       "      <td>Apparel</td>\n",
       "      <td>Bottomwear</td>\n",
       "      <td>Track Pants</td>\n",
       "      <td>Black</td>\n",
       "      <td>Fall</td>\n",
       "      <td>2011.0</td>\n",
       "      <td>Casual</td>\n",
       "      <td>Manchester United Men Solid Black Track Pants</td>\n",
       "    </tr>\n",
       "    <tr>\n",
       "      <th>4</th>\n",
       "      <td>53759</td>\n",
       "      <td>Men</td>\n",
       "      <td>Apparel</td>\n",
       "      <td>Topwear</td>\n",
       "      <td>Tshirts</td>\n",
       "      <td>Grey</td>\n",
       "      <td>Summer</td>\n",
       "      <td>2012.0</td>\n",
       "      <td>Casual</td>\n",
       "      <td>Puma Men Grey T-shirt</td>\n",
       "    </tr>\n",
       "  </tbody>\n",
       "</table>\n",
       "</div>"
      ],
      "text/plain": [
       "      id gender masterCategory subCategory  articleType baseColour  season  \\\n",
       "0  15970    Men        Apparel     Topwear       Shirts  Navy Blue    Fall   \n",
       "1  39386    Men        Apparel  Bottomwear        Jeans       Blue  Summer   \n",
       "2  59263  Women    Accessories     Watches      Watches     Silver  Winter   \n",
       "3  21379    Men        Apparel  Bottomwear  Track Pants      Black    Fall   \n",
       "4  53759    Men        Apparel     Topwear      Tshirts       Grey  Summer   \n",
       "\n",
       "     year   usage                             productDisplayName  \n",
       "0  2011.0  Casual               Turtle Check Men Navy Blue Shirt  \n",
       "1  2012.0  Casual             Peter England Men Party Blue Jeans  \n",
       "2  2016.0  Casual                       Titan Women Silver Watch  \n",
       "3  2011.0  Casual  Manchester United Men Solid Black Track Pants  \n",
       "4  2012.0  Casual                          Puma Men Grey T-shirt  "
      ]
     },
     "execution_count": 40,
     "metadata": {},
     "output_type": "execute_result"
    }
   ],
   "source": [
    "df_product = pd.read_csv(\"Data/product.csv\")\n",
    "df_product.head()"
   ]
  },
  {
   "cell_type": "markdown",
   "id": "1a2d4f17",
   "metadata": {},
   "source": [
    "---"
   ]
  },
  {
   "cell_type": "markdown",
   "id": "44bace8c",
   "metadata": {},
   "source": [
    "### **_01.1. How many rows and how many columns?_**"
   ]
  },
  {
   "cell_type": "code",
   "execution_count": 41,
   "id": "99b909f2",
   "metadata": {},
   "outputs": [
    {
     "data": {
      "text/plain": [
       "(100000, 15)"
      ]
     },
     "execution_count": 41,
     "metadata": {},
     "output_type": "execute_result"
    }
   ],
   "source": [
    "df_customer.shape"
   ]
  },
  {
   "cell_type": "code",
   "execution_count": 42,
   "id": "ffbb99c4",
   "metadata": {},
   "outputs": [
    {
     "data": {
      "text/plain": [
       "(44446, 10)"
      ]
     },
     "execution_count": 42,
     "metadata": {},
     "output_type": "execute_result"
    }
   ],
   "source": [
    "df_product.shape"
   ]
  },
  {
   "cell_type": "code",
   "execution_count": 43,
   "id": "01838a39",
   "metadata": {},
   "outputs": [
    {
     "data": {
      "text/plain": [
       "(1254585, 16)"
      ]
     },
     "execution_count": 43,
     "metadata": {},
     "output_type": "execute_result"
    }
   ],
   "source": [
    "df_transaction.shape"
   ]
  },
  {
   "cell_type": "markdown",
   "id": "4dd2486c",
   "metadata": {},
   "source": [
    "Bộ dữ liệu `customer` có 100.000 dòng và 15 cột, bộ dữ liệu `product` có 44.446 dòng và 11 cột, bộ dữ liệu `transaction` có 1.254.585 dòng và 16 cột."
   ]
  },
  {
   "cell_type": "markdown",
   "id": "a08c0812",
   "metadata": {},
   "source": [
    "---"
   ]
  },
  {
   "cell_type": "markdown",
   "id": "040024f8",
   "metadata": {},
   "source": [
    "### **_01.2. What is the meaning of each row?_**"
   ]
  },
  {
   "cell_type": "markdown",
   "id": "89e0b329",
   "metadata": {},
   "source": [
    "Mỗi dòng là thông tin của một khách hàng, sản phẩm hoặc giao dịch có trên sàn thương mại điện tử Fashion Campus"
   ]
  },
  {
   "cell_type": "markdown",
   "id": "03b2b04c",
   "metadata": {},
   "source": [
    "---"
   ]
  },
  {
   "cell_type": "markdown",
   "id": "80edb0f0",
   "metadata": {},
   "source": [
    "### **_01.3. What is the meaning of each column?_**\n"
   ]
  },
  {
   "cell_type": "markdown",
   "id": "3758aa5a",
   "metadata": {},
   "source": [
    "- Dữ liệu `customer`"
   ]
  },
  {
   "cell_type": "markdown",
   "id": "6a3d7a79",
   "metadata": {},
   "source": [
    "  | Cột               | Ý nghĩa                                                                       |\n",
    "  |-------------------|-------------------------------------------------------------------------------|\n",
    "  |`customer_id`         | Id duy nhất của khách hàng                            |\n",
    "  |`first_name `            | Tên của khách hàng              |\n",
    "  |`last_name `             | Họ của khách hàng              |\n",
    "  |`username `            | Tên người dùng của khách hàng                                       |\n",
    "  |`email `        | Email của khách hàng                                    |\n",
    "  |`gender `           | Giới tính của khách hàng (Nam (M) hoặc Nữ (F))                    |\n",
    "  |`birthdate `           | Ngày sinh của khách hàng, ngày - tháng - năm                    |\n",
    "  |`device_type `          | Loại thiết bị của khách hàng khi sử dụng ứng dụng                                                                      |\n",
    "  |`device_id `         | Id thiết bị của khách hàng khi sử dụng ứng dụng                                                                  |\n",
    "  |`device_version `       | Phiên bản chi tiết của thiết bị được khách hàng sử dụng                                                        |\n",
    "  |`home_location_lat `         | Vĩ độ vị trí của khách hàng                                                    |\n",
    "  |`home_location_long `          | Kinh độ vị trí khách hàng                           |\n",
    "  |`home_location `        | Tên tỉnh/khu vực của khách hàng                                      |\n",
    "  |`home_country `              | Tên quốc gia của khách hàng                                             |\n",
    "  |`first_join_date `         | Ngày đầu tiên khách hàng tham gia ứng dụng                                           |\n"
   ]
  },
  {
   "cell_type": "markdown",
   "id": "9b34e428",
   "metadata": {},
   "source": [
    "- Dữ liệu `product`"
   ]
  },
  {
   "cell_type": "markdown",
   "id": "0a300871",
   "metadata": {},
   "source": [
    "  | Cột               | Ý nghĩa                                                                       |\n",
    "  |-------------------|-------------------------------------------------------------------------------|\n",
    "  |`id`         | Mã sản phẩm                           |\n",
    "  |`gender  `            | Mục tiêu/chỉ định sản phẩm dựa trên giới tính              |\n",
    "  |`masterCategory  `             | Danh mục sản phẩm chính             |\n",
    "  |`subCategory  `            | Danh mục phụ của sản phẩm                                       |\n",
    "  |`articleType  `        | Loại sản phẩm thời trang                                    |\n",
    "  |`baseColour  `           | Màu cơ bản của sản phẩm thời trang                    |\n",
    "  |`season  `           | Mục tiêu/chỉ định sản phẩm dựa trên mùa                    |\n",
    "  |`year  `          | Năm sản xuất                                                                     |\n",
    "  |`usage  `         | Loại sử dụng của sản phẩm                                                                |\n",
    "  |`productDisplayName  `       | Tên hiển thị của sản phẩm trong ứng dụng thương mại điện tử                                                       |\n"
   ]
  },
  {
   "cell_type": "markdown",
   "id": "ee494ecd",
   "metadata": {},
   "source": [
    "- Dữ liệu `transaction`"
   ]
  },
  {
   "cell_type": "markdown",
   "id": "f2c074b4",
   "metadata": {},
   "source": [
    "  | Cột               | Ý nghĩa                                                                       |\n",
    "  |-------------------|-------------------------------------------------------------------------------|\n",
    "  |`created_at `         | Dấu thời gian khi dữ liệu/giao dịch được tạo                            |\n",
    "  |`customer_id  `            | Id duy nhất của mỗi khách hàng              |\n",
    "  |`booking_id  `             | Id duy nhất của giao dịch            |\n",
    "  |`session_id  `            | Id phiên duy nhất của người dùng khi truy cập ứng dụng                                       |\n",
    "  |`product_metadata  `        | Siêu dữ liệu của sản phẩm đã mua                                   |\n",
    "  |`payment_method  `           | Phương thức thanh toán được sử dụng trong giao dịch                    |\n",
    "  |`payment_status  `           | Trạng thái thanh toán (Thành công / Thất bại)                    |\n",
    "  |`promo_amount  `          | Số tiền khuyến mãi trong mỗi giao dịch                                                                     |\n",
    "  |`promo_code  `         | Mã khuyến mãi                                                                  |\n",
    "  |`shipment_fee  `       | Phí vận chuyển của giao dịch (ongkir)                                                        |\n",
    "  |`shipment_date_limit  `         | Dữ liệu giới hạn lô hàng                                          |\n",
    "  |`shipment_location_lat  `          | Vị trí lô hàng/vĩ độ mục tiêu                          |\n",
    "  |`shipment_location_long  `        | Vị trí lô hàng/kinh độ mục tiêu                                 |\n",
    "  |`total_amount  `              | Tổng số tiền phải trả cho mỗi giao dịch                                         |\n"
   ]
  },
  {
   "cell_type": "markdown",
   "id": "4f14cac2",
   "metadata": {},
   "source": [
    "---"
   ]
  },
  {
   "cell_type": "markdown",
   "id": "57790583",
   "metadata": {},
   "source": [
    "### **_01.4. Is data missing?_**"
   ]
  },
  {
   "cell_type": "code",
   "execution_count": 44,
   "id": "21c589b2",
   "metadata": {},
   "outputs": [
    {
     "data": {
      "text/plain": [
       "customer_id           0\n",
       "first_name            0\n",
       "last_name             0\n",
       "username              0\n",
       "email                 0\n",
       "gender                0\n",
       "birthdate             0\n",
       "device_type           0\n",
       "device_id             0\n",
       "device_version        0\n",
       "home_location_lat     0\n",
       "home_location_long    0\n",
       "home_location         0\n",
       "home_country          0\n",
       "first_join_date       0\n",
       "dtype: int64"
      ]
     },
     "execution_count": 44,
     "metadata": {},
     "output_type": "execute_result"
    }
   ],
   "source": [
    "df_customer.isnull().sum()"
   ]
  },
  {
   "cell_type": "markdown",
   "id": "d3e3665e",
   "metadata": {},
   "source": [
    "Dữ liệu `customer` không bị thiếu, tất cả các trường dữ liệu đều non null"
   ]
  },
  {
   "cell_type": "code",
   "execution_count": 45,
   "id": "b20d0617",
   "metadata": {},
   "outputs": [
    {
     "data": {
      "text/plain": [
       "id                      0\n",
       "gender                  0\n",
       "masterCategory          0\n",
       "subCategory             0\n",
       "articleType             0\n",
       "baseColour             15\n",
       "season                 21\n",
       "year                    1\n",
       "usage                 317\n",
       "productDisplayName      7\n",
       "dtype: int64"
      ]
     },
     "execution_count": 45,
     "metadata": {},
     "output_type": "execute_result"
    }
   ],
   "source": [
    "df_product.isnull().sum()"
   ]
  },
  {
   "cell_type": "markdown",
   "id": "da5d5895",
   "metadata": {},
   "source": [
    "Dữ liệu `product` bị thiếu, các trường dữ liệu bị thiếu như `baseColour`, `season`, `year`, `usage`, `productDisplayName`"
   ]
  },
  {
   "cell_type": "code",
   "execution_count": 46,
   "id": "8cfd86ec",
   "metadata": {},
   "outputs": [
    {
     "data": {
      "text/plain": [
       "created_at                     0\n",
       "customer_id                    0\n",
       "booking_id                     0\n",
       "session_id                     0\n",
       "payment_method                 0\n",
       "payment_status                 0\n",
       "promo_amount                   0\n",
       "promo_code                773446\n",
       "shipment_fee                   0\n",
       "shipment_date_limit            0\n",
       "shipment_location_lat          0\n",
       "shipment_location_long         0\n",
       "total_amount                   0\n",
       "product_id                     0\n",
       "quantity                       0\n",
       "item_price                     0\n",
       "dtype: int64"
      ]
     },
     "execution_count": 46,
     "metadata": {},
     "output_type": "execute_result"
    }
   ],
   "source": [
    "df_transaction.isnull().sum()"
   ]
  },
  {
   "cell_type": "markdown",
   "id": "3b2bb818",
   "metadata": {},
   "source": [
    "---"
   ]
  },
  {
   "cell_type": "markdown",
   "id": "992aa9a2",
   "metadata": {},
   "source": [
    "### **_01.5. Are there duplicated rows?_**"
   ]
  },
  {
   "cell_type": "code",
   "execution_count": 47,
   "id": "7f64ba9f",
   "metadata": {},
   "outputs": [
    {
     "data": {
      "text/plain": [
       "0"
      ]
     },
     "execution_count": 47,
     "metadata": {},
     "output_type": "execute_result"
    }
   ],
   "source": [
    "np.sum(df_customer.duplicated())"
   ]
  },
  {
   "cell_type": "code",
   "execution_count": 48,
   "id": "32511960",
   "metadata": {},
   "outputs": [
    {
     "data": {
      "text/plain": [
       "0"
      ]
     },
     "execution_count": 48,
     "metadata": {},
     "output_type": "execute_result"
    }
   ],
   "source": [
    "np.sum(df_product.duplicated())"
   ]
  },
  {
   "cell_type": "code",
   "execution_count": 49,
   "id": "ecae624f",
   "metadata": {},
   "outputs": [
    {
     "data": {
      "text/plain": [
       "0"
      ]
     },
     "execution_count": 49,
     "metadata": {},
     "output_type": "execute_result"
    }
   ],
   "source": [
    "np.sum(df_transaction.duplicated())"
   ]
  },
  {
   "cell_type": "markdown",
   "id": "c3341a7e",
   "metadata": {},
   "source": [
    "Cả ba tập dữ liệu không có dòng nào trùng lắp"
   ]
  },
  {
   "cell_type": "markdown",
   "id": "6e56ad32",
   "metadata": {},
   "source": [
    "---"
   ]
  },
  {
   "cell_type": "markdown",
   "id": "77af2278",
   "metadata": {},
   "source": [
    "### **_01.6. What is the current data type of each column? Are there columns having inappropriate data types?_**"
   ]
  },
  {
   "cell_type": "code",
   "execution_count": 50,
   "id": "af260062",
   "metadata": {},
   "outputs": [
    {
     "data": {
      "text/plain": [
       "customer_id             int64\n",
       "first_name             object\n",
       "last_name              object\n",
       "username               object\n",
       "email                  object\n",
       "gender                 object\n",
       "birthdate              object\n",
       "device_type            object\n",
       "device_id              object\n",
       "device_version         object\n",
       "home_location_lat     float64\n",
       "home_location_long    float64\n",
       "home_location          object\n",
       "home_country           object\n",
       "first_join_date        object\n",
       "dtype: object"
      ]
     },
     "execution_count": 50,
     "metadata": {},
     "output_type": "execute_result"
    }
   ],
   "source": [
    "df_customer.dtypes"
   ]
  },
  {
   "cell_type": "markdown",
   "id": "24c7baeb",
   "metadata": {},
   "source": [
    "### **_01.7. Columns that exhibit concordance or disparity in terms of data types:_**\n"
   ]
  },
  {
   "cell_type": "markdown",
   "id": "3df57c8c",
   "metadata": {},
   "source": [
    "#### **_01.7.1. `customer` table:_**"
   ]
  },
  {
   "cell_type": "code",
   "execution_count": 51,
   "id": "f8d481ff",
   "metadata": {},
   "outputs": [
    {
     "data": {
      "text/plain": [
       "customer_id             int64\n",
       "first_name             object\n",
       "last_name              object\n",
       "username               object\n",
       "email                  object\n",
       "gender                 object\n",
       "birthdate              object\n",
       "device_type            object\n",
       "device_id              object\n",
       "device_version         object\n",
       "home_location_lat     float64\n",
       "home_location_long    float64\n",
       "home_location          object\n",
       "home_country           object\n",
       "first_join_date        object\n",
       "dtype: object"
      ]
     },
     "execution_count": 51,
     "metadata": {},
     "output_type": "execute_result"
    }
   ],
   "source": [
    "df_customer.dtypes"
   ]
  },
  {
   "cell_type": "markdown",
   "id": "7ad77e17",
   "metadata": {},
   "source": [
    "- `customer_id`, `first_name`, `last_name`, `username`, `email`, `gender`, `device_type`, `device_id`, `device_version`, `home_location_lat`, `home_location_long`, `home_location`, `home_country`: phù hợp\n",
    "- `birthdate`, `first_join_date`: chuyển về date\n",
    "\n",
    "\n",
    "  | Cột               | Kiểu dữ liệu có phù hợp |\n",
    "  |-------------------|-------------------------|\n",
    "  |`customer_id`         | True                    |\n",
    "  |`first_name`            | True                    |\n",
    "  |`last_name`             | True                    |\n",
    "  |`username`            | True                    |\n",
    "  |`email`        | True                    |\n",
    "  |`gender`           | True                    |\n",
    "  |`device_type`          | True                    |\n",
    "  |`device_id`         | True                    |\n",
    "  |`device_version`       | True    |\n",
    "  |`home_location_lat`         | True    |\n",
    "  |`home_location_long`          | True                    |\n",
    "  |`home_location`        | True                    |\n",
    "  |`home_country`              | True                    |\n",
    "  |`birthdate`         | False (to datetime)                    |\n",
    "  |`first_join_date`| False (to datetime)     |"
   ]
  },
  {
   "cell_type": "markdown",
   "id": "7b686ab6",
   "metadata": {},
   "source": [
    "#### **_01.7.2. `product` table:_**"
   ]
  },
  {
   "cell_type": "code",
   "execution_count": 52,
   "id": "01ecea6d",
   "metadata": {},
   "outputs": [
    {
     "data": {
      "text/plain": [
       "id                      int64\n",
       "gender                 object\n",
       "masterCategory         object\n",
       "subCategory            object\n",
       "articleType            object\n",
       "baseColour             object\n",
       "season                 object\n",
       "year                  float64\n",
       "usage                  object\n",
       "productDisplayName     object\n",
       "dtype: object"
      ]
     },
     "execution_count": 52,
     "metadata": {},
     "output_type": "execute_result"
    }
   ],
   "source": [
    "df_product.dtypes"
   ]
  },
  {
   "cell_type": "markdown",
   "id": "4a59ba85",
   "metadata": {},
   "source": [
    "- `id`, `gender`, `masterCategory`, `subCategory`, `articleType`, `baseColour`, `season`, `usage`, `productDisplayName`: phù hợp\n",
    "- `year`: chuyển về year\n",
    "\n",
    "\n",
    "  | Cột               | Kiểu dữ liệu có phù hợp |\n",
    "  |-------------------|-------------------------|\n",
    "  |`id`         | True                           |\n",
    "  |`gender  `            | True              |\n",
    "  |`masterCategory  `             | True             |\n",
    "  |`subCategory  `            | True                                       |\n",
    "  |`articleType  `        | True                                   |\n",
    "  |`baseColour  `           | True                  |\n",
    "  |`season  `           | True                    |\n",
    "  |`year  `          | False (to datetime)                                                                     |\n",
    "  |`usage  `         | True                                                             |\n",
    "  |`productDisplayName  `       | True                                                    |"
   ]
  },
  {
   "cell_type": "markdown",
   "id": "42889499",
   "metadata": {},
   "source": [
    "#### **_01.7.3. `transaction` table:_**"
   ]
  },
  {
   "cell_type": "code",
   "execution_count": 53,
   "id": "8ca77e7c",
   "metadata": {},
   "outputs": [
    {
     "data": {
      "text/plain": [
       "created_at                 object\n",
       "customer_id                 int64\n",
       "booking_id                 object\n",
       "session_id                 object\n",
       "payment_method             object\n",
       "payment_status             object\n",
       "promo_amount                int64\n",
       "promo_code                 object\n",
       "shipment_fee                int64\n",
       "shipment_date_limit        object\n",
       "shipment_location_lat     float64\n",
       "shipment_location_long    float64\n",
       "total_amount                int64\n",
       "product_id                  int64\n",
       "quantity                    int64\n",
       "item_price                  int64\n",
       "dtype: object"
      ]
     },
     "execution_count": 53,
     "metadata": {},
     "output_type": "execute_result"
    }
   ],
   "source": [
    "df_transaction.dtypes"
   ]
  },
  {
   "cell_type": "markdown",
   "id": "69c9ddbf",
   "metadata": {},
   "source": [
    "- `customer_id`, `booking_id`, `session_id`, `product_metadata`, `payment_method`, `payment_status`, `promo_amount`, `promo_code`, `shipment_fee` ,`shipment_location_lat` , `shipment_location_long` , `total_amount`: phù hợp\n",
    "- `created_at` , `shipment_date_limit  `: chuyển về datetime\n",
    "\n",
    "\n",
    "  | Cột               | Kiểu dữ liệu có phù hợp |\n",
    "  |-------------------|-------------------------|\n",
    "  |`created_at `         | False (to datetime)                           |\n",
    "  |`customer_id  `            | True              |\n",
    "  |`booking_id  `             | True         |\n",
    "  |`session_id  `            | True                                      |\n",
    "  |`product_metadata  `        | True                                  |\n",
    "  |`payment_method  `           | True                   |\n",
    "  |`payment_status  `           | True                  |\n",
    "  |`promo_amount  `          | True                                                            |\n",
    "  |`promo_code  `         | True                                                        |\n",
    "  |`shipment_fee  `       | True                                            |\n",
    "  |`shipment_date_limit  `         | False (to datetime)                                   |\n",
    "  |`shipment_location_lat  `          | True           |\n",
    "  |`shipment_location_long  `        | True                      |\n",
    "  |`total_amount  `              | True                              |"
   ]
  },
  {
   "cell_type": "markdown",
   "id": "3ef6f1e9",
   "metadata": {},
   "source": [
    "### **_01.8. Verify the unique values within each dataset:_**"
   ]
  },
  {
   "cell_type": "code",
   "execution_count": 54,
   "id": "78064da2",
   "metadata": {},
   "outputs": [
    {
     "data": {
      "text/plain": [
       "array(['Indonesia'], dtype=object)"
      ]
     },
     "execution_count": 54,
     "metadata": {},
     "output_type": "execute_result"
    }
   ],
   "source": [
    "df_customer['customer_id'].unique()\n",
    "df_customer['gender'].unique()\n",
    "df_customer['device_type'].unique()\n",
    "df_customer['home_location'].unique()\n",
    "df_customer['home_country'].unique()"
   ]
  },
  {
   "cell_type": "code",
   "execution_count": 55,
   "id": "8cbcf917",
   "metadata": {},
   "outputs": [
    {
     "name": "stdout",
     "output_type": "stream",
     "text": [
      "['Men' 'Women' 'Boys' 'Girls' 'Unisex']\n",
      "['Apparel' 'Accessories' 'Footwear' 'Personal Care' 'Free Items'\n",
      " 'Sporting Goods' 'Home']\n",
      "['Topwear' 'Bottomwear' 'Watches' 'Socks' 'Shoes' 'Belts' 'Flip Flops'\n",
      " 'Bags' 'Innerwear' 'Sandal' 'Shoe Accessories' 'Fragrance' 'Jewellery'\n",
      " 'Lips' 'Saree' 'Eyewear' 'Nails' 'Scarves' 'Dress'\n",
      " 'Loungewear and Nightwear' 'Wallets' 'Apparel Set' 'Headwear' 'Mufflers'\n",
      " 'Skin Care' 'Makeup' 'Free Gifts' 'Ties' 'Accessories' 'Skin'\n",
      " 'Beauty Accessories' 'Water Bottle' 'Eyes' 'Bath and Body' 'Gloves'\n",
      " 'Sports Accessories' 'Cufflinks' 'Sports Equipment' 'Stoles' 'Hair'\n",
      " 'Perfumes' 'Home Furnishing' 'Umbrellas' 'Wristbands' 'Vouchers']\n",
      "['Shirts' 'Jeans' 'Watches' 'Track Pants' 'Tshirts' 'Socks' 'Casual Shoes'\n",
      " 'Belts' 'Flip Flops' 'Handbags' 'Tops' 'Bra' 'Sandals' 'Shoe Accessories'\n",
      " 'Sweatshirts' 'Deodorant' 'Formal Shoes' 'Bracelet' 'Lipstick' 'Flats'\n",
      " 'Kurtas' 'Waistcoat' 'Sports Shoes' 'Shorts' 'Briefs' 'Sarees'\n",
      " 'Perfume and Body Mist' 'Heels' 'Sunglasses' 'Innerwear Vests' 'Pendant'\n",
      " 'Nail Polish' 'Laptop Bag' 'Scarves' 'Rain Jacket' 'Dresses'\n",
      " 'Night suits' 'Skirts' 'Wallets' 'Blazers' 'Ring' 'Kurta Sets' 'Clutches'\n",
      " 'Shrug' 'Backpacks' 'Caps' 'Trousers' 'Earrings' 'Camisoles' 'Boxers'\n",
      " 'Jewellery Set' 'Dupatta' 'Capris' 'Lip Gloss' 'Bath Robe' 'Mufflers'\n",
      " 'Tunics' 'Jackets' 'Trunk' 'Lounge Pants' 'Face Wash and Cleanser'\n",
      " 'Necklace and Chains' 'Duffel Bag' 'Sports Sandals'\n",
      " 'Foundation and Primer' 'Sweaters' 'Free Gifts' 'Trolley Bag'\n",
      " 'Tracksuits' 'Swimwear' 'Shoe Laces' 'Fragrance Gift Set' 'Bangle'\n",
      " 'Nightdress' 'Ties' 'Baby Dolls' 'Leggings' 'Highlighter and Blush'\n",
      " 'Travel Accessory' 'Kurtis' 'Mobile Pouch' 'Messenger Bag' 'Lip Care'\n",
      " 'Face Moisturisers' 'Compact' 'Eye Cream' 'Accessory Gift Set'\n",
      " 'Beauty Accessory' 'Jumpsuit' 'Kajal and Eyeliner' 'Water Bottle'\n",
      " 'Suspenders' 'Lip Liner' 'Robe' 'Salwar and Dupatta' 'Patiala'\n",
      " 'Stockings' 'Eyeshadow' 'Headband' 'Tights' 'Nail Essentials' 'Churidar'\n",
      " 'Lounge Tshirts' 'Face Scrub and Exfoliator' 'Lounge Shorts' 'Gloves'\n",
      " 'Mask and Peel' 'Wristbands' 'Tablet Sleeve' 'Ties and Cufflinks'\n",
      " 'Footballs' 'Stoles' 'Shapewear' 'Nehru Jackets' 'Salwar' 'Cufflinks'\n",
      " 'Jeggings' 'Hair Colour' 'Concealer' 'Rompers' 'Body Lotion' 'Sunscreen'\n",
      " 'Booties' 'Waist Pouch' 'Hair Accessory' 'Rucksacks' 'Basketballs'\n",
      " 'Lehenga Choli' 'Clothing Set' 'Mascara' 'Toner' 'Cushion Covers'\n",
      " 'Key chain' 'Makeup Remover' 'Lip Plumper' 'Umbrellas'\n",
      " 'Face Serum and Gel' 'Hat' 'Mens Grooming Kit' 'Rain Trousers'\n",
      " 'Body Wash and Scrub' 'Suits' 'Ipad']\n",
      "['Navy Blue' 'Blue' 'Silver' 'Black' 'Grey' 'Green' 'Purple' 'White'\n",
      " 'Beige' 'Brown' 'Bronze' 'Teal' 'Copper' 'Pink' 'Off White' 'Maroon'\n",
      " 'Red' 'Khaki' 'Orange' 'Coffee Brown' 'Yellow' 'Charcoal' 'Gold' 'Steel'\n",
      " 'Tan' 'Multi' 'Magenta' 'Lavender' 'Sea Green' 'Cream' 'Peach' 'Olive'\n",
      " 'Skin' 'Burgundy' 'Grey Melange' 'Rust' 'Rose' 'Lime Green' 'Mauve'\n",
      " 'Turquoise Blue' 'Metallic' 'Mustard' 'Taupe' 'Nude' 'Mushroom Brown' nan\n",
      " 'Fluorescent Green']\n",
      "['Fall' 'Summer' 'Winter' 'Spring' nan]\n",
      "['Casual' 'Ethnic' 'Formal' 'Sports' nan 'Smart Casual' 'Travel' 'Party'\n",
      " 'Home']\n"
     ]
    }
   ],
   "source": [
    "print(df_product['gender'].unique())\n",
    "print(df_product['masterCategory'].unique())\n",
    "print(df_product['subCategory'].unique())\n",
    "print(df_product['articleType'].unique())\n",
    "print(df_product['baseColour'].unique())\n",
    "print(df_product['season'].unique())\n",
    "print(df_product['usage'].unique())"
   ]
  },
  {
   "cell_type": "code",
   "execution_count": 56,
   "id": "95c3e6c6",
   "metadata": {},
   "outputs": [
    {
     "name": "stdout",
     "output_type": "stream",
     "text": [
      "['Debit Card' 'Credit Card' 'OVO' 'LinkAja' 'Gopay']\n",
      "['Success' 'Failed']\n"
     ]
    }
   ],
   "source": [
    "print(df_transaction['payment_method'].unique())\n",
    "print(df_transaction['payment_status'].unique())"
   ]
  },
  {
   "cell_type": "markdown",
   "id": "0ac6bfcc",
   "metadata": {},
   "source": [
    "---"
   ]
  },
  {
   "cell_type": "markdown",
   "id": "1aba79e8",
   "metadata": {},
   "source": [
    "## **_02. Pre-processing Data:_**"
   ]
  },
  {
   "cell_type": "markdown",
   "id": "63e0dc64",
   "metadata": {},
   "source": [
    "### **_02.1. Convert data types:_**"
   ]
  },
  {
   "cell_type": "markdown",
   "id": "c47b07e3",
   "metadata": {},
   "source": [
    "Ta sẽ chuyển những cột có kiểu không phù hợp về dạng thích hợp như đã đề cập ở phần 1"
   ]
  },
  {
   "cell_type": "code",
   "execution_count": 57,
   "id": "48e3aa31",
   "metadata": {},
   "outputs": [],
   "source": [
    "# Chuyển về kiểu datetime bằng pd.to_datetime cả ba bộ dữ liệu\n",
    "df_customer['birthdate'] = pd.to_datetime(df_customer['birthdate'],format= '%Y-%m-%d' )\n",
    "df_customer['first_join_date'] = pd.to_datetime(df_customer['first_join_date'], format='%Y-%m-%d')\n",
    "\n",
    "df_product['year'] = pd.to_datetime(df_product['year'], format='%Y')\n",
    "\n",
    "df_transaction['created_at'] = pd.to_datetime(df_transaction['created_at'])\n",
    "df_transaction['shipment_date_limit'] = pd.to_datetime(df_transaction['shipment_date_limit'])"
   ]
  },
  {
   "cell_type": "markdown",
   "id": "aa13e029",
   "metadata": {},
   "source": [
    "_Bây giờ ta có thể thấy, tất cả dữ liệu đều hợp lệ_"
   ]
  },
  {
   "cell_type": "code",
   "execution_count": 58,
   "id": "64b1c7cd",
   "metadata": {},
   "outputs": [
    {
     "data": {
      "text/plain": [
       "customer_id                    int64\n",
       "first_name                    object\n",
       "last_name                     object\n",
       "username                      object\n",
       "email                         object\n",
       "gender                        object\n",
       "birthdate             datetime64[ns]\n",
       "device_type                   object\n",
       "device_id                     object\n",
       "device_version                object\n",
       "home_location_lat            float64\n",
       "home_location_long           float64\n",
       "home_location                 object\n",
       "home_country                  object\n",
       "first_join_date       datetime64[ns]\n",
       "dtype: object"
      ]
     },
     "execution_count": 58,
     "metadata": {},
     "output_type": "execute_result"
    }
   ],
   "source": [
    "df_customer.dtypes"
   ]
  },
  {
   "cell_type": "code",
   "execution_count": 59,
   "id": "f867fc43",
   "metadata": {},
   "outputs": [
    {
     "data": {
      "text/plain": [
       "id                             int64\n",
       "gender                        object\n",
       "masterCategory                object\n",
       "subCategory                   object\n",
       "articleType                   object\n",
       "baseColour                    object\n",
       "season                        object\n",
       "year                  datetime64[ns]\n",
       "usage                         object\n",
       "productDisplayName            object\n",
       "dtype: object"
      ]
     },
     "execution_count": 59,
     "metadata": {},
     "output_type": "execute_result"
    }
   ],
   "source": [
    "df_product.dtypes"
   ]
  },
  {
   "cell_type": "code",
   "execution_count": 60,
   "id": "998710a5",
   "metadata": {},
   "outputs": [
    {
     "data": {
      "text/plain": [
       "created_at                datetime64[ns, UTC]\n",
       "customer_id                             int64\n",
       "booking_id                             object\n",
       "session_id                             object\n",
       "payment_method                         object\n",
       "payment_status                         object\n",
       "promo_amount                            int64\n",
       "promo_code                             object\n",
       "shipment_fee                            int64\n",
       "shipment_date_limit       datetime64[ns, UTC]\n",
       "shipment_location_lat                 float64\n",
       "shipment_location_long                float64\n",
       "total_amount                            int64\n",
       "product_id                              int64\n",
       "quantity                                int64\n",
       "item_price                              int64\n",
       "dtype: object"
      ]
     },
     "execution_count": 60,
     "metadata": {},
     "output_type": "execute_result"
    }
   ],
   "source": [
    "df_transaction.dtypes"
   ]
  },
  {
   "cell_type": "markdown",
   "id": "c8c0fd68",
   "metadata": {},
   "source": [
    "---"
   ]
  },
  {
   "cell_type": "markdown",
   "id": "83f42ae5",
   "metadata": {},
   "source": [
    "### **_02.2. Process missing values:_**"
   ]
  },
  {
   "cell_type": "markdown",
   "id": "15bd8e47",
   "metadata": {},
   "source": [
    "Như đã đề cập như ở trên, trong tập dữ liệu `product` chúng ta có thể thấy rằng cột dữ lệu `baseColour`, `season`, `year`, `usage`, `productDisplayName` có giá trị thiếu, tuy nhiên chúng chỉ chiếm một phần nhỏ nên chúng ta sẽ tiến hành xóa các cột bị thiếu đi"
   ]
  },
  {
   "cell_type": "code",
   "execution_count": 61,
   "id": "f48035f8",
   "metadata": {},
   "outputs": [
    {
     "data": {
      "text/plain": [
       "id                      0\n",
       "gender                  0\n",
       "masterCategory          0\n",
       "subCategory             0\n",
       "articleType             0\n",
       "baseColour             15\n",
       "season                 21\n",
       "year                    1\n",
       "usage                 317\n",
       "productDisplayName      7\n",
       "dtype: int64"
      ]
     },
     "execution_count": 61,
     "metadata": {},
     "output_type": "execute_result"
    }
   ],
   "source": [
    "df_product.isnull().sum()"
   ]
  },
  {
   "cell_type": "code",
   "execution_count": 62,
   "id": "6bcf9c50",
   "metadata": {},
   "outputs": [
    {
     "data": {
      "text/plain": [
       "id                    0\n",
       "gender                0\n",
       "masterCategory        0\n",
       "subCategory           0\n",
       "articleType           0\n",
       "baseColour            0\n",
       "season                0\n",
       "year                  0\n",
       "usage                 0\n",
       "productDisplayName    0\n",
       "dtype: int64"
      ]
     },
     "execution_count": 62,
     "metadata": {},
     "output_type": "execute_result"
    }
   ],
   "source": [
    "df_product = df_product.dropna(axis=0).reset_index(drop = True)\n",
    "df_product.isnull().sum()"
   ]
  },
  {
   "cell_type": "markdown",
   "id": "17e036a7",
   "metadata": {},
   "source": [
    "Đối với bộ dữ liệu `transaction` chúng ta có cột `promo_code` thiếu rất nhiều giá trị, vì vậy chúng ta sẽ thực hiện xóa cột này đi"
   ]
  },
  {
   "cell_type": "code",
   "execution_count": 63,
   "id": "dc75b4eb",
   "metadata": {},
   "outputs": [
    {
     "data": {
      "text/plain": [
       "created_at                     0\n",
       "customer_id                    0\n",
       "booking_id                     0\n",
       "session_id                     0\n",
       "payment_method                 0\n",
       "payment_status                 0\n",
       "promo_amount                   0\n",
       "promo_code                773446\n",
       "shipment_fee                   0\n",
       "shipment_date_limit            0\n",
       "shipment_location_lat          0\n",
       "shipment_location_long         0\n",
       "total_amount                   0\n",
       "product_id                     0\n",
       "quantity                       0\n",
       "item_price                     0\n",
       "dtype: int64"
      ]
     },
     "execution_count": 63,
     "metadata": {},
     "output_type": "execute_result"
    }
   ],
   "source": [
    "df_transaction.isnull().sum()"
   ]
  },
  {
   "cell_type": "code",
   "execution_count": 64,
   "id": "564f0f8b",
   "metadata": {},
   "outputs": [
    {
     "data": {
      "text/plain": [
       "created_at                0\n",
       "customer_id               0\n",
       "booking_id                0\n",
       "session_id                0\n",
       "payment_method            0\n",
       "payment_status            0\n",
       "promo_amount              0\n",
       "shipment_fee              0\n",
       "shipment_date_limit       0\n",
       "shipment_location_lat     0\n",
       "shipment_location_long    0\n",
       "total_amount              0\n",
       "product_id                0\n",
       "quantity                  0\n",
       "item_price                0\n",
       "dtype: int64"
      ]
     },
     "execution_count": 64,
     "metadata": {},
     "output_type": "execute_result"
    }
   ],
   "source": [
    "df_transaction = df_transaction.drop(columns=['promo_code'])\n",
    "df_transaction.isnull().sum()"
   ]
  },
  {
   "cell_type": "markdown",
   "id": "9843c017",
   "metadata": {},
   "source": [
    "---"
   ]
  },
  {
   "cell_type": "markdown",
   "id": "de21b0eb",
   "metadata": {},
   "source": [
    "## **_03. Data Distribution:_**"
   ]
  },
  {
   "cell_type": "markdown",
   "id": "df2d626c",
   "metadata": {},
   "source": [
    "### **_03.1. Numeric columns distribution:_**"
   ]
  },
  {
   "cell_type": "markdown",
   "id": "fc308c14",
   "metadata": {},
   "source": [
    "Chúng ta có ba bộ dữ liệu là `customer`, `product` và `transaction` tuy nhiên các cột dữ liệu số tập trung chủ yếu ở bảng `transaction` và đây cũng là bảng quan trọng nhất trong bộ dữ liệu, vì vậy chúng ta sẽ thực hiện tìm hiểu bộ dữ liệu `transaction`. Với các cột có giá trị kiểu số ta tính tỉ lệ missing (tỉ lệ giá trị nan, nat), giá trị nhỏ nhất (min), trung vị (median) và giá trị lớn nhất (max)."
   ]
  },
  {
   "cell_type": "code",
   "execution_count": 65,
   "id": "d8b24d15",
   "metadata": {},
   "outputs": [
    {
     "data": {
      "text/html": [
       "<div>\n",
       "<style scoped>\n",
       "    .dataframe tbody tr th:only-of-type {\n",
       "        vertical-align: middle;\n",
       "    }\n",
       "\n",
       "    .dataframe tbody tr th {\n",
       "        vertical-align: top;\n",
       "    }\n",
       "\n",
       "    .dataframe thead th {\n",
       "        text-align: right;\n",
       "    }\n",
       "</style>\n",
       "<table border=\"1\" class=\"dataframe\">\n",
       "  <thead>\n",
       "    <tr style=\"text-align: right;\">\n",
       "      <th></th>\n",
       "      <th>customer_id</th>\n",
       "      <th>promo_amount</th>\n",
       "      <th>shipment_fee</th>\n",
       "      <th>shipment_location_lat</th>\n",
       "      <th>shipment_location_long</th>\n",
       "      <th>total_amount</th>\n",
       "      <th>product_id</th>\n",
       "      <th>quantity</th>\n",
       "      <th>item_price</th>\n",
       "    </tr>\n",
       "  </thead>\n",
       "  <tbody>\n",
       "    <tr>\n",
       "      <th>Missing percentage</th>\n",
       "      <td>0.0</td>\n",
       "      <td>0.0</td>\n",
       "      <td>0.0</td>\n",
       "      <td>0.000000</td>\n",
       "      <td>0.000000</td>\n",
       "      <td>0.0</td>\n",
       "      <td>0.0</td>\n",
       "      <td>0.0</td>\n",
       "      <td>0.0</td>\n",
       "    </tr>\n",
       "    <tr>\n",
       "      <th>Min</th>\n",
       "      <td>3.0</td>\n",
       "      <td>0.0</td>\n",
       "      <td>0.0</td>\n",
       "      <td>-10.995516</td>\n",
       "      <td>95.030728</td>\n",
       "      <td>10898.0</td>\n",
       "      <td>1163.0</td>\n",
       "      <td>1.0</td>\n",
       "      <td>5600.0</td>\n",
       "    </tr>\n",
       "    <tr>\n",
       "      <th>Median</th>\n",
       "      <td>49577.0</td>\n",
       "      <td>0.0</td>\n",
       "      <td>10000.0</td>\n",
       "      <td>-6.242058</td>\n",
       "      <td>110.172372</td>\n",
       "      <td>455877.0</td>\n",
       "      <td>28614.0</td>\n",
       "      <td>1.0</td>\n",
       "      <td>233540.0</td>\n",
       "    </tr>\n",
       "    <tr>\n",
       "      <th>Max</th>\n",
       "      <td>99999.0</td>\n",
       "      <td>24519.0</td>\n",
       "      <td>50000.0</td>\n",
       "      <td>5.874791</td>\n",
       "      <td>141.006140</td>\n",
       "      <td>23504487.0</td>\n",
       "      <td>60000.0</td>\n",
       "      <td>48.0</td>\n",
       "      <td>1200357.0</td>\n",
       "    </tr>\n",
       "    <tr>\n",
       "      <th>unique</th>\n",
       "      <td>50705.0</td>\n",
       "      <td>15180.0</td>\n",
       "      <td>6.0</td>\n",
       "      <td>440963.000000</td>\n",
       "      <td>440963.000000</td>\n",
       "      <td>469757.0</td>\n",
       "      <td>44446.0</td>\n",
       "      <td>44.0</td>\n",
       "      <td>382996.0</td>\n",
       "    </tr>\n",
       "    <tr>\n",
       "      <th>Q1</th>\n",
       "      <td>24478.0</td>\n",
       "      <td>0.0</td>\n",
       "      <td>0.0</td>\n",
       "      <td>-7.375628</td>\n",
       "      <td>106.863282</td>\n",
       "      <td>246645.0</td>\n",
       "      <td>14776.0</td>\n",
       "      <td>1.0</td>\n",
       "      <td>168373.0</td>\n",
       "    </tr>\n",
       "    <tr>\n",
       "      <th>Q3</th>\n",
       "      <td>74948.0</td>\n",
       "      <td>3998.0</td>\n",
       "      <td>10000.0</td>\n",
       "      <td>-3.090132</td>\n",
       "      <td>113.220010</td>\n",
       "      <td>1360496.0</td>\n",
       "      <td>44695.0</td>\n",
       "      <td>1.0</td>\n",
       "      <td>313647.0</td>\n",
       "    </tr>\n",
       "    <tr>\n",
       "      <th>IQR</th>\n",
       "      <td>50470.0</td>\n",
       "      <td>3998.0</td>\n",
       "      <td>10000.0</td>\n",
       "      <td>4.285496</td>\n",
       "      <td>6.356728</td>\n",
       "      <td>1113851.0</td>\n",
       "      <td>29919.0</td>\n",
       "      <td>0.0</td>\n",
       "      <td>145274.0</td>\n",
       "    </tr>\n",
       "  </tbody>\n",
       "</table>\n",
       "</div>"
      ],
      "text/plain": [
       "                    customer_id  promo_amount  shipment_fee  \\\n",
       "Missing percentage          0.0           0.0           0.0   \n",
       "Min                         3.0           0.0           0.0   \n",
       "Median                  49577.0           0.0       10000.0   \n",
       "Max                     99999.0       24519.0       50000.0   \n",
       "unique                  50705.0       15180.0           6.0   \n",
       "Q1                      24478.0           0.0           0.0   \n",
       "Q3                      74948.0        3998.0       10000.0   \n",
       "IQR                     50470.0        3998.0       10000.0   \n",
       "\n",
       "                    shipment_location_lat  shipment_location_long  \\\n",
       "Missing percentage               0.000000                0.000000   \n",
       "Min                            -10.995516               95.030728   \n",
       "Median                          -6.242058              110.172372   \n",
       "Max                              5.874791              141.006140   \n",
       "unique                      440963.000000           440963.000000   \n",
       "Q1                              -7.375628              106.863282   \n",
       "Q3                              -3.090132              113.220010   \n",
       "IQR                              4.285496                6.356728   \n",
       "\n",
       "                    total_amount  product_id  quantity  item_price  \n",
       "Missing percentage           0.0         0.0       0.0         0.0  \n",
       "Min                      10898.0      1163.0       1.0      5600.0  \n",
       "Median                  455877.0     28614.0       1.0    233540.0  \n",
       "Max                   23504487.0     60000.0      48.0   1200357.0  \n",
       "unique                  469757.0     44446.0      44.0    382996.0  \n",
       "Q1                      246645.0     14776.0       1.0    168373.0  \n",
       "Q3                     1360496.0     44695.0       1.0    313647.0  \n",
       "IQR                    1113851.0     29919.0       0.0    145274.0  "
      ]
     },
     "execution_count": 65,
     "metadata": {},
     "output_type": "execute_result"
    }
   ],
   "source": [
    "# List numerical columns\n",
    "nume_cols = ['customer_id', 'promo_amount', 'shipment_fee' , 'shipment_location_lat' , 'shipment_location_long', 'total_amount',\n",
    "             'product_id' , 'quantity' , 'item_price']\n",
    "\n",
    "# Calculate missing percentages\n",
    "missing_percentages = np.sum(df_transaction[nume_cols].isna(), axis=0) / df_transaction.shape[0] * 100\n",
    "mins = df_transaction[nume_cols].quantile(0, numeric_only=False)\n",
    "medians = df_transaction[nume_cols].quantile(0.5, numeric_only=False)\n",
    "maxs = df_transaction[nume_cols].quantile(1, numeric_only=False)\n",
    "unique = df_transaction[nume_cols].nunique()\n",
    "\n",
    "Q_1 = df_transaction[nume_cols].quantile(0.25)\n",
    "Q_3 = df_transaction[nume_cols].quantile(0.75)\n",
    "IQR = df_transaction[nume_cols].quantile(0.75) - df_transaction[nume_cols].quantile(0.25)\n",
    "\n",
    "# Dataframe \n",
    "nume_cols_dist_df = pd.DataFrame(data=[missing_percentages, mins, medians, maxs , unique , Q_1 , Q_3, IQR],\n",
    "                                       index=['Missing percentage', 'Min', 'Median', 'Max' , 'unique' , 'Q1' , 'Q3' , 'IQR'],\n",
    "                                       columns=nume_cols)\n",
    "nume_cols_dist_df"
   ]
  },
  {
   "cell_type": "markdown",
   "id": "041eac85",
   "metadata": {},
   "source": [
    "Ta có thể thấy:\n",
    "- Về missing percentage:\n",
    "    - Chúng ta có thể thấy rằng các cột `customer_id`, `promo_amount`, `shipment_fee` , `shipment_location_lat` , `shipment_location_long`, `total_amount`, `product_id` , `quantity` , `item_price` không có giá trị bị thiếu, phần trăm bị thiếu bằng 0\n",
    "- Về min, median, max và unique():\n",
    "    - Tất cả các cột ngoại trừ `shipment_location_long` và `shipment_location_lat` đều có range rất rộng.\n",
    "    - Có một số cột `id` chúng ta sẽ không xét tới ví dụ như `customer_id`, `product_id`\n",
    "    - Chúng ta có thể thấy cột `shipment_fee` có range khá lớn tuy nhiên có 6 giá trị"
   ]
  },
  {
   "cell_type": "markdown",
   "id": "edc1c0ce",
   "metadata": {},
   "source": [
    "Xét cột `promo_amount`, `shipment_fee`, `total_amount`, `quantity`, `item_price`"
   ]
  },
  {
   "cell_type": "code",
   "execution_count": 66,
   "id": "801c7256",
   "metadata": {},
   "outputs": [
    {
     "data": {
      "text/plain": [
       "array([10000,     0,  5000, 50000, 25000, 15000])"
      ]
     },
     "execution_count": 66,
     "metadata": {},
     "output_type": "execute_result"
    }
   ],
   "source": [
    "df_transaction['shipment_fee'].unique()"
   ]
  },
  {
   "cell_type": "code",
   "execution_count": 67,
   "id": "a37aa54f",
   "metadata": {},
   "outputs": [
    {
     "data": {
      "text/plain": [
       "<Axes: xlabel='item_price'>"
      ]
     },
     "execution_count": 67,
     "metadata": {},
     "output_type": "execute_result"
    },
    {
     "data": {
      "image/png": "[encoded data removed]",
      "text/plain": [
       "<Figure size 640x480 with 1 Axes>"
      ]
     },
     "metadata": {},
     "output_type": "display_data"
    }
   ],
   "source": [
    "sns.boxplot(x = df_transaction['item_price'])"
   ]
  },
  {
   "cell_type": "code",
   "execution_count": 68,
   "id": "ce4039bf",
   "metadata": {},
   "outputs": [
    {
     "name": "stdout",
     "output_type": "stream",
     "text": [
      "Q1, Q2, Q3: 168373.0 233540.0 313647.0\n",
      "Number of outliers: 24510\n"
     ]
    }
   ],
   "source": [
    "Q1 = df_transaction['item_price'].quantile(0.25)\n",
    "Q2 = df_transaction['item_price'].quantile(0.5)\n",
    "Q3 = df_transaction['item_price'].quantile(0.75)\n",
    "IQR = df_transaction['item_price'].quantile(0.75) - df_transaction['item_price'].quantile(0.25)\n",
    "minimum = Q1 - 1.5 * IQR\n",
    "maximum = Q3 + 1.5 * IQR\n",
    "\n",
    "print(\"Q1, Q2, Q3:\", Q1, Q2, Q3)\n",
    "print(\"Number of outliers:\", len(df_transaction[(df_transaction['item_price'] < minimum) | (df_transaction['item_price'] > maximum)]))"
   ]
  },
  {
   "cell_type": "markdown",
   "id": "b93c58bd",
   "metadata": {},
   "source": [
    "- Dựa vào biểu đồ trên và các hệ số Q1, median và Q3 chúng ta có thể thấy rằng, 25% sản phẩm `item_price` có giá 168.373, tiếp theo đó là median, tức 50% giá trị tập trung tại giá 233.540, cuối cùng là mức 75% có giá 313.647. Và chúng ta có thể thấy rằng có khá nhiều giá trị outlier, tức `item_price` vượt quá mức Q3+1.5.(IQR) hay bằng 313647 + 1.5*(145274) = 531.558\n",
    "- Có đến `24510` outlier xét trong cột `item_price`"
   ]
  },
  {
   "cell_type": "markdown",
   "id": "6084024d",
   "metadata": {},
   "source": [
    "Xét cột `created_at`, `shipment_date_limit`"
   ]
  },
  {
   "cell_type": "code",
   "execution_count": 69,
   "id": "9553695a",
   "metadata": {},
   "outputs": [
    {
     "data": {
      "text/html": [
       "<div>\n",
       "<style scoped>\n",
       "    .dataframe tbody tr th:only-of-type {\n",
       "        vertical-align: middle;\n",
       "    }\n",
       "\n",
       "    .dataframe tbody tr th {\n",
       "        vertical-align: top;\n",
       "    }\n",
       "\n",
       "    .dataframe thead th {\n",
       "        text-align: right;\n",
       "    }\n",
       "</style>\n",
       "<table border=\"1\" class=\"dataframe\">\n",
       "  <thead>\n",
       "    <tr style=\"text-align: right;\">\n",
       "      <th></th>\n",
       "      <th>created_at</th>\n",
       "      <th>customer_id</th>\n",
       "      <th>booking_id</th>\n",
       "      <th>session_id</th>\n",
       "      <th>payment_method</th>\n",
       "      <th>payment_status</th>\n",
       "      <th>promo_amount</th>\n",
       "      <th>shipment_fee</th>\n",
       "      <th>shipment_date_limit</th>\n",
       "      <th>shipment_location_lat</th>\n",
       "      <th>shipment_location_long</th>\n",
       "      <th>total_amount</th>\n",
       "      <th>product_id</th>\n",
       "      <th>quantity</th>\n",
       "      <th>item_price</th>\n",
       "    </tr>\n",
       "  </thead>\n",
       "  <tbody>\n",
       "    <tr>\n",
       "      <th>0</th>\n",
       "      <td>2018-07-29 15:22:01.458193+00:00</td>\n",
       "      <td>5868</td>\n",
       "      <td>186e2bee-0637-4710-8981-50c2d737bc42</td>\n",
       "      <td>3abaa6ce-e320-4e51-9469-d9f3fa328e86</td>\n",
       "      <td>Debit Card</td>\n",
       "      <td>Success</td>\n",
       "      <td>1415</td>\n",
       "      <td>10000</td>\n",
       "      <td>2018-08-03 05:07:24.812676+00:00</td>\n",
       "      <td>-8.227893</td>\n",
       "      <td>111.969107</td>\n",
       "      <td>199832</td>\n",
       "      <td>54728</td>\n",
       "      <td>1</td>\n",
       "      <td>191247</td>\n",
       "    </tr>\n",
       "    <tr>\n",
       "      <th>1</th>\n",
       "      <td>2018-07-30 12:40:22.365620+00:00</td>\n",
       "      <td>4774</td>\n",
       "      <td>caadb57b-e808-4f94-9e96-8a7d4c9898db</td>\n",
       "      <td>2ee5ead1-f13e-4759-92df-7ff48475e970</td>\n",
       "      <td>Credit Card</td>\n",
       "      <td>Success</td>\n",
       "      <td>0</td>\n",
       "      <td>10000</td>\n",
       "      <td>2018-08-03 01:29:03.415705+00:00</td>\n",
       "      <td>3.013470</td>\n",
       "      <td>107.802514</td>\n",
       "      <td>155526</td>\n",
       "      <td>16193</td>\n",
       "      <td>1</td>\n",
       "      <td>145526</td>\n",
       "    </tr>\n",
       "    <tr>\n",
       "      <th>2</th>\n",
       "      <td>2018-09-15 11:51:17.365620+00:00</td>\n",
       "      <td>4774</td>\n",
       "      <td>6000fffb-9c1a-4f4a-9296-bc8f6b622b50</td>\n",
       "      <td>93325fb6-eb00-4268-bb0e-6471795a0ad0</td>\n",
       "      <td>OVO</td>\n",
       "      <td>Success</td>\n",
       "      <td>0</td>\n",
       "      <td>10000</td>\n",
       "      <td>2018-09-18 08:41:49.422380+00:00</td>\n",
       "      <td>-2.579428</td>\n",
       "      <td>115.743885</td>\n",
       "      <td>550696</td>\n",
       "      <td>53686</td>\n",
       "      <td>4</td>\n",
       "      <td>135174</td>\n",
       "    </tr>\n",
       "    <tr>\n",
       "      <th>3</th>\n",
       "      <td>2018-11-01 11:23:48.365620+00:00</td>\n",
       "      <td>4774</td>\n",
       "      <td>f5e530a7-4350-4cd1-a3bc-525b5037bcab</td>\n",
       "      <td>bcad5a61-1b67-448d-8ff4-781d67bc56e4</td>\n",
       "      <td>Credit Card</td>\n",
       "      <td>Success</td>\n",
       "      <td>0</td>\n",
       "      <td>0</td>\n",
       "      <td>2018-11-05 17:42:27.954235+00:00</td>\n",
       "      <td>-3.602334</td>\n",
       "      <td>120.363824</td>\n",
       "      <td>271012</td>\n",
       "      <td>20228</td>\n",
       "      <td>1</td>\n",
       "      <td>271012</td>\n",
       "    </tr>\n",
       "    <tr>\n",
       "      <th>4</th>\n",
       "      <td>2018-12-18 11:20:30.365620+00:00</td>\n",
       "      <td>4774</td>\n",
       "      <td>0efc0594-dbbf-4f9a-b0b0-a488cfddf8a2</td>\n",
       "      <td>df1042ab-13e6-4072-b9d2-64a81974c51a</td>\n",
       "      <td>Credit Card</td>\n",
       "      <td>Success</td>\n",
       "      <td>0</td>\n",
       "      <td>0</td>\n",
       "      <td>2018-12-23 17:24:07.361785+00:00</td>\n",
       "      <td>-3.602334</td>\n",
       "      <td>120.363824</td>\n",
       "      <td>198753</td>\n",
       "      <td>55220</td>\n",
       "      <td>1</td>\n",
       "      <td>198753</td>\n",
       "    </tr>\n",
       "  </tbody>\n",
       "</table>\n",
       "</div>"
      ],
      "text/plain": [
       "                        created_at  customer_id  \\\n",
       "0 2018-07-29 15:22:01.458193+00:00         5868   \n",
       "1 2018-07-30 12:40:22.365620+00:00         4774   \n",
       "2 2018-09-15 11:51:17.365620+00:00         4774   \n",
       "3 2018-11-01 11:23:48.365620+00:00         4774   \n",
       "4 2018-12-18 11:20:30.365620+00:00         4774   \n",
       "\n",
       "                             booking_id                            session_id  \\\n",
       "0  186e2bee-0637-4710-8981-50c2d737bc42  3abaa6ce-e320-4e51-9469-d9f3fa328e86   \n",
       "1  caadb57b-e808-4f94-9e96-8a7d4c9898db  2ee5ead1-f13e-4759-92df-7ff48475e970   \n",
       "2  6000fffb-9c1a-4f4a-9296-bc8f6b622b50  93325fb6-eb00-4268-bb0e-6471795a0ad0   \n",
       "3  f5e530a7-4350-4cd1-a3bc-525b5037bcab  bcad5a61-1b67-448d-8ff4-781d67bc56e4   \n",
       "4  0efc0594-dbbf-4f9a-b0b0-a488cfddf8a2  df1042ab-13e6-4072-b9d2-64a81974c51a   \n",
       "\n",
       "  payment_method payment_status  promo_amount  shipment_fee  \\\n",
       "0     Debit Card        Success          1415         10000   \n",
       "1    Credit Card        Success             0         10000   \n",
       "2            OVO        Success             0         10000   \n",
       "3    Credit Card        Success             0             0   \n",
       "4    Credit Card        Success             0             0   \n",
       "\n",
       "               shipment_date_limit  shipment_location_lat  \\\n",
       "0 2018-08-03 05:07:24.812676+00:00              -8.227893   \n",
       "1 2018-08-03 01:29:03.415705+00:00               3.013470   \n",
       "2 2018-09-18 08:41:49.422380+00:00              -2.579428   \n",
       "3 2018-11-05 17:42:27.954235+00:00              -3.602334   \n",
       "4 2018-12-23 17:24:07.361785+00:00              -3.602334   \n",
       "\n",
       "   shipment_location_long  total_amount  product_id  quantity  item_price  \n",
       "0              111.969107        199832       54728         1      191247  \n",
       "1              107.802514        155526       16193         1      145526  \n",
       "2              115.743885        550696       53686         4      135174  \n",
       "3              120.363824        271012       20228         1      271012  \n",
       "4              120.363824        198753       55220         1      198753  "
      ]
     },
     "execution_count": 69,
     "metadata": {},
     "output_type": "execute_result"
    }
   ],
   "source": [
    "df_transaction.head()"
   ]
  },
  {
   "cell_type": "code",
   "execution_count": 70,
   "id": "0fc771c9",
   "metadata": {},
   "outputs": [
    {
     "name": "stdout",
     "output_type": "stream",
     "text": [
      "Minimum datetime: 2016-06-30 23:18:44.792905+00:00\n",
      "Maximum datetime: 2022-07-31 23:59:45.821469+00:00\n"
     ]
    }
   ],
   "source": [
    "# Find minimum and maximum datetime values\n",
    "min_datetime = df_transaction['created_at'].min()\n",
    "max_datetime = df_transaction['created_at'].max()\n",
    "\n",
    "print(\"Minimum datetime:\", min_datetime)\n",
    "print(\"Maximum datetime:\", max_datetime)"
   ]
  },
  {
   "cell_type": "markdown",
   "id": "38eca549",
   "metadata": {},
   "source": [
    "- Dựa vào số liệu trên chúng ta có thể thấy ngày giao dịch bắt đầu là từ ngày 30/6/2016 đến ngày 31/7/2022. Một quãng thời gian khá dài\n",
    "- Để xem rằng dữ liệu của chúng ta có phù hợp hay không, chúng ta sẽ xem xét số ngày cần giao hàng của các giao dịch là bao lâu. Tại vì rất có thể dữ liệu ngày của chúng ta bị sai."
   ]
  },
  {
   "cell_type": "code",
   "execution_count": 71,
   "id": "77ca367c",
   "metadata": {},
   "outputs": [
    {
     "name": "stdout",
     "output_type": "stream",
     "text": [
      "Minimum sub date: 1 days 00:00:02.200453\n",
      "Maximum sub date: 6 days 00:59:59.332085\n"
     ]
    }
   ],
   "source": [
    "df_transaction_new = df_transaction\n",
    "df_transaction_new['sub_date'] = df_transaction_new['shipment_date_limit'] - df_transaction_new['created_at']\n",
    "\n",
    "min_datetime = df_transaction_new['sub_date'].min()\n",
    "max_datetime = df_transaction_new['sub_date'].max()\n",
    "\n",
    "print(\"Minimum sub date:\", min_datetime)\n",
    "print(\"Maximum sub date:\", max_datetime)\n"
   ]
  },
  {
   "cell_type": "markdown",
   "id": "a65b75b3",
   "metadata": {},
   "source": [
    "- Chúng ta có thể thấy rằng thời gian nhanh nhất để thực hiện xong một đơn hàng là 1 ngày và thời gian thực hiện lâu nhất với một đơn hàng là 6 ngày. \n",
    "- Từ đó chúng ta có thể thấy rằng dữ liệu của chúng ta phù hợp, không có trường hợp lỗi."
   ]
  },
  {
   "cell_type": "markdown",
   "id": "5942f9a8",
   "metadata": {},
   "source": [
    "Chúng ta thử xét xu hướng mua hàng của bộ dữ liệu như thế nào theo hàng tuần"
   ]
  },
  {
   "cell_type": "code",
   "execution_count": 72,
   "id": "a9d5902c",
   "metadata": {},
   "outputs": [
    {
     "data": {
      "image/png": "[encoded data removed]",
      "text/plain": [
       "<Figure size 1500x500 with 1 Axes>"
      ]
     },
     "metadata": {},
     "output_type": "display_data"
    }
   ],
   "source": [
    "# Weekly sales trend (optional)\n",
    "df_transaction_trend = df_transaction\n",
    "df_transaction_trend['created_at'] = pd.to_datetime(df_transaction_trend['created_at'])\n",
    "df_transaction_trend.set_index('created_at', inplace=True)\n",
    "\n",
    "plt.figure(figsize=(15, 5))\n",
    "\n",
    "weekly_sales = df_transaction_trend['total_amount'].resample('W').sum()\n",
    "weekly_sales.plot()\n",
    "plt.title('Weekly Sales Trend')\n",
    "plt.ylabel('Total Sales')\n",
    "plt.show()"
   ]
  },
  {
   "cell_type": "markdown",
   "id": "99854a34",
   "metadata": {},
   "source": [
    "Chúng ta có thể thấy rằng hoạt động kinh doanh của công ty khá tốt, xu hướng mua hàng ngày càng tăng. Và trong giai đoạn dịch covid-19 là thời điểm mà hoạt động của sàn thương mại điện tử mạnh nhất. Tuy nhiên trong cuối năm 2022 chúng ta có thể thấy sự suy giảm của nó, có thể là do các quốc gia không còn hạn chế ra ngoài đường nữa."
   ]
  },
  {
   "cell_type": "markdown",
   "id": "4b7a4bc3",
   "metadata": {},
   "source": [
    "---"
   ]
  },
  {
   "cell_type": "markdown",
   "id": "3d75785f",
   "metadata": {},
   "source": [
    "### **_03.2. Categorical columns distribution:_**"
   ]
  },
  {
   "cell_type": "code",
   "execution_count": null,
   "id": "b86f03de",
   "metadata": {},
   "outputs": [],
   "source": []
  },
  {
   "cell_type": "markdown",
   "id": "02256684",
   "metadata": {},
   "source": [
    "---"
   ]
  },
  {
   "cell_type": "markdown",
   "id": "6f579893",
   "metadata": {},
   "source": [
    "#### **<center>END OF SECTION</center>**"
   ]
  },
  {
   "cell_type": "markdown",
   "id": "302945a9",
   "metadata": {},
   "source": [
    "---"
   ]
  }
 ],
 "metadata": {
  "kernelspec": {
   "display_name": "Python 3 (ipykernel)",
   "language": "python",
   "name": "python3"
  },
  "language_info": {
   "codemirror_mode": {
    "name": "ipython",
    "version": 3
   },
   "file_extension": ".py",
   "mimetype": "text/x-python",
   "name": "python",
   "nbconvert_exporter": "python",
   "pygments_lexer": "ipython3",
   "version": "3.11.5"
  },
  "vscode": {
   "interpreter": {
    "hash": "b21147f2419be4da8d7582b23aa991572aa88be9e9fd6d03988264f429b89f7c"
   }
  }
 },
 "nbformat": 4,
 "nbformat_minor": 5
}
