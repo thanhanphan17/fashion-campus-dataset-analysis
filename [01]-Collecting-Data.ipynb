{
 "cells": [
  {
   "cell_type": "markdown",
   "metadata": {},
   "source": [
    "# **<center>Collecting Data Section</center>**"
   ]
  },
  {
   "cell_type": "markdown",
   "metadata": {},
   "source": [
    "### **_01. Topic and Data Source:_**"
   ]
  },
  {
   "cell_type": "markdown",
   "metadata": {},
   "source": [
    "- Bộ dữ liệu [Fashion Campus](https://www.kaggle.com/datasets/latifahhukma/fashion-campus?select=transaction_new.csv) chứa thông tin của 100.000 khách hàng,  44.446 sản phẩm bán ra và 10.254.585 giao dịch được thu thập từ tháng 7 năm 2018 tới tháng 12 năm 2019 trên sàn thương mại điện tử Fashion Campus tại Indonesia\n",
    "- Một công ty thời trang thương mại điện tử với thị phần là \"Indonesian Young Urbans\" - được thành lập tại Indonesia vào đầu năm 2016 với tên gọi Fashion Campus. Công ty này giới thiệu một danh mục các thương hiệu trong nước và quốc tế được giới trẻ yêu thích. Bộ Datasets chứa dữ liệu từ các thông tin của khách hàng (customer), sản phẩm (product) và giao dịch (transaction) được thu thập từ trang web Fashion Campus. Trên kaggle có 3 file dữ liệu là (customer.csv, product.csv và transaction_new.csv). Vì 3 file dữ liệu này có mối quan hệ mất thiết với nhau và lượng dữ liệu khá lớn nên nhóm quyết định chọn cả 3 file dữ liệu để thực hiện đồ án này."
   ]
  },
  {
   "cell_type": "markdown",
   "metadata": {},
   "source": [
    "### **_02. License và Copyright:_**"
   ]
  },
  {
   "cell_type": "markdown",
   "metadata": {},
   "source": [
    "- Tác giả: [Startup Campus](https://www.kaggle.com/datasets/bytadit/transactional-ecommerce): Startup Campus là chương trình chuẩn bị công việc tốt nhất đồng hành cùng người tham gia từ khi bắt đầu cho đến khi họ sẵn sàng làm việc tại các công ty nổi tiếng trong và ngoài nước.\n",
    "- License: [CC BY-NC-SA 4.0](https://creativecommons.org/licenses/by-nc-sa/4.0/) nguồn này là public và no copyright vì vậy nhóm có thể sao chép, sửa đổi và phân phối."
   ]
  },
  {
   "cell_type": "markdown",
   "metadata": {},
   "source": [
    "### **_03. Data Information_**"
   ]
  },
  {
   "cell_type": "markdown",
   "metadata": {},
   "source": [
    "- Một công ty thời trang thương mại điện tử với thị phần là \"Indonesian Young Urbans\" - thanh niên từ 15-35 tuổi - được thành lập tại Indonesia vào đầu năm 2016 với tên gọi Fashion Campus. Công ty này giới thiệu một danh mục các thương hiệu trong nước và quốc tế được giới trẻ yêu thích. Vì hợp tác với nhiều thương hiệu địa phương nên sau hơn một năm hoạt động, họ đã thành công trong việc thu hút khá nhiều khách hàng quay trở lại với 10.000 người dùng hoạt động tính đến tháng 6 năm 2022 và nhận được hơn 100.000 đơn đặt hàng mỗi tháng.\n",
    "\n",
    "- Kể từ khi đại dịch xảy ra vào năm 2020, Fashion Campus đã nhận thấy tiềm năng phát triển của mua sắm kỹ thuật số vì mọi người có nhiều thời gian truy cập internet hơn. Lisna và Wira, với tư cách là thành viên của Nhóm Tiếp thị, được yêu cầu tiến hành nghiên cứu thị trường. Kết quả là, họ nhận thấy rằng trong thời kỳ đại dịch này, một xu hướng mới cũng xuất hiện trong thị trường mục tiêu của Cơ sở Thời trang. Hóa ra, \"Indonesian Young Urbans\" đang bắt đầu thực hành tiết kiệm hoặc mua bán quần áo cũ. Từ phát hiện này, Lisna và Wira đã gửi đề xuất lên Nhóm Phát triển Kinh doanh để phát triển mô hình kinh doanh bán quần áo đã qua sử dụng nhưng vẫn còn sử dụng được.\n",
    "\n",
    "- Việc phát triển mô hình kinh doanh của nhóm Phát triển Kinh doanh sẽ được hỗ trợ bởi bốn nhóm, đó là nhóm Khoa học dữ liệu, Nhóm UI/UX, Nhóm Trí tuệ nhân tạo và Nhóm phụ trợ. Lisna và Wira cũng đã thông báo với các nhóm liên quan rằng không có nhiều thời gian phát triển. Toàn bộ nhóm dự kiến ​​​​sẽ có thể trình bày những phát hiện của mình với các quan chức của Fashion Campus theo thời gian được cung cấp.\n",
    "\n",
    "- Với số lượng người dùng ngày càng tăng, nhiều người dùng đang được thu hút chỉ để đáp ứng số lượng người dùng mục tiêu của công ty Fashion Campus. Nhóm Tiếp thị được giao nhiệm vụ tạo ra các chương trình khuyến mãi hấp dẫn để thu hút sự chú ý của người dùng. Tuy nhiên, điều này có tác động đến số lượng người dùng không tự nhiên, trong đó nhiều người trong số họ không quay lại nền tảng để thực hiện giao dịch. Tỷ lệ rời bỏ từ người dùng cũng tăng lên. Nhóm DS được giao nhiệm vụ phân tích sự cố này bằng cách tạo ra một mô hình dự đoán tình trạng rời bỏ.\n",
    "\n",
    "- Dữ liệu sẽ được cung cấp cho Nhóm Khoa học dữ liệu là dữ liệu nhân khẩu học, giao dịch và cả dữ liệu luồng nhấp chuột. Từ ba dữ liệu này, bạn được yêu cầu tạo nhiều tính năng khác nhau để làm cho mô hình của mình trở nên chính xác. Ngoài ra, hãy chú ý đến tất cả các kết hợp và tất cả các khả năng mà người dùng có thể thực hiện.\n",
    "\n",
    "- Các bên liên quan của bạn là Nhóm tiếp thị và một số Nhóm kinh doanh muốn biết xác suất người dùng rời bỏ trong một (1) tháng tới. Họ cũng muốn biết mô hình của bạn chính xác đến mức nào vì điều này sẽ ảnh hưởng đến các quyết định chiến lược của nhóm tiếp thị và cả nhóm kinh doanh."
   ]
  }
 ],
 "metadata": {
  "kernelspec": {
   "display_name": "base",
   "language": "python",
   "name": "python3"
  },
  "language_info": {
   "codemirror_mode": {
    "name": "ipython",
    "version": 3
   },
   "file_extension": ".py",
   "mimetype": "text/x-python",
   "name": "python",
   "nbconvert_exporter": "python",
   "pygments_lexer": "ipython3",
   "version": "3.9.18"
  }
 },
 "nbformat": 4,
 "nbformat_minor": 2
}
