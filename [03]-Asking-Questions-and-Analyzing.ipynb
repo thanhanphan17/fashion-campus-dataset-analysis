{
 "cells": [
  {
   "cell_type": "markdown",
   "id": "4a3dde71",
   "metadata": {},
   "source": [
    "# **<center>Asking Questions and Analyzing Section</center>**"
   ]
  },
  {
   "cell_type": "markdown",
   "id": "51001708",
   "metadata": {},
   "source": [
    "## **_00. Import necessary libraries:_**"
   ]
  },
  {
   "cell_type": "code",
   "execution_count": 1,
   "id": "e3895a2c",
   "metadata": {},
   "outputs": [],
   "source": [
    "import pandas as pd\n",
    "import numpy as np\n",
    "import seaborn as sns\n",
    "import matplotlib.pyplot as plt\n",
    "import networkx as nx\n",
    "\n",
    "pd.set_option('display.max_columns', None)"
   ]
  },
  {
   "cell_type": "markdown",
   "id": "622af556",
   "metadata": {},
   "source": [
    "## **_01. Asking Meaningfull Questions:_**"
   ]
  },
  {
   "cell_type": "markdown",
   "id": "9b07d85c",
   "metadata": {},
   "source": [
    "### **_01.1. Question number 1_**"
   ]
  },
  {
   "cell_type": "markdown",
   "id": "f43ddf42",
   "metadata": {},
   "source": []
  },
  {
   "cell_type": "markdown",
   "id": "c8d9ac5e",
   "metadata": {},
   "source": [
    "### **_01.2. Question number 2_**"
   ]
  },
  {
   "cell_type": "markdown",
   "id": "62e13bc8",
   "metadata": {},
   "source": []
  },
  {
   "cell_type": "markdown",
   "id": "95a432a7",
   "metadata": {},
   "source": [
    "### **_01.3. Question number 3_**"
   ]
  },
  {
   "cell_type": "markdown",
   "id": "28ee2dd9",
   "metadata": {},
   "source": []
  },
  {
   "cell_type": "markdown",
   "id": "5ab10afc",
   "metadata": {},
   "source": [
    "### **_01.4. Question number 4_**"
   ]
  },
  {
   "cell_type": "markdown",
   "id": "e4c5a867",
   "metadata": {},
   "source": []
  },
  {
   "cell_type": "markdown",
   "id": "4635e405",
   "metadata": {},
   "source": [
    "## **_02. Input Data and Pre-processing Data:_**"
   ]
  },
  {
   "cell_type": "code",
   "execution_count": null,
   "id": "78245cc2",
   "metadata": {},
   "outputs": [],
   "source": []
  },
  {
   "cell_type": "markdown",
   "id": "952f6569",
   "metadata": {},
   "source": [
    "## **_03. Analyzing Data to Answer each Question:_**"
   ]
  },
  {
   "cell_type": "markdown",
   "id": "59067c85",
   "metadata": {},
   "source": [
    "### **_03.1. Question number 1_**"
   ]
  },
  {
   "cell_type": "code",
   "execution_count": null,
   "id": "3984d377",
   "metadata": {},
   "outputs": [],
   "source": []
  },
  {
   "cell_type": "markdown",
   "id": "d6f55374",
   "metadata": {},
   "source": [
    "### **_03.2. Question number 2_**"
   ]
  },
  {
   "cell_type": "code",
   "execution_count": null,
   "id": "98a35203",
   "metadata": {},
   "outputs": [],
   "source": []
  },
  {
   "cell_type": "markdown",
   "id": "2a4d4025",
   "metadata": {},
   "source": [
    "### **_03.3. Question number 3_**"
   ]
  },
  {
   "cell_type": "code",
   "execution_count": null,
   "id": "2caf7a3d",
   "metadata": {},
   "outputs": [],
   "source": []
  },
  {
   "cell_type": "markdown",
   "id": "0aba6006",
   "metadata": {},
   "source": [
    "### **_03.4. Question number 4_**"
   ]
  },
  {
   "cell_type": "code",
   "execution_count": null,
   "id": "3bddcab1",
   "metadata": {},
   "outputs": [],
   "source": []
  },
  {
   "cell_type": "markdown",
   "id": "f9862a2e",
   "metadata": {},
   "source": [
    "## **_04. Reflection:_**"
   ]
  },
  {
   "cell_type": "markdown",
   "id": "a9bd141e",
   "metadata": {},
   "source": []
  }
 ],
 "metadata": {
  "kernelspec": {
   "display_name": "Python 3 (ipykernel)",
   "language": "python",
   "name": "python3"
  },
  "language_info": {
   "codemirror_mode": {
    "name": "ipython",
    "version": 3
   },
   "file_extension": ".py",
   "mimetype": "text/x-python",
   "name": "python",
   "nbconvert_exporter": "python",
   "pygments_lexer": "ipython3",
   "version": "3.11.5"
  }
 },
 "nbformat": 4,
 "nbformat_minor": 5
}
