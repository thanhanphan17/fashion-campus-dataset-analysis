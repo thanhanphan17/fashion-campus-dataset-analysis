{
 "cells": [
  {
   "cell_type": "markdown",
   "id": "4a3dde71",
   "metadata": {},
   "source": [
    "# **<center>Asking Questions and Analyzing Section</center>**"
   ]
  },
  {
   "cell_type": "markdown",
   "id": "f6a1b2aa",
   "metadata": {},
   "source": [
    "## **<center>Table of Contents</center>**\n",
    "\n",
    "1. [Asking meaningful questions](#01.-Asking-meaningfull-questions:)\n",
    "    1. [Question 1: Customer demographics and spending](#01.1.-Question-number-1:-By-demographics,-what-is-Customer-Segment-contributed-the-most-on-Avarage-Spending-Money-and-their-most-Favourite-Item-?)\n",
    "    2. [Question 2: Products bought together](#01.2.-Question-number-2:-Which-products-are-more-inclined-to-be-bought-together)\n",
    "    3. [Question 3: Most valuable customer segment](#01.3.-Question-number-3:-What-is-the-customer-segment-that-contributed-the-most-to-our-company)  \n",
    "    4. [Question 4: Sales trends and forecasts](#01.4.-Question-number-4:-How-do-monthly-or-weekly-sales-trends-manifest-in-the-total-sales-figures-Are-there-forecasts-for-future-sales)\n",
    "2. [Input and Preprocess Data](#02.-Input-Data-and-Pre-processing-Data)\n",
    "3. [Analyze Data for Each Question](#03.-Analyzing-Data-to-Answer-each-Question)  \n",
    "    1. [Question 1 Analysis](#03.1.-Question-number-1:-By-demographics,-what-is-Customer-Segment-contributed-the-most-on-Avarage-Spending-Money-and-their-most-Favourite-Item)\n",
    "        1. [Preprocess data](#03.1.1.-Pre-process-Data)  \n",
    "        2. [Average spending](#03.1.2.-The-avarage-money-spending-base-on-Age-and-Gender)\n",
    "        3. [Favorite items](#03.1.3.-What-items-are-the-most-purchasing-by-each-Age-Group-or-Gender)\n",
    "    2. [Question 2 Analysis](#03.2.-Question-number-2:-Which-products-are-more-inclined-to-be-bought-together)\n",
    "        1. [Preprocess data](#03.2.1.-Pre-process-Data)\n",
    "        2. [Cross-selling](#03.2.2.-Cross-Selling)  \n",
    "        3. [Algorithms](#03.2.3.-Algorithms)\n",
    "        4. [Implement Apriori](#03.2.4.-Implement)  \n",
    "    3. [Question 3 Analysis](#03.3.-Question-number-3:-What-is-the-customer-segment-that-contributed-the-most-to-our-company)\n",
    "        1. [Preprocess data](#03.3.1.-Pre-processing-data)\n",
    "        2. [Total spending segments](#03.3.2.-Customer-segment-based-on-total-spending-money)\n",
    "        3. [RFM analysis](#03.3.3.-Analyzing-in-Recency,-Frequency,-and-Monetary)\n",
    "        4. [KMeans clustering](#03.3.4.-Using-Kmeans-to-distribute-Customer-Segment)\n",
    "    4. [Question 4 Analysis](#03.4.-Question-number-4:-How-do-monthly-or-weekly-sales-trends-manifest-in-the-total-sales-figures-Are-there-forecasts-for-future-sales)\n",
    "        1. [Shopping frequency](#03.4.1.-Frequency-of-shopping-days-to-determine-peak-shopping-times-(e.g.,-weekends,-holidays,-end-of-the-month))  \n",
    "        2. [Seasonal trends](#03.4.2.-Which-season-will-customers-buy-the-most)\n",
    "        3. [Revenue trends](#03.4.3.-Analyzing-revenue-trends-over-time)\n",
    "        4. [ARIMA forecasting](#03.4.4.-Apply-the-ARIMA-model-to-the-weekly-sales-forecasting-problem)\n",
    "        5. [Profit trends](#03.4.5.-Profit-trends-over-time-for-individual-industries)\n",
    "4. [Reflection](#04.-Reflection)\n",
    "    1. [Difficulties](#4.1.-What-difficulties-have-you-encountered)\n",
    "    2. [Learnings](#4.2.-What-have-you-learned)\n",
    "    3. [Next steps](#4.3.-If-you-had-more-time,-what-would-you-do)\n",
    "5. [References](#05.-References)"
   ]
  },
  {
   "cell_type": "markdown",
   "id": "51001708",
   "metadata": {},
   "source": [
    "## **_00. Import necessary libraries:_**"
   ]
  },
  {
   "cell_type": "code",
   "execution_count": null,
   "id": "e3895a2c",
   "metadata": {},
   "outputs": [],
   "source": [
    "import warnings\n",
    "import numpy as np\n",
    "import pandas as pd\n",
    "import seaborn as sns\n",
    "import networkx as nx\n",
    "import matplotlib.pyplot as plt\n",
    "\n",
    "from pmdarima.arima import auto_arima\n",
    "from statsmodels.tsa.seasonal import seasonal_decompose\n",
    "from statsmodels.graphics.tsaplots import plot_acf, plot_pacf\n",
    "from mlxtend.frequent_patterns import apriori, association_rules\n",
    "\n",
    "warnings.filterwarnings(\"ignore\")\n",
    "pd.set_option('display.max_columns', None)"
   ]
  },
  {
   "cell_type": "markdown",
   "id": "622af556",
   "metadata": {},
   "source": [
    "## **_01. Asking meaningfull questions:_**"
   ]
  },
  {
   "cell_type": "markdown",
   "id": "9b07d85c",
   "metadata": {},
   "source": [
    "### **_01.1. Question number 1: By demographics, what is Customer Segment contributed the most on Avarage Spending Money and their most Favourite Item?_**"
   ]
  },
  {
   "cell_type": "markdown",
   "id": "054b5e4d",
   "metadata": {},
   "source": [
    "- **Nội dung**: Phân bố khách hàng theo độ tuổi và giới tính, số tiền mua trung bình theo nhóm tuổi hoặc giới tính và các loại sản phẩm phổ biến nhất ở các nhóm tuổi hoặc giới tính khác nhau.\n",
    "- **Mục đích**: Chúng ta sẽ hiểu hơn về khách hàng, một số yếu tố như độ tuổi, giới tính và loại sản phẩm có thể tác động mạnh tới doanh thu công ty Fashion Campus.\n",
    "- **Phân tích**:\n",
    "    - Phân tích phân bố của khách hàng theo độ tuổi và giới tính, từ đó chúng ta so sánh độ lệch trong biểu đồ histogram và chênh lệch giữa các giới tính\n",
    "    - Xác định số tiền mua trung bình theo nhóm tuổi hoặc giới tính, bởi trong dữ liệu của chúng ta sẽ có nhiều lứa tuổi, vì vậy việc phân tích thành các cụm là rất cần thiết.\n",
    "    - Xác định những sản phẩm nào được mua phổ biến theo từng nhóm tuổi\n"
   ]
  },
  {
   "cell_type": "markdown",
   "id": "c8d9ac5e",
   "metadata": {},
   "source": [
    "### **_01.2. Question number 2: `Which products are more inclined to be bought together?`_**"
   ]
  },
  {
   "cell_type": "markdown",
   "id": "0b7aaae1",
   "metadata": {},
   "source": [
    "- **Nội dung**: Phân tích những sản phẩm hoặc nhóm sản phẩm thường xuyên mua cùng nhau bằng thuật toán `Apriori` từ đó đề xuất các sản phẩm bổ sung dựa trên lịch sử mua hàng của khách hàng.\n",
    "- **Mục đích**: Tối ưu hóa chiến dịch tiếp thị, doanh nghiệp có thể xác định những chiến dịch tiếp thị hiệu quả nhất bằng cách tìm ra những quy luật kết hợp giữa các sản phẩm hoặc dịch vụ mà khách hàng thường mua. Điều này giúp tối ưu hóa ngân sách tiếp thị và tạo ra chiến dịch hiệu quả hơn.\n",
    "- **Phân tích**:\n",
    "    - Đầu tiên chúng ta cần hiểu một số thông tin về thuật toán Apriori.\n",
    "    - Kiểm tra các sản phẩm được mua với số lượng như thế nào.\n",
    "    - Sử dụng thuật toán Apriori cùng với các chỉ số như min_suport, min_threshold để phân tích tính liên kết các sản phẩm trong Fashion Campus\n",
    "    - Trực quan hóa các liên kết từ đó đánh giá được mối quan hệ giữa các sản phẩm."
   ]
  },
  {
   "cell_type": "markdown",
   "id": "95a432a7",
   "metadata": {},
   "source": [
    "### **_01.3. Question number 3: `What is the customer segment that contributed the most to our company?`_**"
   ]
  },
  {
   "cell_type": "markdown",
   "id": "66d4346c",
   "metadata": {},
   "source": [
    "- **Nội dung**: Phân khúc khách hàng dựa trên hành vi mua hàng, thông tin nhân khẩu học, xác định các phân khúc có giá trị cao đóng góp nhiều nhất vào doanh thu.\n",
    "- **Mục đích**: Phát triển các chiến lược tiếp thị để giữ chân các khách hàng với từng phân khúc cụ thể.\n",
    "- **Phân tích**:\n",
    "    - Phân khúc khách hàng dựa vào tổng số tiền mua, có thể chia thành ba phân khúc như: Giá trị thấp (Low-Value) , Giá trị trung bình (Mid-Value) và Giá trị cao (High-Value) dựa trên tổng số tiền mua hàng của họ.\n",
    "    - Phân tích Recency, Frequency, và Monetary để mô tả đặc điểm của khách hàng bằng tần suất họ tương tác với sàn thương mại điện tử Fashion Campus và mức độ đầu tư của họ vào đó.\n",
    "    - Sử dụng mô hình Kmeans phân khúc khách hàng\n"
   ]
  },
  {
   "cell_type": "markdown",
   "id": "5ab10afc",
   "metadata": {},
   "source": [
    "### **_01.4. Question number 4: `How do monthly or weekly sales trends manifest in the total sales figures? Are there forecasts for future sales?`_**"
   ]
  },
  {
   "cell_type": "markdown",
   "id": "8d14623c",
   "metadata": {},
   "source": [
    "- **Nội dung**: Chúng ta sẽ xác định xu hướng hàng tháng hoặc hàng tuần trong tổng doanh số bán hàng, từ đó dự đoán ra doanh số bán hàng qua mô hình Arima. Ngoài ra chúng ta sẽ xem xét ngành hàng nào được bán chạy nhất theo thời gian.\n",
    "- **Mục đích**: Dự đoán được doanh thu của công ty từ đó có thể đưa ra các chiến lược bán hàng hợp lý\n",
    "   => ta nhận thấy lượng toltal sales tăng dần theo năm, tuy nhiên đến giữa khoảng 2022 có dấu hiệu đi xuống, vì thế chúng tôi tập trung đẩy mạnh vào marketing nhằm nâng cao doanh thu mua hàng\n",
    "- **Phân tích**:\n",
    "    - Xử lý những giao dịch thành công hoặc thất bại trong `payment_status`\n",
    "    - Xác định khoảng thời gian nào khách hàng mua hàng nhiều nhất\n",
    "    - Phân tích doanh thu theo khoảng thời gian như ngày, tuần, tháng.\n",
    "    - Sử dụng mô hình Arima để dự đoán doanh số \n",
    "    - Phân tích xu hướng lợi nhuận theo thời gian của từng ngành hàng"
   ]
  },
  {
   "cell_type": "markdown",
   "id": "4635e405",
   "metadata": {},
   "source": [
    "## **_02. Input Data and Pre-processing Data:_**"
   ]
  },
  {
   "cell_type": "markdown",
   "id": "acdabc46",
   "metadata": {},
   "source": [
    "Phần code này thực hiện:\n",
    "- Thực hiện lại tiền xử lý cho ba bộ dữ liệu `product`, `customer`, `transaction`"
   ]
  },
  {
   "cell_type": "markdown",
   "id": "80edd400",
   "metadata": {},
   "source": [
    "**Đọc dữ liệu cho transaction_new**"
   ]
  },
  {
   "cell_type": "code",
   "execution_count": null,
   "id": "78245cc2",
   "metadata": {},
   "outputs": [],
   "source": [
    "# Đọc dữ liệu transaction\n",
    "df_transaction = pd.read_csv('Data/transaction_new.csv')\n",
    "df_transaction.head(2)"
   ]
  },
  {
   "cell_type": "markdown",
   "id": "e5f1176c",
   "metadata": {},
   "source": [
    "**Tiền xử lí cho customer**"
   ]
  },
  {
   "cell_type": "code",
   "execution_count": null,
   "id": "85bacb2f",
   "metadata": {},
   "outputs": [],
   "source": [
    "df_customer = pd.read_csv(\"Data/customer.csv\")\n",
    "# Chuyển dữ liệu thời gian về đúng kiểu dữ liệu\n",
    "df_customer['first_join_date'] = pd.to_datetime(df_customer['first_join_date'])\n",
    "df_customer['birthdate'] = pd.to_datetime(df_customer['birthdate'])\n",
    "\n",
    "df_customer.head(2)"
   ]
  },
  {
   "cell_type": "markdown",
   "id": "eeb1899e",
   "metadata": {},
   "source": [
    "**Tiền xử lí cho product**"
   ]
  },
  {
   "cell_type": "code",
   "execution_count": null,
   "id": "f271902b",
   "metadata": {},
   "outputs": [],
   "source": [
    "df_product = pd.read_csv(\"Data/product.csv\")\n",
    "# rename: Đổi tên cột\n",
    "df_product = df_product.rename(columns = {'id' : 'product_id'})\n",
    "df_product.head(2)"
   ]
  },
  {
   "cell_type": "markdown",
   "id": "952f6569",
   "metadata": {},
   "source": [
    "## **_03. Analyzing Data to Answer each Question:_**"
   ]
  },
  {
   "cell_type": "markdown",
   "id": "59067c85",
   "metadata": {},
   "source": [
    "### **_03.1. Question number 1: `By demographics, what is Customer Segment contributed the most on Avarage Spending Money and their most Favourite Item?`_**"
   ]
  },
  {
   "cell_type": "markdown",
   "id": "ed4fb688",
   "metadata": {},
   "source": [
    "#### **_03.1.1. Pre-process Data:_**"
   ]
  },
  {
   "cell_type": "markdown",
   "id": "1ba3b87d",
   "metadata": {},
   "source": [
    "  - Phân bố khách hàng theo độ tuổi và giới tính.\n",
    "  - Số tiền mua trung bình theo nhóm tuổi hoặc giới tính.\n",
    "  - Các loại sản phẩm phổ biến nhất ở các nhóm tuổi hoặc giới tính khác nhau."
   ]
  },
  {
   "cell_type": "markdown",
   "id": "37a5b101",
   "metadata": {},
   "source": [
    "**Tạo cột mới**\n",
    "\n",
    "Tạo cột `Age` cho df_customer: Hiện tại chúng ta đã có cột `birthdate` tức ngày sinh của khách hàng, vì vậy chúng ta sẽ tính tuổi bằng cách lấy thời điểm hiện tại trừ cho ngày sinh của khách hàng."
   ]
  },
  {
   "cell_type": "code",
   "execution_count": null,
   "id": "f3a63c32",
   "metadata": {},
   "outputs": [],
   "source": [
    "from datetime import datetime\n",
    "\n",
    "df_customer['Age'] = ((datetime.now() - df_customer['birthdate']).dt.days / 365.25).round().astype(np.int64)"
   ]
  },
  {
   "cell_type": "markdown",
   "id": "e59cd862",
   "metadata": {},
   "source": [
    "**Biểu đồ phân bố khách hàng theo độ tuổi và giới tính.**"
   ]
  },
  {
   "cell_type": "code",
   "execution_count": null,
   "id": "19451c1b",
   "metadata": {},
   "outputs": [],
   "source": [
    "# Set a visually pleasing style\n",
    "sns.set(style=\"whitegrid\")\n",
    "\n",
    "# Create subplots\n",
    "fig, axes = plt.subplots(1, 2, figsize=(15, 6))\n",
    "\n",
    "# Plot for Gender F\n",
    "sns.histplot(data=df_customer[df_customer['gender'] == 'F'], x=\"Age\", color='navy', kde=True, ax=axes[0], bins=30)\n",
    "axes[0].set(title='Age Distribution for Females', xlabel='Age', ylabel='Frequency')\n",
    "axes[0].grid(axis='y', linestyle='--', alpha=0.7)\n",
    "\n",
    "# Plot for Gender M\n",
    "sns.histplot(data=df_customer[df_customer['gender'] == 'M'], x=\"Age\", color='navy', kde=True, ax=axes[1], bins=30)\n",
    "axes[1].set(title='Age Distribution for Males', xlabel='Age', ylabel='Frequency')\n",
    "axes[1].grid(axis='y', linestyle='--', alpha=0.7)\n",
    "\n",
    "# Customize background color\n",
    "fig.set_facecolor('#f0f0f0')\n",
    "axes[0].set_facecolor('#f0f0f0')\n",
    "axes[1].set_facecolor('#f0f0f0')\n",
    "\n",
    "# Adjust layout\n",
    "plt.tight_layout()\n",
    "\n",
    "# Add a title for the entire figure\n",
    "plt.suptitle('Age Distribution by Gender', fontsize=18, y=1.02, color='#333333')\n",
    "\n",
    "# Remove spines\n",
    "sns.despine()\n",
    "\n",
    "# Add a subtle gray border to the plots\n",
    "for ax in axes:\n",
    "    ax.spines['top'].set_color('#dddddd')\n",
    "    ax.spines['right'].set_color('#dddddd')\n",
    "    ax.spines['bottom'].set_color('#dddddd')\n",
    "    ax.spines['left'].set_color('#dddddd')\n",
    "\n",
    "# Customize tick parameters\n",
    "for ax in axes:\n",
    "    ax.tick_params(axis='both', which='both', length=0)\n",
    "\n",
    "# Show the plots\n",
    "plt.show()"
   ]
  },
  {
   "cell_type": "markdown",
   "id": "094e78e0",
   "metadata": {},
   "source": [
    "- Chúng ta có thể thấy rằng qua biểu đồ histogram thì giới tính Nam và Nữ không có sự khác nhau nhiều.\n",
    "- Độ tuổi từ 20 - 35 là khoảng thời gian mua hàng nhiều nhất của cả hai giới tính\n",
    "- Cả hai biểu đồ đều có dạng phân phối chuẩn"
   ]
  },
  {
   "cell_type": "markdown",
   "id": "f96ce06c",
   "metadata": {},
   "source": [
    "#### **_03.1.2. The avarage money spending base on Age and Gender_**"
   ]
  },
  {
   "cell_type": "markdown",
   "id": "e46d1761",
   "metadata": {},
   "source": [
    "- Dựa vào bảng dữ liệu `transaction` chúng ta thấy số tiền mua hàng được tính dựa vào các thông số như `quantity`, `item_price`, `shipment_fee` và `promo_amount`. Dựa vào những thông số đó sẽ cho ra kết quả `total_amount` thể hiện tổng số tiền mua hàng của mỗi khách hàng\n",
    "- Mỗi khách hàng có thể mua nhiều sản phẩm, vì vậy chúng ta sẽ thực hiện gộp chúng lại"
   ]
  },
  {
   "cell_type": "code",
   "execution_count": null,
   "id": "7dd67138",
   "metadata": {},
   "outputs": [],
   "source": [
    "df_amount_cus = df_transaction.groupby('customer_id', as_index =False)['total_amount'].sum()\n",
    "df_amount_cus = df_amount_cus.groupby(['customer_id'])['total_amount'].sum().reset_index()\n",
    "\n",
    "df_amount_cus_trans = df_customer[['customer_id' , 'gender' , 'Age']].merge(df_amount_cus , how = 'left' , on = 'customer_id')\n",
    "df_amount_cus_trans\n"
   ]
  },
  {
   "cell_type": "markdown",
   "id": "53195f80",
   "metadata": {},
   "source": [
    "- Để giải quyết bài toán số tiền trung bình theo nhóm tuổi hoặc giới tính chúng ta cần ghép hai bộ dữ liệu `customer` và `transaction`"
   ]
  },
  {
   "cell_type": "markdown",
   "id": "3b5a2f7f",
   "metadata": {},
   "source": [
    "**Biểu đồ thể hiện số tiền trung bình mà các nhóm tuổi mua hàng**"
   ]
  },
  {
   "cell_type": "code",
   "execution_count": null,
   "id": "d72491ef",
   "metadata": {},
   "outputs": [],
   "source": [
    "plt.figure(figsize=(24, 10))\n",
    "age_bins = [0,10,20, 30, 40, 50, 60, 70, 80]\n",
    "df_amount_cus_trans['Age Group'] = pd.cut(df_amount_cus_trans['Age'], bins=age_bins)\n",
    "avg_purchase_by_age = df_amount_cus_trans.groupby(['Age Group'])['total_amount'].mean().reset_index()\n",
    "sns.barplot(avg_purchase_by_age, x=\"Age Group\", y=\"total_amount\" , hue=\"Age Group\")\n",
    "plt.ylabel('Average Purchase Amount')\n",
    "plt.show()"
   ]
  },
  {
   "cell_type": "code",
   "execution_count": null,
   "id": "fef06225",
   "metadata": {},
   "outputs": [],
   "source": [
    "plt.figure(figsize=(24, 10))\n",
    "\n",
    "age_labels = ['(0, 10]', '(10, 20]', '(20, 30]', '(30, 40]', '(40, 50]', '(50, 60]', '(60, 70]' , '(70, 80]']\n",
    "\n",
    "plt.figure(figsize=(10, 6))\n",
    "sns.countplot(data=df_amount_cus_trans, x='Age Group', order=age_labels , palette='husl')\n",
    "plt.title('Customer Age Distribution')\n",
    "plt.xlabel('Age Group')\n",
    "plt.ylabel('Count')\n",
    "plt.show()"
   ]
  },
  {
   "cell_type": "markdown",
   "id": "764c3ec4",
   "metadata": {},
   "source": [
    "#### **_03.1.3. What items are the most purchasing by each Age Group or Gender?_**"
   ]
  },
  {
   "cell_type": "code",
   "execution_count": null,
   "id": "9b66d47e",
   "metadata": {},
   "outputs": [],
   "source": [
    "df_product['masterCategory'].unique()"
   ]
  },
  {
   "cell_type": "markdown",
   "id": "db544f11",
   "metadata": {},
   "source": [
    "- Dựa vào bảng dữ liệu `product` chúng ta thấy có một số loại sản phẩm như trong cột `masterCategory`. Dựa vào những thông số đó chúng ta đặt ra câu hỏi với mỗi nhóm tuổi và giới tính khác nhau thì họ thường mua loại sản phẩm nào.\n",
    "- Bảng `product` có cột `id` tương ứng với cột `product_id` trong bảng dữ liệu `transaction`, vì vậy để có dữ liệu khách hàng mua loại sản phẩm gì chúng ta cần ghép 3 bộ dữ liệu lại với nhau."
   ]
  },
  {
   "cell_type": "code",
   "execution_count": null,
   "id": "65923366",
   "metadata": {},
   "outputs": [],
   "source": [
    "df_trans_prod = df_transaction[['created_at','customer_id' , 'product_id']].merge(df_product[['product_id' , 'masterCategory' , 'gender']])\n",
    "df_trans_prod_cate = df_trans_prod.groupby(['customer_id', 'masterCategory']).size().unstack().reset_index()\n",
    "df_amount_cus_trans_cate = df_amount_cus_trans.merge(df_trans_prod , how = 'right' , on = 'customer_id')\n",
    "df_amount_cus_trans_cate_age = df_amount_cus_trans_cate.groupby(['Age Group', 'masterCategory']).size().unstack()\n",
    "df_amount_cus_trans_cate\n"
   ]
  },
  {
   "cell_type": "code",
   "execution_count": null,
   "id": "b18004ca",
   "metadata": {},
   "outputs": [],
   "source": [
    "df_amount_cus_trans_cate_age.plot(kind='bar', stacked=True, figsize=(12, 7))\n",
    "plt.title('Most Popular Product Categories by Age Group')\n",
    "plt.ylabel('Number of Purchases')\n",
    "plt.show()"
   ]
  },
  {
   "cell_type": "markdown",
   "id": "98435592",
   "metadata": {},
   "source": [
    "##### Nhận xét:\n",
    "- Chúng ta có thể thấy rằng ở nhóm tuổi `[20 -> 30]` tuổi có xu hướng mua đồ trên sàn thương mại điện tử hơn so với những lứa tuổi khác\n",
    "- Khi tuổi càng cao thì họ càng mua ít dần, tuy nhiên khi xem xét tổng số tiền mua trung bình của từng lứa tuổi thì chúng ta lại thấy rằng đối với khung tuổi `[50 -> 60]` họ mua rất ít nhưng giá tiền họ trả lại là cao nhất.\n",
    "\n",
    "- Và `Apparel` là dòng sản phẩm được ưa chuộng mua nhiều nhất"
   ]
  },
  {
   "cell_type": "code",
   "execution_count": null,
   "id": "303756a3",
   "metadata": {},
   "outputs": [],
   "source": [
    "df_amount_cus_trans_cate_gender = df_amount_cus_trans_cate.groupby(['gender_x', 'masterCategory']).size().unstack()\n",
    "df_amount_cus_trans_cate_gender.plot(kind='bar', stacked=True, figsize=(12, 7))\n",
    "plt.title('Most Popular Product Categories by Gender')\n",
    "plt.ylabel('Number of Purchases')\n",
    "plt.show()"
   ]
  },
  {
   "cell_type": "markdown",
   "id": "26fc90bc",
   "metadata": {},
   "source": [
    "##### Nhận xét:\n",
    "- Chúng ta có thể thấy rằng ở nhóm giới tính Female có xu hướng mua đồ trên sàn thương mại điện tử nhiều hơn so với nhóm giới tính Male\n",
    "- Và `Apparel` là dòng sản phẩm được ưa chuộng mua nhiều nhất"
   ]
  },
  {
   "cell_type": "markdown",
   "id": "d6f55374",
   "metadata": {},
   "source": [
    "### **_03.2. Question number 2: `Which products are more inclined to be bought together?`_**"
   ]
  },
  {
   "cell_type": "markdown",
   "id": "7ebf3a6c",
   "metadata": {},
   "source": [
    "#### **_03.2.1. Pre-process Data:_**"
   ]
  },
  {
   "cell_type": "markdown",
   "id": "4ee78181",
   "metadata": {},
   "source": [
    "**Merge dữ liệu**"
   ]
  },
  {
   "cell_type": "code",
   "execution_count": null,
   "id": "092428dc",
   "metadata": {},
   "outputs": [],
   "source": [
    "# merge dữ liệu 3 bảng customer, product, transaction\n",
    "df_transaction_cus = df_transaction.merge(df_customer , how = 'left' , on = 'customer_id')\n",
    "df_transaction_cus_prod = df_transaction_cus.merge(df_product , how = 'left' , on = 'product_id')\n",
    "\n",
    "df_transaction_cus_prod.head(2)"
   ]
  },
  {
   "cell_type": "markdown",
   "id": "969bf8cf",
   "metadata": {},
   "source": [
    "#### **_03.2.2. Cross Selling:_**"
   ]
  },
  {
   "cell_type": "markdown",
   "id": "979d83b6",
   "metadata": {},
   "source": [
    "- Bán chéo là khả năng bán nhiều sản phẩm hơn cho khách hàng bằng cách phân tích xu hướng mua sắm của khách hàng cũng như các xu hướng và mô hình mua sắm chung có điểm chung với mô hình mua sắm của khách hàng. Thường xuyên hơn không, những sản phẩm được đề xuất này sẽ rất hấp dẫn. Nhà bán lẻ thường sẽ cung cấp cho bạn một gói sản phẩm với một số ưu đãi hấp dẫn và rất có thể chúng ta sẽ mua các sản phẩm đi kèm thay vì chỉ mua sản phẩm ban đầu.\n",
    "\n",
    "- Vì vậy, chúng ta sẽ nghiên cứu các giao dịch của khách hàng và tìm ra những bổ sung tiềm năng cho nhu cầu ban đầu của khách hàng và đưa ra gợi ý cho khách hàng với hy vọng và ý định rằng họ mua chúng sẽ mang lại lợi ích cho cả khách hàng cũng như sàn thương mại điện tử.\n",
    "\n",
    "- Trong phần này, chúng ta sẽ khám phá việc khai thác association rule-mining, một kỹ thuật mạnh mẽ có thể được sử dụng để bán chéo, sau đó chúng ta áp dụng khái niệm phân tích giỏ hàng thị trường cho tập dữ liệu giao dịch bán lẻ của mình.\n",
    "\n"
   ]
  },
  {
   "cell_type": "markdown",
   "id": "92d9b369",
   "metadata": {},
   "source": [
    "#### **_03.2.3. Algorithms:_**"
   ]
  },
  {
   "cell_type": "markdown",
   "id": "5433c293",
   "metadata": {},
   "source": [
    "- Một số thuật toán nổi tiếng là Apriori, Eclat và FP-Growth, nhưng chúng chỉ thực hiện được một nửa công việc vì chúng là các thuật toán để khai thác các tập phổ biến. Một bước khác cần được thực hiện sau đó để tạo quy tắc từ các tập phổ biến được tìm thấy trong cơ sở dữ liệu.\n",
    "\n",
    "- Nút thắt lớn nhất trong bất kỳ thuật toán khai thác luật kết hợp nào là việc tạo ra các tập phổ biến. Nếu tập dữ liệu giao dịch có k sản phẩm duy nhất thì có khả năng chúng ta có 2^k tập mục có thể."
   ]
  },
  {
   "cell_type": "markdown",
   "id": "110123bc",
   "metadata": {},
   "source": [
    "**Apriori**\n",
    "\n",
    "Trong phần này chúng ta sử dụng phương pháp Apriori vì vậy chúng ta sẽ nói sơ qua Apriori sẽ làm những gì.\n",
    "\n",
    "Apriori sử dụng chiến lược tìm kiếm theo chiều rộng để tính độ hỗ trợ của các tập mục và sử dụng hàm tạo ứng cử viên để khai thác thuộc tính đóng xuống của hỗ trợ. Vì vậy, trước tiên thuật toán sẽ tạo các tập mục này và sau đó tiến hành tìm các tập phổ biến. Đối với khoảng 100 sản phẩm duy nhất, số lượng tập mục có thể có là rất lớn và cho thấy thuật toán Apriori cực kỳ tốn kém về mặt tính toán.\n"
   ]
  },
  {
   "cell_type": "markdown",
   "id": "0a4269a0",
   "metadata": {},
   "source": [
    "#### **_03.2.4. Implement:_**"
   ]
  },
  {
   "cell_type": "code",
   "execution_count": null,
   "id": "7b8966d1",
   "metadata": {},
   "outputs": [],
   "source": [
    "df_transaction_cus_prod['masterCategory'].unique()"
   ]
  },
  {
   "cell_type": "markdown",
   "id": "f0c0af3d",
   "metadata": {},
   "source": [
    "**Số lượng sản phẩm trung bình được mua trong một giao dịch.**"
   ]
  },
  {
   "cell_type": "code",
   "execution_count": null,
   "id": "487c82af",
   "metadata": {},
   "outputs": [],
   "source": [
    "df_trans_cate = df_transaction.merge(df_product[['product_id' , 'masterCategory']] , how = 'left' , on = 'product_id')"
   ]
  },
  {
   "cell_type": "code",
   "execution_count": null,
   "id": "d46c8702",
   "metadata": {},
   "outputs": [],
   "source": [
    "plt.figure(figsize=(10, 5))\n",
    "sns.barplot(data=df_trans_cate, x='masterCategory', y='quantity', hue=\"masterCategory\")\n",
    "plt.title('Average Quantity of Products Purchased by Product Category')\n",
    "plt.xticks(rotation=45)\n",
    "plt.show()"
   ]
  },
  {
   "cell_type": "markdown",
   "id": "c1bc38d4",
   "metadata": {},
   "source": [
    "- Chúng ta nhận thấy rằng có 6 `masterCategory` tức danh mục sản phẩm chính được bán ra trong sàn thương mại điện tử bao gồm: 'Footwear', 'Apparel', 'Accessories', 'Personal Care', 'Free Items', 'Sporting Goods', 'Home'.\n",
    "- Các danh mục sản phẩm chính `masterCategory` được bán ra đồng đều. Vì vậy khi sử dụng thuật toán apriori chúng ta sẽ đảm bảo dữ liệu cân bằng."
   ]
  },
  {
   "cell_type": "markdown",
   "id": "fdc4c5c2",
   "metadata": {},
   "source": [
    "- Sử dụng thuật toán Apriori để xác định những sản phẩm thường xuyên mua cùng nhau và đề xuất các loại sản phẩm phù hợp theo dữ liệu quá khứ"
   ]
  },
  {
   "cell_type": "code",
   "execution_count": null,
   "id": "24002139",
   "metadata": {},
   "outputs": [],
   "source": [
    "basket = df_transaction_cus_prod.groupby(['customer_id', 'masterCategory'])['quantity'].sum().unstack().fillna(0)\n",
    "basket[basket > 0] = 1\n",
    "basket"
   ]
  },
  {
   "cell_type": "markdown",
   "id": "a8eb7aa2",
   "metadata": {},
   "source": [
    "- min_support (Minimum Support): Tham số min_support đề cập đến độ Support tối thiểu cần thiết để một tập mục được coi là frequent. Support là thước đo tần suất một tập hợp mục cụ thể xuất hiện trong tập dữ liệu. Giá trị min_support cao hơn sẽ dẫn đến ít frequent itemsets, có khả năng bỏ lỡ các liên kết thú vị nhưng ít thường xuyên hơn. Ngược lại, min_support thấp hơn có thể bao gồm quá nhiều tập mục, làm tăng độ phức tạp tính toán và có thể bao gồm các liên kết ít ý nghĩa hơn.\n",
    "\n",
    "- min_threshold (Minimum Threshold): Thuật ngữ min_threshold thường được sử dụng trong bối cảnh độ tin cậy hoặc độ nâng của các luật kết hợp. Trong hầu hết các hoạt động triển khai, tham số này đặt độ tin cậy tối thiểu hoặc giá trị nâng cao để một quy tắc kết hợp được coi là quan trọng."
   ]
  },
  {
   "cell_type": "markdown",
   "id": "2ace59a3",
   "metadata": {},
   "source": [
    "**Chúng ta chọn min_support = 0.05, min_threshold = 1**"
   ]
  },
  {
   "cell_type": "code",
   "execution_count": null,
   "id": "700687e1",
   "metadata": {},
   "outputs": [],
   "source": [
    "# Chuyển đổi dữ liệu thành định dạng được mã hóa one-hot\n",
    "basket = df_transaction_cus_prod.groupby(['customer_id', 'masterCategory'])['quantity'].sum().unstack().fillna(0)\n",
    "\n",
    "# Chuyển đổi giá trị số lượng sang nhị phân (1 nếu đã mua, 0 nếu không)\n",
    "basket[basket > 0] = 1\n",
    "\n",
    "# Thực hiện thuật toán Apriori để tìm tập mục thường xuyên\n",
    "frequent_itemsets = apriori(basket, min_support=0.05, use_colnames=True)\n",
    "\n",
    "# Tạo quy tắc kết hợp\n",
    "association_rules_transaction_cus = association_rules(frequent_itemsets, metric=\"lift\", min_threshold=1.0)\n",
    "\n",
    "# Lọc và sắp xếp các quy tắc cho đề xuất\n",
    "recommended_rules = association_rules_transaction_cus[association_rules_transaction_cus['lift'] > 1.0].sort_values(by='lift', ascending=False)\n",
    "\n",
    "# Hiển thị các quy tắc được đề xuất\n",
    "recommended_rules[['antecedents', 'consequents', 'support', 'lift']]"
   ]
  },
  {
   "cell_type": "markdown",
   "id": "e416d1a6",
   "metadata": {},
   "source": [
    "**Trực quan hóa các liên kết**"
   ]
  },
  {
   "cell_type": "code",
   "execution_count": null,
   "id": "8bcf5fef",
   "metadata": {},
   "outputs": [],
   "source": [
    "# Network Graph Visualization\n",
    "# G = nx.DiGraph()\n",
    "# plt.figure(figsize=(20, 8))\n",
    "# for _, row in recommended_rules.iterrows():\n",
    "#     G.add_edge(str(row['antecedents']), str(row['consequents']), weight=row['lift'])\n",
    "\n",
    "# pos = nx.spring_layout(G)\n",
    "# nx.draw(G, pos, with_labels=True, edge_color='gray', width=[G[u][v]['weight'] for u,v in G.edges()])\n",
    "# plt.title(\"Association Rules\")\n",
    "# plt.show()"
   ]
  },
  {
   "cell_type": "markdown",
   "id": "eec2f93f",
   "metadata": {},
   "source": [
    "**Nhận xét**\n",
    "- Dựa vào các luật kết hợp trên chúng ta có thể thấy một số trường hợp như sau:\n",
    "    - Khi khách hàng mua `Personal Care` và `Apparel` thì khi đó khách hàng cũng sẽ mua `Footwear` và `Accessories`\n",
    "    - Hoặc với bộ itemset chứa 3 hạng mục thì, khách hàng mua `Footwear, Apparel, Accessories` khi đó khách hàng sẽ mua thêm `Personal Care`\n",
    "    - Hầu hết các bộ itemset chứa 1 hạng mục là phần nhiều"
   ]
  },
  {
   "cell_type": "markdown",
   "id": "2a4d4025",
   "metadata": {},
   "source": [
    "### **_03.3. Question number 3: `What is the customer segment that contributed the most to our company?`_**"
   ]
  },
  {
   "cell_type": "markdown",
   "id": "97503b67",
   "metadata": {},
   "source": [
    "#### **_03.3.1. Pre-processing data_**"
   ]
  },
  {
   "cell_type": "code",
   "execution_count": null,
   "id": "33b4556d",
   "metadata": {},
   "outputs": [],
   "source": [
    "df_transaction = pd.read_csv('Data/transaction_new.csv')\n",
    "df_transaction.head(2)"
   ]
  },
  {
   "cell_type": "code",
   "execution_count": null,
   "id": "5d776f30",
   "metadata": {},
   "outputs": [],
   "source": [
    "df_customer = pd.read_csv(\"Data/customer.csv\")\n",
    "df_customer['first_join_date'] = pd.to_datetime(df_customer['first_join_date'])\n",
    "df_customer['birthdate'] = pd.to_datetime(df_customer['birthdate'])\n",
    "df_customer[\"full_name\"] = df_customer['first_name'].astype(str) +\" \"+ df_customer[\"last_name\"]\n",
    "df_customer.head(2)"
   ]
  },
  {
   "cell_type": "markdown",
   "id": "a8d93489",
   "metadata": {},
   "source": [
    "#### **_03.3.2. Customer segment based on total spending money_**\n",
    "- Chúng ta phân loại khách hàng thành ba phân khúc: Giá trị thấp (Low-Value) , Giá trị trung bình (Mid-Value) và Giá trị cao (High-Value) dựa trên tổng số tiền mua hàng của họ. Điều này giúp chúng ta hiểu khách hàng nào đóng góp nhiều nhất vào doanh thu của bạn.\n",
    "- Để có thể phân ra ba phân khúc như vậy, chúng ta sẽ cần một ngưỡng threshold, chúng ta sẽ sử dụng `low_value_threshold` và `high_value_threshold`"
   ]
  },
  {
   "cell_type": "code",
   "execution_count": null,
   "id": "6b5b75e6",
   "metadata": {},
   "outputs": [],
   "source": [
    "# Phân khúc khách hàng theo tổng số tiền mua hàng\n",
    "# Xác định ngưỡng để phân đoạn\n",
    "low_value_threshold = 300000\n",
    "high_value_threshold = 800000\n",
    "\n",
    "# Tạo hàm phân loại khách hàng dựa trên tổng số tiền mua hàng\n",
    "def categorize_customers(total_purchase_amount):\n",
    "    if total_purchase_amount <= low_value_threshold:\n",
    "        return \"Low-Value\"\n",
    "    elif total_purchase_amount <= high_value_threshold:\n",
    "        return \"Mid-Value\"\n",
    "    else:\n",
    "        return \"High-Value\"\n",
    "\n",
    "# Áp dụng chức năng phân loại để tạo cột mới 'Customer Segment'\n",
    "df_transaction['Customer Segment'] = df_transaction['total_amount'].apply(categorize_customers)\n",
    "\n",
    "segment_counts = df_transaction['Customer Segment'].value_counts()\n",
    "segment_counts"
   ]
  },
  {
   "cell_type": "markdown",
   "id": "f7738c65",
   "metadata": {},
   "source": [
    "**Trực quan hóa để hiểu rõ hơn**"
   ]
  },
  {
   "cell_type": "code",
   "execution_count": null,
   "id": "633931d7",
   "metadata": {},
   "outputs": [],
   "source": [
    "plt.figure(figsize=(6, 6))\n",
    "plt.pie(segment_counts, labels=segment_counts.index, autopct='%1.1f%%', startangle=90)\n",
    "plt.title('Segmentation Based on Total Purchase Amount')\n",
    "plt.show()"
   ]
  },
  {
   "cell_type": "markdown",
   "id": "f456a9c1",
   "metadata": {},
   "source": [
    "#### **_03.3.3. Analyzing in Recency, Frequency, and Monetary_**\n",
    "\n",
    "Chúng ta đang phân tích hành vi của khách hàng bằng cách xem xét các tiêu chí như: \n",
    "- Recency đo lường mức độ mua hàng gần đây của khách hàng; \n",
    "- Frequency định lượng tần suất họ mua;\n",
    "- Monetary đại diện cho tổng chi tiêu của họ. \n",
    "\n",
    "Điều này giống như việc mô tả đặc điểm của khách hàng bằng tần suất họ tương tác với sàn thương mại điện tử Fashion Campus và mức độ đầu tư của họ vào đó."
   ]
  },
  {
   "cell_type": "code",
   "execution_count": null,
   "id": "4421632e",
   "metadata": {},
   "outputs": [],
   "source": [
    "df_transaction['created_at'] = pd.to_datetime(df_transaction['created_at']).dt.tz_localize(None)\n",
    "df_transaction['shipment_date_limit'] = pd.to_datetime(df_transaction['shipment_date_limit']).dt.tz_localize(None)"
   ]
  },
  {
   "cell_type": "code",
   "execution_count": null,
   "id": "c10db50f",
   "metadata": {},
   "outputs": [],
   "source": [
    "# Step 1: Calculate Recency\n",
    "analysis_date = pd.to_datetime('2023-12-14')  \n",
    "recency = df_transaction.groupby('customer_id')['created_at'].max()\n",
    "recency = (analysis_date - recency).dt.days  # Calculate recency in days\n",
    "\n",
    "# Step 2: Calculate Frequency\n",
    "frequency = df_transaction.groupby('customer_id').size()\n",
    "\n",
    "# Step 3: Calculate Monetary\n",
    "monetary = df_transaction.groupby('customer_id')['total_amount'].sum()\n",
    "\n",
    "# Step 4: Create RFM DataFrame\n",
    "rfm_df = pd.DataFrame({'Recency': recency, 'Frequency': frequency, 'Monetary': monetary})"
   ]
  },
  {
   "cell_type": "markdown",
   "id": "84dbe69d",
   "metadata": {},
   "source": [
    "**Tiêu chí phân khúc**\n",
    "\n",
    "Chúng ta đã xác định tiêu chí và ngưỡng cho từng thành phần RFM để phân loại khách hàng thành các phân khúc như High, Medium, Low hoặc Không hoạt động đối với Recency và High, Medium, Low hoặc Rất cao đối với Frequency và Monetary. Điều này giống như việc phân loại các nhân vật dựa trên đặc điểm của họ, chẳng hạn như tuổi tác, tính cách và vai trò trong câu chuyện."
   ]
  },
  {
   "cell_type": "code",
   "execution_count": null,
   "id": "29fef70d",
   "metadata": {},
   "outputs": [],
   "source": [
    "# Step 5: Segmentation\n",
    "# Xác định tiêu chí phân khúc (bạn có thể điều chỉnh các ngưỡng này)\n",
    "recency_bins = [0, 300, 900, 1800, 10000]\n",
    "frequency_bins = [1, 2, 5, 10, 500]\n",
    "monetary_bins = [0, 200000, 500000, 1000000, 50000000]\n",
    "\n",
    "rfm_df['Recency_Score'] = pd.cut(rfm_df['Recency'], bins=recency_bins, labels=['High', 'Medium', 'Low', 'Inactive'], right=False)\n",
    "rfm_df['Frequency_Score'] = pd.cut(rfm_df['Frequency'], bins=frequency_bins, labels=['Low', 'Medium', 'High', 'Very High'], right=False)\n",
    "rfm_df['Monetary_Score'] = pd.cut(rfm_df['Monetary'], bins=monetary_bins, labels=['Low', 'Medium', 'High', 'Very High'], right=False)\n",
    "\n",
    "rfm_df"
   ]
  },
  {
   "cell_type": "markdown",
   "id": "54787006",
   "metadata": {},
   "source": [
    "**Trực quan hóa phân đoạn**\n",
    "\n",
    "Chúng ta đang hình dung sự phân bổ khách hàng trong từng phân khúc về recency, frequency, monetary. Hình dung này giúp chúng ta nắm bắt được sự phân bố của các đối tượng khách hàng khác nhau trong bộ dữ liệu của mình"
   ]
  },
  {
   "cell_type": "code",
   "execution_count": null,
   "id": "52bd6bb9",
   "metadata": {},
   "outputs": [],
   "source": [
    "fig, axes = plt.subplots(1, 3, figsize=(15, 5))\n",
    "\n",
    "# Visualize the Recency Score distribution\n",
    "recency_counts = rfm_df['Recency_Score'].value_counts().sort_index()\n",
    "recency_counts.plot(kind='bar', ax=axes[0])\n",
    "axes[0].set_title('Recency Score Distribution')\n",
    "axes[0].set_xlabel('Recency Score')\n",
    "axes[0].set_ylabel('Count')\n",
    "\n",
    "for i, v in enumerate(recency_counts):\n",
    "    axes[0].text(i, v + 10, str(v), ha='center', va='bottom')\n",
    "\n",
    "# Visualize the Frequency Score distribution\n",
    "frequency_counts = rfm_df['Frequency_Score'].value_counts().sort_index()\n",
    "frequency_counts.plot(kind='bar', ax=axes[1])\n",
    "axes[1].set_title('Frequency Score Distribution')\n",
    "axes[1].set_xlabel('Frequency Score')\n",
    "axes[1].set_ylabel('Count')\n",
    "\n",
    "for i, v in enumerate(frequency_counts):\n",
    "    axes[1].text(i, v + 10, str(v), ha='center', va='bottom')\n",
    "\n",
    "# Visualize the Monetary Score distribution\n",
    "monetary_counts = rfm_df['Monetary_Score'].value_counts().sort_index()\n",
    "monetary_counts.plot(kind='bar', ax=axes[2])\n",
    "axes[2].set_title('Monetary Score Distribution')\n",
    "axes[2].set_xlabel('Monetary Score')\n",
    "axes[2].set_ylabel('Count')\n",
    "\n",
    "for i, v in enumerate(monetary_counts):\n",
    "    axes[2].text(i, v + 10, str(v), ha='center', va='bottom')\n",
    "\n",
    "plt.tight_layout()\n",
    "plt.show()"
   ]
  },
  {
   "cell_type": "markdown",
   "id": "acd007a2",
   "metadata": {},
   "source": [
    "#### **_03.3.4. Using Kmeans to distribute Customer Segment_**"
   ]
  },
  {
   "cell_type": "markdown",
   "id": "a0f1a11b",
   "metadata": {},
   "source": [
    "**Xử lý cột `Age` tương tự như các phần trước**"
   ]
  },
  {
   "cell_type": "code",
   "execution_count": null,
   "id": "b43131fb",
   "metadata": {},
   "outputs": [],
   "source": [
    "from datetime import datetime\n",
    "\n",
    "age_labels = ['(0, 10]', '(10, 20]', '(20, 30]', '(30, 40]', '(40, 50]', '(50, 60]', '(60, 70]' , '(70, 80]']\n",
    "df_customer['Age'] = ((datetime.now() - df_customer['birthdate']).dt.days / 365.25).round().astype(np.int64)"
   ]
  },
  {
   "cell_type": "code",
   "execution_count": null,
   "id": "84101964",
   "metadata": {},
   "outputs": [],
   "source": [
    "df_product = pd.read_csv(\"Data/product.csv\")\n",
    "df_product = df_product.rename(columns = {'id' : 'product_id'})\n",
    "df_product.head(2)"
   ]
  },
  {
   "cell_type": "code",
   "execution_count": null,
   "id": "46f8c2ba",
   "metadata": {},
   "outputs": [],
   "source": [
    "df_transaction_cus = df_transaction.merge(df_customer , how = 'left' , on = 'customer_id')\n",
    "df_transaction_cus.head(2)"
   ]
  },
  {
   "cell_type": "markdown",
   "id": "0c51704a",
   "metadata": {},
   "source": [
    "**Tính số ngày tham gia sàn thương mại điện tử cho tới thời điểm hiện tại**"
   ]
  },
  {
   "cell_type": "code",
   "execution_count": null,
   "id": "b55d0e71",
   "metadata": {},
   "outputs": [],
   "source": [
    "from datetime import datetime\n",
    "\n",
    "df_transaction_cus['join_time'] = ((datetime.now() - df_transaction_cus['first_join_date']).dt.days/ 30).round().astype(np.int64)\n",
    "total_purchase_per_customer = df_transaction_cus.groupby('full_name')['total_amount'].sum()\n",
    "total_purchase_per_customer"
   ]
  },
  {
   "cell_type": "markdown",
   "id": "8e6f45a3",
   "metadata": {},
   "source": [
    "- Để phân khúc khách hàng dựa vào mô hình KMeans, chúng ta sẽ chọn một số trường dữ liệu như `total_amount_sum`, `total_amount_mean`, `quantity_mean`, `Age`, `join_time`\n",
    "- Với mô hình Kmeans chúng ta có thể chọn số cụm bằng tham số `n_clusters`. Trong phần này chúng ta sẽ chọn số cụm là 5 tương tứng với từng phân khúc khách hàng như: `bronze` , `silver`, `gold` , `platinum` , `diamond`"
   ]
  },
  {
   "cell_type": "code",
   "execution_count": null,
   "id": "767126a9",
   "metadata": {},
   "outputs": [],
   "source": [
    "from sklearn.cluster import KMeans\n",
    "from sklearn.preprocessing import StandardScaler\n",
    "from sklearn.impute import SimpleImputer\n",
    "\n",
    "# Tạo tập dữ liệu cấp độ khách hàng với các số liệu liên quan để phân khúc\n",
    "customer_data = df_transaction_cus.groupby('full_name').agg({\n",
    "    'total_amount': ['sum', 'mean'],\n",
    "    'quantity': 'mean',\n",
    "    'Age': 'max' , \n",
    "    'join_time' : 'max'\n",
    "}).reset_index()\n",
    "\n",
    "customer_data.columns = ['full_name', 'Total Purchases', 'Average Purchase Amount' , 'Average Quantity' , 'Max Age' , 'Max Join Time']\n",
    "\n",
    "# Chuẩn hóa dữ liệu\n",
    "scaler = StandardScaler()\n",
    "scaled_data = scaler.fit_transform(customer_data[['Total Purchases', 'Average Purchase Amount' , 'Average Quantity' , 'Max Age' , 'Max Join Time']])\n",
    "\n",
    "# Gán các giá trị bị thiếu bằng giá trị trung bình\n",
    "imputer = SimpleImputer(strategy='mean')\n",
    "scaled_data_imputed = imputer.fit_transform(scaled_data)\n",
    "\n",
    "# Áp dụng phân cụm KMeans\n",
    "kmeans = KMeans(n_clusters=5, random_state=42)\n",
    "customer_data['Cluster'] = kmeans.fit_predict(scaled_data_imputed)\n",
    "\n",
    "# Trực quan hóa và giải thích các cụm\n",
    "plt.figure(figsize=(10, 6))\n",
    "sns.scatterplot(data=customer_data, x='Total Purchases', y='Average Purchase Amount', hue='Cluster', palette='viridis')\n",
    "plt.title('Customer Segmentation based on Total Purchases and Average Purchase Amount')\n",
    "plt.show()\n",
    "\n",
    "# Analyze other metrics by cluster\n",
    "cluster_summary = customer_data.groupby('Cluster').agg({\n",
    "    'Total Purchases': 'mean',\n",
    "    'Average Purchase Amount': 'mean',\n",
    "    'Average Quantity': 'mean' , \n",
    "    'Max Age': 'mean',\n",
    "    'Max Join Time': 'mean'\n",
    "}).reset_index()\n",
    "\n",
    "rank = pd.DataFrame(data = {'Cluster' : [0,1,2,3 , 4] , 'rank' : ['bronze' , 'silver', 'gold' , 'platinum' , 'diamond']})\n",
    "cluster_summary = cluster_summary.merge(rank , how = 'left' , on = 'Cluster')\n",
    "cluster_summary"
   ]
  },
  {
   "cell_type": "markdown",
   "id": "e07b208f",
   "metadata": {},
   "source": [
    "- Chúng ta có thể thấy rằng với khách hàng có rank `diamond` sẽ có tổng tiền sử dụng vào sàn thương mại điện tử lớn nhất `Total Purchases` và `Average Purchase Amount`. Bên cạch đó còn có một số thông tin như số lượng trung bình mua là 1.4, số tuổi là 31.5 hoặc thời gian tham gia vào sàn thương mại điện tử cũng khá lớn: 66.51"
   ]
  },
  {
   "cell_type": "markdown",
   "id": "1cd7cbbf",
   "metadata": {},
   "source": [
    "### **_03.4. Question number 4: `How do monthly or weekly sales trends manifest in the total sales figures? Are there forecasts for future sales?`_**"
   ]
  },
  {
   "cell_type": "markdown",
   "id": "9ead6cee",
   "metadata": {},
   "source": [
    "  > Mục tiêu: Dự đoán được doanh thu của công ty từ đó có thể đưa ra các chiến lược bán hàng hợp lý\n",
    "   => ta nhận thấy lượng toltal sales tăng dần theo năm, tuy nhiên đến giữa khoảng 2022 có dấu hiệu đi xuống, vì thế chúng tôi tập trung đẩy mạnh vào marketing nhằm nâng cao doanh thu mua hàng\n",
    "  \n",
    "1. Tập trung vào Digital Marketing:\n",
    "Nâng cấp trang web và di động: Tối ưu hóa trải nghiệm người dùng để tăng tỷ lệ chuyển đổi.\n",
    "Sử dụng nền tảng mạng xã hội: Tạo nội dung hấp dẫn và tương tác với khách hàng thông qua các kênh như Instagram, Facebook, TikTok.\n",
    "Email Marketing: Xây dựng danh sách email và triển khai chiến lược gửi email hiệu quả với thông tin sản phẩm, khuyến mãi, và sự kiện.\n",
    "2. Kế hoạch Content Marketing:\n",
    "Blog và Video: Tạo nội dung hữu ích về thời trang, xu hướng mới, cách phối đồ, và hướng dẫn thời trang.\n",
    "Collaboration và Influencer Marketing: Hợp tác với các influencer hoặc blogger thời trang để quảng bá sản phẩm của bạn.\n",
    "3. Phát triển Chương trình Thưởng và Khuyến mãi:\n",
    "Loyalty Program: Tạo chương trình thưởng để khích lệ khách hàng quay lại mua hàng và tăng tính trung thành.\n",
    "Khuyến mãi đặc biệt: Áp dụng chiến lược giảm giá, quà tặng hoặc ưu đãi cho các sự kiện đặc biệt như Black Friday, Giáng sinh, hay sinh nhật công ty"
   ]
  },
  {
   "cell_type": "code",
   "execution_count": null,
   "id": "5a972a54",
   "metadata": {},
   "outputs": [],
   "source": [
    "df_transaction = pd.read_csv('Data/transaction_new.csv')\n",
    "df_transaction_trend = df_transaction.copy()"
   ]
  },
  {
   "cell_type": "markdown",
   "id": "4c900a2b",
   "metadata": {},
   "source": [
    "#### **_03.4.1. Frequency of shopping days to determine peak shopping times (e.g., weekends, holidays, end of the month)_**\n"
   ]
  },
  {
   "cell_type": "markdown",
   "id": "b1a1ec37",
   "metadata": {},
   "source": [
    "- Chúng ta có thể thấy rằng một số đơn đặt hàng trong cột `payment_status` có thể `Success` hoặc `Failed`, vì vậy chúng ta sẽ không xét tới những đơn đặt hàng bị hủy bỏ mà chỉ tập trung vào những đơn đặt hàng thành công"
   ]
  },
  {
   "cell_type": "code",
   "execution_count": null,
   "id": "60ca996d",
   "metadata": {},
   "outputs": [],
   "source": [
    "explodeSize = [0.1, 0.2]\n",
    "payStatus = df_transaction.groupby(['payment_status'])['payment_status'].count()\n",
    "plt.pie(payStatus, labels = ['Failed', 'Success'], shadow = True, autopct='%1.1f%%', explode = explodeSize)\n",
    "plt.legend()"
   ]
  },
  {
   "cell_type": "markdown",
   "id": "5b963da2",
   "metadata": {},
   "source": [
    "Tỉ lệ Failed chiếm 4.3%, vì vậy chúng ta sẽ loại bỏ những giao dịch này."
   ]
  },
  {
   "cell_type": "code",
   "execution_count": null,
   "id": "ea54ec34",
   "metadata": {},
   "outputs": [],
   "source": [
    "df_transaction = df_transaction[df_transaction['payment_status'] == 'Success']"
   ]
  },
  {
   "cell_type": "code",
   "execution_count": null,
   "id": "5b94806b",
   "metadata": {},
   "outputs": [],
   "source": [
    "fig, ax = plt.subplots(figsize=(14, 6))\n",
    "\n",
    "# Convert 'created_at' to datetime\n",
    "df_transaction['created_at'] = pd.to_datetime(df_transaction['created_at'])\n",
    "\n",
    "# Remove timezone information if present\n",
    "df_transaction['created_at'] = df_transaction['created_at'].dt.tz_localize(None)\n",
    "\n",
    "# Extract 'Purchase Month'\n",
    "df_transaction['Purchase Month'] = df_transaction['created_at'].dt.to_period('M')\n",
    "\n",
    "# Plotting with the default Seaborn palette\n",
    "sns.countplot(data=df_transaction, x='Purchase Month', \n",
    "        order=sorted(df_transaction['Purchase Month'].unique()), edgecolor='0.2', palette='pastel', legend=False)\n",
    "\n",
    "# Customize the plot\n",
    "ax.set_title('Monthly Purchase Frequency', fontsize=16, weight='bold')\n",
    "ax.set_xlabel('Purchase Month', fontsize=14)\n",
    "ax.set_ylabel('Count', fontsize=14)\n",
    "ax.tick_params(axis='x', rotation=90, labelsize=10)\n",
    "ax.tick_params(axis='y', labelsize=12)\n",
    "sns.despine()\n",
    "\n",
    "# Display the plot\n",
    "plt.tight_layout()\n",
    "plt.show()"
   ]
  },
  {
   "cell_type": "markdown",
   "id": "068bfc3c",
   "metadata": {},
   "source": [
    "##### Nhận xét\n",
    "- Dường như sàn thương mại điện tử phát triển rất tốt, số lượng giao dịch mua hàng ngày càng tăng theo thời gian từ năm 2016 tới năm 2022.\n",
    "- Dường như trong giai đoạn dịch covid-19 đã làm cho lượng giao dịch tăng lên rất nhiều."
   ]
  },
  {
   "cell_type": "markdown",
   "id": "87faf577",
   "metadata": {},
   "source": [
    "#### **_03.4.2. Which season will customers buy the most?_**"
   ]
  },
  {
   "cell_type": "markdown",
   "id": "cd7f7c27",
   "metadata": {},
   "source": [
    "Khách hàng sẽ mua sắm theo mùa, có một số mùa thường như cầu mua sắm sẽ nhiều hơn như mùa hè hoặc mùa đông. Vì vậy chúng ta sẽ xem rằng các mùa có sự khác nhau về nhu cầu mua sắm hay không"
   ]
  },
  {
   "cell_type": "code",
   "execution_count": null,
   "id": "79596766",
   "metadata": {},
   "outputs": [],
   "source": [
    "season = df_product.groupby(['season'])['season'].count()\n",
    "explodeSize = [0.1, 0.1, 0.1, 0.1]\n",
    "plt.pie(season, labels = ['Fall', 'Spring', 'Summer', 'Winter'], shadow = True, autopct='%1.1f%%', explode = explodeSize)\n",
    "plt.legend()"
   ]
  },
  {
   "cell_type": "markdown",
   "id": "d74fbe3c",
   "metadata": {},
   "source": [
    "- Mùa Hè là thời điểm mà doanh thu của Fashion Campus tăng mạnh nhất, chiếm 48.3%\n",
    "- Mùa Xuân là thời điểm doanh thu thấp nhất chỉ với 6.7%"
   ]
  },
  {
   "cell_type": "markdown",
   "id": "1248caee",
   "metadata": {},
   "source": [
    "#### **_03.4.3. Analyzing revenue trends over time_**"
   ]
  },
  {
   "cell_type": "markdown",
   "id": "382c6381",
   "metadata": {},
   "source": [
    "**1. Monthly trends in total sales volume**"
   ]
  },
  {
   "cell_type": "code",
   "execution_count": null,
   "id": "85ba9ee0",
   "metadata": {},
   "outputs": [],
   "source": [
    "df_transaction_trend['created_at'] = pd.to_datetime(df_transaction_trend['created_at'])\n",
    "df_transaction_trend.set_index('created_at', inplace=True)\n",
    "\n",
    "# Monthly sales trend\n",
    "plt.figure(figsize=(15, 5))\n",
    "monthly_sales = df_transaction_trend['total_amount'].resample('M').sum()\n",
    "monthly_sales.plot()\n",
    "plt.title('Monthly Sales Trend')\n",
    "plt.ylabel('Total Sales')\n",
    "plt.show()\n"
   ]
  },
  {
   "cell_type": "markdown",
   "id": "e6ac271e",
   "metadata": {},
   "source": [
    "**2. Weekly trends in total sales volume**"
   ]
  },
  {
   "cell_type": "code",
   "execution_count": null,
   "id": "3dfd6306",
   "metadata": {},
   "outputs": [],
   "source": [
    "# Weekly sales trend (optional)\n",
    "plt.figure(figsize=(15, 5))\n",
    "\n",
    "weekly_sales = df_transaction_trend['total_amount'].resample('W').sum()\n",
    "weekly_sales.plot()\n",
    "plt.title('Weekly Sales Trend')\n",
    "plt.ylabel('Total Sales')\n",
    "plt.show()"
   ]
  },
  {
   "cell_type": "markdown",
   "id": "ffeb0a06",
   "metadata": {},
   "source": [
    "**3. Daily trends in total sales volume**"
   ]
  },
  {
   "cell_type": "code",
   "execution_count": null,
   "id": "11afd246",
   "metadata": {},
   "outputs": [],
   "source": [
    "plt.figure(figsize=(15, 5))\n",
    "daily_sales = df_transaction_trend['total_amount'].resample('D').sum()\n",
    "daily_sales.plot()\n",
    "plt.title('Daily Sales Trend')\n",
    "plt.ylabel('Total Sales')\n",
    "plt.show()"
   ]
  },
  {
   "cell_type": "markdown",
   "id": "a79ebe3e",
   "metadata": {},
   "source": [
    "#### **_03.4.4. Apply the ARIMA model to the weekly sales forecasting problem_**"
   ]
  },
  {
   "cell_type": "markdown",
   "id": "cb8560b4",
   "metadata": {},
   "source": [
    "- Yếu tố xu hướng (trend) thể hiện đà tăng hoặc giảm của chuỗi trong tương lai. Chẳng hạn như lạm phát là xu hướng chung của các nền kinh tế, do đó giá cả trung bình của giỏ hàng hóa cơ sở hay còn gọi là chỉ số CPI luôn có xu hướng tăng và xu hướng tăng này đại diện cho sự mất giá của đồng tiền.\n",
    "- Chúng ta xét hình `Weekly Sales Trend` Đồ thị về yếu tố xu hướng trong chuỗi thời gian của tổng doanh số"
   ]
  },
  {
   "cell_type": "code",
   "execution_count": null,
   "id": "00d5029e",
   "metadata": {},
   "outputs": [],
   "source": [
    "# Weekly sales trend (optional)\n",
    "plt.figure(figsize=(15, 5))\n",
    "\n",
    "weekly_sales = df_transaction_trend['total_amount'].resample('W').sum()\n",
    "weekly_sales.plot()\n",
    "plt.title('Weekly Sales Trend')\n",
    "plt.ylabel('Total Sales')\n",
    "plt.show()"
   ]
  },
  {
   "cell_type": "markdown",
   "id": "45fbfdaf",
   "metadata": {},
   "source": [
    "Ta nhận thấy chuỗi có chu kì là 1 năm. Nhu cầu mua sắm trên sàn thương mại điện tử tăng vào những tháng khi bắt đầu dịch covid-19 bùng nổ, khi đó người dân ở nhà nên việc mua sắm tại nhà trở nên phổ biến hơn. Ngoài ra chúng ta có thể sử dụng một phép phân rã mùa vụ (seasonal decompose) để trích lọc ra các thành phần cấu thành nên chuỗi bao gồm: xu hướng (trend), mùa vụ (seasonal), phần dư (residual) như bên dưới:\n",
    "\n"
   ]
  },
  {
   "cell_type": "code",
   "execution_count": null,
   "id": "f12f54ef",
   "metadata": {},
   "outputs": [],
   "source": [
    "result = seasonal_decompose(weekly_sales, model='multiplicative')\n",
    "fig = result.plot()\n",
    "fig.set_size_inches(15, 5)"
   ]
  },
  {
   "cell_type": "markdown",
   "id": "5be4ffe2",
   "metadata": {},
   "source": [
    "Như vậy các thành phần đã được tách ra khá rõ ràng như thể hiện trong biểu đồ trên. Tiếp theo ta sẽ cùng hồi qui mô hình SARIMA.\n",
    "\n"
   ]
  },
  {
   "cell_type": "markdown",
   "id": "b2446869",
   "metadata": {},
   "source": [
    "- **Phân chia tập train/test** Đầu tiên để thuận tiện cho việc kiêm định mô hình dự báo chúng ta sẽ phân chia tập train/test sao cho năm 2022 sẽ được sử dụng làm dữ liệu test và dữ liệu còn lại được sử dụng để huấn luyện mô hình.\n",
    "\n"
   ]
  },
  {
   "cell_type": "code",
   "execution_count": null,
   "id": "e70b213f",
   "metadata": {},
   "outputs": [],
   "source": [
    "train, test = weekly_sales[weekly_sales.index < '2022-01-01'], weekly_sales[weekly_sales.index >= '2022-01-01']\n",
    "print('train shape: ', train.shape)\n",
    "print('test shape: ', test.shape)"
   ]
  },
  {
   "cell_type": "markdown",
   "id": "676ce16c",
   "metadata": {},
   "source": [
    "Chúng ta sẽ cùng kiểm tra xem các đặc tính tự tương quan và tương quan riêng phần của chuỗi mua hàng ra sao. Từ đó quyết định xem quá trình tự hồi qui và trung bình trượt của mô hình ARIMA nên nằm trong khoảng giá trị bao nhiêu và sử dụng phương pháp stepwise để tìm kiếm mô hình phù hợp nhất."
   ]
  },
  {
   "cell_type": "code",
   "execution_count": null,
   "id": "94be6db6",
   "metadata": {},
   "outputs": [],
   "source": [
    "plot_pacf(train);"
   ]
  },
  {
   "cell_type": "code",
   "execution_count": null,
   "id": "3562c054",
   "metadata": {},
   "outputs": [],
   "source": [
    "plot_acf(train);"
   ]
  },
  {
   "cell_type": "markdown",
   "id": "deb1a0df",
   "metadata": {},
   "source": [
    "Như vậy từ biểu đồ ta có thể lựa chọn bậc tự tương quan riêng phần PACF và tự tương quan ACF là các giá trị nhỏ hơn hoặc bằng 3. Do chuỗi có trend nên chúng ta sẽ lấy sai phân bậc 1 để tạo chuỗi dừng, hay nói cách khác bậc của intergration `d = 1`\n",
    ". Ngoài ra chúng ta cần phải xác định thêm các bậc `(P,D,Q)`\n",
    " của yếu tố mùa vụ được trích xuất từ chuỗi ban đầu. Để mô hình hiểu được chúng ta đang hồi qui trên mô hình SARIMA thì cần thiết lập tham số seasonal=True và chu kì của mùa vụ m=12. Chiến lược stepwise sẽ tự động tìm cho ta một mô hình tốt nhất dựa trên tham số đã thiết lập."
   ]
  },
  {
   "cell_type": "code",
   "execution_count": null,
   "id": "32789594",
   "metadata": {},
   "outputs": [],
   "source": [
    "model_sarima = auto_arima(train, start_p=0, start_q=0,\n",
    "                           max_p=2, max_q=5, m=12,\n",
    "                           start_P=0, seasonal=True,\n",
    "                           d=1, D=1, trace=True,\n",
    "                           error_action='ignore',\n",
    "                           suppress_warnings=True,\n",
    "                           stepwise=True)"
   ]
  },
  {
   "cell_type": "markdown",
   "id": "2d4fea7b",
   "metadata": {},
   "source": [
    "Phương pháp stepwise đã giúp chúng ta tìm được mô hình SARIMA tốt nhất cho bài toán dự báo như bên dưới:\n",
    "\n"
   ]
  },
  {
   "cell_type": "code",
   "execution_count": null,
   "id": "e13677e9",
   "metadata": {},
   "outputs": [],
   "source": [
    "model_sarima.summary()"
   ]
  },
  {
   "cell_type": "markdown",
   "id": "3db102a4",
   "metadata": {},
   "source": [
    "Sau khi đã tìm ra được mô hình ARIMA tốt nhất. Chúng ta sẽ dự báo cho khoảng thời gian tiếp theo. Dự báo cho chuỗi thời gian khá đặc thù và khác biệt so với các lớp mô hình dự báo khác vì giá trị time step liền trước sẽ được sử dụng để dự báo cho time step liền sau. Do đó đòi hỏi phải có một vòng lặp liên tiếp dự báo qua các bước thời gian.\n",
    "\n"
   ]
  },
  {
   "cell_type": "code",
   "execution_count": null,
   "id": "99da0615",
   "metadata": {},
   "outputs": [],
   "source": [
    "n_pred_perious = 30\n",
    "fitted, confint = model_sarima.predict(n_periods=n_pred_perious, return_conf_int=True)\n",
    "date = pd.date_range(train.index[-1], periods=n_pred_perious, freq='W')\n",
    "\n",
    "fitted_seri = pd.Series(fitted, index=date)\n",
    "lower = confint[:, 0]\n",
    "upper = confint[:, 1]\n",
    "\n",
    "plt.figure(figsize=(12, 6))\n",
    "plt.plot(weekly_sales[-318:], label='Actual')\n",
    "plt.plot(fitted_seri, color='red', linestyle='--', label = 'Forecast')\n",
    "plt.fill_between(date,\n",
    "                 lower,\n",
    "                 upper,\n",
    "                 color='grey', alpha=0.2)\n",
    "# plt.ylim((0, 130))\n",
    "plt.legend()\n",
    "plt.title('SARIMA regression model forecast for 12 next months')\n",
    "plt.show()"
   ]
  },
  {
   "cell_type": "markdown",
   "id": "0e6381e5",
   "metadata": {},
   "source": [
    "- Chúng ta có thể thấy rằng mô hình đã dự đoán được doanh thu của sàn thương mại điện tử Fashion Campus. Mặc dù ở giai đoạn cuối năm 2022 doanh thu của công ty có sụt giảm, nhưng nhìn chung từ mô hình Arima chúng ta có thể dự đoán được một phần nào đó doanh thu của công ty.\n",
    "- Mô hình Arima dụ đoán kết quả chưa thể hiện được sự biến đổi mạnh của doanh thu, như đã thể hiện trong hình so sánh doanh thu theo mùa, thì chúng ta thấy dữ liệu biến động mạnh là do mùa xuân lượng người mua rất ít.\n"
   ]
  },
  {
   "cell_type": "markdown",
   "id": "c8caddb6",
   "metadata": {},
   "source": [
    "#### **_03.4.5. Profit trends over time for individual industries_**\n"
   ]
  },
  {
   "cell_type": "code",
   "execution_count": null,
   "id": "703b362f",
   "metadata": {},
   "outputs": [],
   "source": [
    "df_trans_prod = df_transaction[['created_at','customer_id' , 'product_id']].merge(df_product[['product_id' , 'masterCategory' , 'gender']])\n",
    "\n",
    "df_trans_prod_create = df_trans_prod\n",
    "df_trans_prod_create['created_at'] = pd.to_datetime(df_trans_prod_create['created_at'])\n",
    "df_trans_prod_create.set_index('created_at', inplace=True)\n",
    "\n",
    "monthly_product_sales = df_trans_prod_create.groupby([df_trans_prod_create.index.month, 'masterCategory']).size().unstack()\n",
    "monthly_product_sales.plot()\n",
    "plt.title('Monthly Sales Count by Product Category')\n",
    "plt.ylabel('Number of Sales')\n",
    "plt.xlabel('Month')\n",
    "plt.show()"
   ]
  },
  {
   "cell_type": "markdown",
   "id": "1f11c840",
   "metadata": {},
   "source": [
    "- Chúng ta có thể thấy rằng ngành hàng `Apparel` (Trang phục) luôn đạt lợi nhuận cao nhất theo thời gian.\n",
    "- Tiếp theo đó là ngành hàng `Accessories` (Phụ kiện) đi theo. Chúng ta cũng dễ hiểu rằng đây là hai mặt hàng có quan hệ mật thiết với nhau."
   ]
  },
  {
   "cell_type": "markdown",
   "id": "f9862a2e",
   "metadata": {},
   "source": [
    "## **_04. Reflection:_**"
   ]
  },
  {
   "cell_type": "markdown",
   "id": "778b92c9",
   "metadata": {},
   "source": [
    "### **_4.1. What difficulties have you encountered?_**"
   ]
  },
  {
   "cell_type": "markdown",
   "id": "e15fd8ef",
   "metadata": {},
   "source": [
    "#### **_0.4.1.1. Phan Than An - 21127003_**"
   ]
  },
  {
   "cell_type": "markdown",
   "id": "f38946e6",
   "metadata": {},
   "source": [
    "- Khó khăn trong việc tìm dữ liệu sao cho phù hợp, đủ lớn để thực hiện được các phân tích và đủ tin cậy\n",
    "- Sau khi có đủ dữ liệu gặp thêm vấn đề về dữ liệu chia thành các file excel, vì vậy gặp một chút khó khăn khi hiểu hết dữ liệu\n",
    "- Khó khăn trong việc sử dụng một số thuật toán như Arima, Apriori"
   ]
  },
  {
   "cell_type": "markdown",
   "id": "a125f4d7",
   "metadata": {},
   "source": [
    "#### **_4.1.2. Phạm Hồng Gia Bảo - 21127014_**"
   ]
  },
  {
   "cell_type": "markdown",
   "id": "1b074bca",
   "metadata": {},
   "source": [
    "- Kĩ năng sử dụng các thư viện như Numpy, Pandas và Matplotlib vẫn chưa thực sự tốt nên có gặp chút khó khăn trong xử lý dữ liệu và trực quan hóa dữ liệu để hiểu dữ liệu hơn\n",
    "- Khi đặt câu hỏi, em có khá nhiều câu hỏi tuy nhiên để đặt được một câu hỏi chất lượng cần phải tìm hiểu nhiều thứ\n",
    "- Khó khăn để hiểu rõ thuật toán phân cụm KMean"
   ]
  },
  {
   "cell_type": "markdown",
   "id": "ca8a01fa",
   "metadata": {},
   "source": [
    "### **_4.2. What have you learned?_**"
   ]
  },
  {
   "cell_type": "markdown",
   "id": "0b1e53cc",
   "metadata": {},
   "source": [
    "#### **_4.2.1. Phan Than An - 21127003_**"
   ]
  },
  {
   "cell_type": "markdown",
   "id": "1a0af977",
   "metadata": {},
   "source": [
    "- Hiểu rõ hơn quy trình xử lý dữ liệu sao cho chi tiết và đầy đủ\n",
    "- Hiểu hơn về các thư viện quan trọng trong việc xử lý dữ liệu và trực quan hóa dữ liệu như: pandas, numpy, seaborn.\n",
    "- Biết cách xây dựng mô hình dự đoán cho các bài toán bán hàng trên sàn thương mại điện tử"
   ]
  },
  {
   "cell_type": "markdown",
   "id": "6c40e559",
   "metadata": {},
   "source": [
    "#### **_4.2.2. Phạm Hồng Gia Bảo - 21127014_**"
   ]
  },
  {
   "cell_type": "markdown",
   "id": "a2d8a15b",
   "metadata": {},
   "source": [
    "- Khả năng quản lí mã nguồn bằng github và kỹ thuật chia branch\n",
    "- Từ nguồn dữ liệu lớn, em cũng tìm được nhiều bài toán cần giải quyết cũng như các câu hỏi đặt ra."
   ]
  },
  {
   "cell_type": "markdown",
   "id": "47fbd726",
   "metadata": {},
   "source": [
    "### **_4.3. If you had more time, what would you do?_**"
   ]
  },
  {
   "cell_type": "markdown",
   "id": "b5a39cf8",
   "metadata": {},
   "source": [
    "- Cải thiện mô hình Arima ở trong câu hỏi thứ 4. Tại biến động của mô hình chưa thực sự tốt\n",
    "- Tìm hiểu thêm bộ dữ liệu `click.csv` có trong bộ dữ liệu này. Nó là một bộ dữ liệu lớn với dung lượng 1.2GB, chứa nhiều thông tin về các cú click của người dùng. Từ đó em có thể phân tích được nhiều thứ hơn."
   ]
  },
  {
   "cell_type": "markdown",
   "id": "5b0de326",
   "metadata": {},
   "source": [
    "## **_05. References:_**"
   ]
  },
  {
   "cell_type": "markdown",
   "id": "b800a0ba",
   "metadata": {},
   "source": [
    "[1] [Dataset](https://www.kaggle.com/datasets/latifahhukma/fashion-campus)\n",
    "\n",
    "[2] [Slides in Moodle](https://drive.google.com/drive/folders/1FyzNTCs_xpx-CUVBw_VwXlEt73tf8ywX)\n",
    "\n",
    "[3] [Sklearn](https://scikit-learn.org/stable/)\n",
    "\n",
    "[4] [Apriori](https://www.geeksforgeeks.org/implementing-apriori-algorithm-in-python/)\n",
    "\n",
    "[5] [Arima](https://machinelearningmastery.com/arima-for-time-series-forecasting-with-python/)"
   ]
  }
 ],
 "metadata": {
  "kernelspec": {
   "display_name": "Python 3 (ipykernel)",
   "language": "python",
   "name": "python3"
  },
  "language_info": {
   "codemirror_mode": {
    "name": "ipython",
    "version": 3
   },
   "file_extension": ".py",
   "mimetype": "text/x-python",
   "name": "python",
   "nbconvert_exporter": "python",
   "pygments_lexer": "ipython3",
   "version": "3.10.9"
  }
 },
 "nbformat": 4,
 "nbformat_minor": 5
}
