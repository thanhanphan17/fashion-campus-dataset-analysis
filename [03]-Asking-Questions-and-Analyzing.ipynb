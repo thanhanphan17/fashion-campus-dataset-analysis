{
 "cells": [
  {
   "cell_type": "markdown",
   "id": "4a3dde71",
   "metadata": {},
   "source": [
    "# **<center>Asking Questions and Analyzing Section</center>**"
   ]
  },
  {
   "cell_type": "markdown",
   "id": "51001708",
   "metadata": {},
   "source": [
    "## **_00. Import necessary libraries:_**"
   ]
  },
  {
   "cell_type": "code",
   "execution_count": 1,
   "id": "e3895a2c",
   "metadata": {},
   "outputs": [],
   "source": [
    "import pandas as pd\n",
    "import numpy as np\n",
    "import seaborn as sns\n",
    "import matplotlib.pyplot as plt\n",
    "import networkx as nx\n",
    "\n",
    "pd.set_option('display.max_columns', None)"
   ]
  },
  {
   "cell_type": "markdown",
   "id": "622af556",
   "metadata": {},
   "source": [
    "## **_01. Asking Meaningfull Questions:_**"
   ]
  },
  {
   "cell_type": "markdown",
   "id": "9b07d85c",
   "metadata": {},
   "source": [
    "### **_01.1. Question number 1: `What is the distribution of customer on avarage spending money and most favourite item by demographics?`_**"
   ]
  },
  {
   "cell_type": "markdown",
   "id": "054b5e4d",
   "metadata": {},
   "source": [
    "- **Nội dung**: Phân bố khách hàng theo độ tuổi và giới tính, số tiền mua trung bình theo nhóm tuổi hoặc giới tính và các loại sản phẩm phổ biến nhất ở các nhóm tuổi hoặc giới tính khác nhau.\n",
    "- **Mục đích**: Chúng ta sẽ hiểu hơn về khách hàng, một số yếu tố như độ tuổi, giới tính và loại sản phẩm có thể tác động mạnh tới doanh thu công ty Fashion Campus.\n",
    "- **Phân tích**:\n",
    "    - Phân tích phân bố của khách hàng theo độ tuổi và giới tính, từ đó chúng ta so sánh độ lệch trong biểu đồ histogram và chênh lệch giữa các giới tính\n",
    "    - Xác định số tiền mua trung bình theo nhóm tuổi hoặc giới tính, tại trong dữ liệu của chúng ta sẽ có nhiều lứa tuổi, vì vậy việc phân tích thành các cụm là rất cần thiết.\n",
    "    - Xác định những sản phẩm nào được mua phổ biến theo từng nhóm tuổi\n"
   ]
  },
  {
   "cell_type": "markdown",
   "id": "c8d9ac5e",
   "metadata": {},
   "source": [
    "### **_01.2. Question number 2: `Which products are more inclined to be bought together?`_**"
   ]
  },
  {
   "cell_type": "markdown",
   "id": "0b7aaae1",
   "metadata": {},
   "source": [
    "- **Nội dung**: Phân tích những sản phẩm hoặc nhóm sản phẩm thường xuyên mua cùng nhau bằng thuật toán `Apriori` từ đó đề xuất các sản phẩm bổ sung dựa trên lịch sử mua hàng của khách hàng.\n",
    "- **Mục đích**: Tối ưu hóa chiến dịch tiếp thị, doanh nghiệp có thể xác định những chiến dịch tiếp thị hiệu quả nhất bằng cách tìm ra những quy luật kết hợp giữa các sản phẩm hoặc dịch vụ mà khách hàng thường mua. Điều này giúp tối ưu hóa ngân sách tiếp thị và tạo ra chiến dịch hiệu quả hơn.\n",
    "- **Phân tích**:\n",
    "    - Đầu tiên chúng ta cần hiểu một số thông tin về thuật toán Apriori.\n",
    "    - Kiểm tra các sản phẩm được mua với số lượng như thế nào.\n",
    "    - Sử dụng thuật toán Apriori cùng với các chỉ số như min_suport, min_threshold để phân tích tính liên kết các sản phẩm trong Fashion Campus\n",
    "    - Trực quan hóa các liên kết từ đó đánh giá được mối quan hệ giữa các sản phẩm."
   ]
  },
  {
   "cell_type": "markdown",
   "id": "95a432a7",
   "metadata": {},
   "source": [
    "### **_01.3. Question number 3_**"
   ]
  },
  {
   "cell_type": "markdown",
   "id": "28ee2dd9",
   "metadata": {},
   "source": []
  },
  {
   "cell_type": "markdown",
   "id": "5ab10afc",
   "metadata": {},
   "source": [
    "### **_01.4. Question number 4: `How do monthly or weekly sales trends manifest in the total sales figures? Are there forecasts for future sales?`_**"
   ]
  },
  {
   "cell_type": "markdown",
   "id": "8d14623c",
   "metadata": {},
   "source": [
    "- **Nội dung**: Chúng ta sẽ xác định xu hướng hàng tháng hoặc hàng tuần trong tổng doanh số bán hàng, từ đó dự đoán ra doanh số bán hàng qua mô hình Arima. Ngoài ra chúng ta sẽ xem xét ngành hàng nào được bán chạy nhất theo thời gian.\n",
    "- **Mục đích**: Dự đoán được doanh thu của công ty từ đó có thể đưa ra các chiến lược bán hàng hợp lý\n",
    "   => ta nhận thấy lượng toltal sales tăng dần theo năm, tuy nhiên đến giữa khoảng 2022 có dấu hiệu đi xuống, vì thế chúng tôi tập trung đẩy mạnh vào marketing nhằm nâng cao doanh thu mua hàng\n",
    "- **Phân tích**:\n",
    "    - Xử lý những giao dịch thành công hoặc thất bại trong `payment_status`\n",
    "    - Xác định khoảng thời gian nào khách hàng mua hàng nhiều nhất\n",
    "    - Phân tích doanh thu theo khoảng thời gian như ngày, tuần, tháng.\n",
    "    - Sử dụng mô hình Arima để dự đoán doanh số \n",
    "    - Phân tích xu hướng lợi nhuận theo thời gian của từng ngành hàng"
   ]
  },
  {
   "cell_type": "markdown",
   "id": "4635e405",
   "metadata": {},
   "source": [
    "## **_02. Input Data and Pre-processing Data:_**"
   ]
  },
  {
   "cell_type": "markdown",
   "id": "acdabc46",
   "metadata": {},
   "source": [
    "Phần code này thực hiện:\n",
    "- Thực hiện lại tiền xử lý cho ba bộ dữ liệu `product`, `customer`, `transaction`"
   ]
  },
  {
   "cell_type": "markdown",
   "id": "80edd400",
   "metadata": {},
   "source": [
    "**Đọc dữ liệu cho transaction_new**"
   ]
  },
  {
   "cell_type": "code",
   "execution_count": 2,
   "id": "78245cc2",
   "metadata": {},
   "outputs": [
    {
     "data": {
      "text/html": [
       "<div>\n",
       "<style scoped>\n",
       "    .dataframe tbody tr th:only-of-type {\n",
       "        vertical-align: middle;\n",
       "    }\n",
       "\n",
       "    .dataframe tbody tr th {\n",
       "        vertical-align: top;\n",
       "    }\n",
       "\n",
       "    .dataframe thead th {\n",
       "        text-align: right;\n",
       "    }\n",
       "</style>\n",
       "<table border=\"1\" class=\"dataframe\">\n",
       "  <thead>\n",
       "    <tr style=\"text-align: right;\">\n",
       "      <th></th>\n",
       "      <th>created_at</th>\n",
       "      <th>customer_id</th>\n",
       "      <th>booking_id</th>\n",
       "      <th>session_id</th>\n",
       "      <th>payment_method</th>\n",
       "      <th>payment_status</th>\n",
       "      <th>promo_amount</th>\n",
       "      <th>promo_code</th>\n",
       "      <th>shipment_fee</th>\n",
       "      <th>shipment_date_limit</th>\n",
       "      <th>shipment_location_lat</th>\n",
       "      <th>shipment_location_long</th>\n",
       "      <th>total_amount</th>\n",
       "      <th>product_id</th>\n",
       "      <th>quantity</th>\n",
       "      <th>item_price</th>\n",
       "    </tr>\n",
       "  </thead>\n",
       "  <tbody>\n",
       "    <tr>\n",
       "      <th>0</th>\n",
       "      <td>2018-07-29T15:22:01.458193Z</td>\n",
       "      <td>5868</td>\n",
       "      <td>186e2bee-0637-4710-8981-50c2d737bc42</td>\n",
       "      <td>3abaa6ce-e320-4e51-9469-d9f3fa328e86</td>\n",
       "      <td>Debit Card</td>\n",
       "      <td>Success</td>\n",
       "      <td>1415</td>\n",
       "      <td>WEEKENDSERU</td>\n",
       "      <td>10000</td>\n",
       "      <td>2018-08-03T05:07:24.812676Z</td>\n",
       "      <td>-8.227893</td>\n",
       "      <td>111.969107</td>\n",
       "      <td>199832</td>\n",
       "      <td>54728</td>\n",
       "      <td>1</td>\n",
       "      <td>191247</td>\n",
       "    </tr>\n",
       "    <tr>\n",
       "      <th>1</th>\n",
       "      <td>2018-07-30T12:40:22.365620Z</td>\n",
       "      <td>4774</td>\n",
       "      <td>caadb57b-e808-4f94-9e96-8a7d4c9898db</td>\n",
       "      <td>2ee5ead1-f13e-4759-92df-7ff48475e970</td>\n",
       "      <td>Credit Card</td>\n",
       "      <td>Success</td>\n",
       "      <td>0</td>\n",
       "      <td>NaN</td>\n",
       "      <td>10000</td>\n",
       "      <td>2018-08-03T01:29:03.415705Z</td>\n",
       "      <td>3.013470</td>\n",
       "      <td>107.802514</td>\n",
       "      <td>155526</td>\n",
       "      <td>16193</td>\n",
       "      <td>1</td>\n",
       "      <td>145526</td>\n",
       "    </tr>\n",
       "  </tbody>\n",
       "</table>\n",
       "</div>"
      ],
      "text/plain": [
       "                    created_at  customer_id  \\\n",
       "0  2018-07-29T15:22:01.458193Z         5868   \n",
       "1  2018-07-30T12:40:22.365620Z         4774   \n",
       "\n",
       "                             booking_id                            session_id  \\\n",
       "0  186e2bee-0637-4710-8981-50c2d737bc42  3abaa6ce-e320-4e51-9469-d9f3fa328e86   \n",
       "1  caadb57b-e808-4f94-9e96-8a7d4c9898db  2ee5ead1-f13e-4759-92df-7ff48475e970   \n",
       "\n",
       "  payment_method payment_status  promo_amount   promo_code  shipment_fee  \\\n",
       "0     Debit Card        Success          1415  WEEKENDSERU         10000   \n",
       "1    Credit Card        Success             0          NaN         10000   \n",
       "\n",
       "           shipment_date_limit  shipment_location_lat  shipment_location_long  \\\n",
       "0  2018-08-03T05:07:24.812676Z              -8.227893              111.969107   \n",
       "1  2018-08-03T01:29:03.415705Z               3.013470              107.802514   \n",
       "\n",
       "   total_amount  product_id  quantity  item_price  \n",
       "0        199832       54728         1      191247  \n",
       "1        155526       16193         1      145526  "
      ]
     },
     "execution_count": 2,
     "metadata": {},
     "output_type": "execute_result"
    }
   ],
   "source": [
    "# Đọc dữ liệu transaction\n",
    "df_transaction = pd.read_csv('Data/transaction_new.csv')\n",
    "df_transaction.head(2)"
   ]
  },
  {
   "cell_type": "markdown",
   "id": "e5f1176c",
   "metadata": {},
   "source": [
    "**Tiền xử lí cho customer**"
   ]
  },
  {
   "cell_type": "code",
   "execution_count": 3,
   "id": "85bacb2f",
   "metadata": {},
   "outputs": [
    {
     "data": {
      "text/html": [
       "<div>\n",
       "<style scoped>\n",
       "    .dataframe tbody tr th:only-of-type {\n",
       "        vertical-align: middle;\n",
       "    }\n",
       "\n",
       "    .dataframe tbody tr th {\n",
       "        vertical-align: top;\n",
       "    }\n",
       "\n",
       "    .dataframe thead th {\n",
       "        text-align: right;\n",
       "    }\n",
       "</style>\n",
       "<table border=\"1\" class=\"dataframe\">\n",
       "  <thead>\n",
       "    <tr style=\"text-align: right;\">\n",
       "      <th></th>\n",
       "      <th>customer_id</th>\n",
       "      <th>first_name</th>\n",
       "      <th>last_name</th>\n",
       "      <th>username</th>\n",
       "      <th>email</th>\n",
       "      <th>gender</th>\n",
       "      <th>birthdate</th>\n",
       "      <th>device_type</th>\n",
       "      <th>device_id</th>\n",
       "      <th>device_version</th>\n",
       "      <th>home_location_lat</th>\n",
       "      <th>home_location_long</th>\n",
       "      <th>home_location</th>\n",
       "      <th>home_country</th>\n",
       "      <th>first_join_date</th>\n",
       "    </tr>\n",
       "  </thead>\n",
       "  <tbody>\n",
       "    <tr>\n",
       "      <th>0</th>\n",
       "      <td>2870</td>\n",
       "      <td>Lala</td>\n",
       "      <td>Maryati</td>\n",
       "      <td>671a0865-ac4e-4dc4-9c4f-c286a1176f7e</td>\n",
       "      <td>671a0865_ac4e_4dc4_9c4f_c286a1176f7e@startupca...</td>\n",
       "      <td>F</td>\n",
       "      <td>1996-06-14</td>\n",
       "      <td>iOS</td>\n",
       "      <td>c9c0de76-0a6c-4ac2-843f-65264ab9fe63</td>\n",
       "      <td>iPhone; CPU iPhone OS 14_2_1 like Mac OS X</td>\n",
       "      <td>-1.043345</td>\n",
       "      <td>101.360523</td>\n",
       "      <td>Sumatera Barat</td>\n",
       "      <td>Indonesia</td>\n",
       "      <td>2019-07-21</td>\n",
       "    </tr>\n",
       "    <tr>\n",
       "      <th>1</th>\n",
       "      <td>8193</td>\n",
       "      <td>Maimunah</td>\n",
       "      <td>Laksmiwati</td>\n",
       "      <td>83be2ba7-8133-48a4-bbcb-b46a2762473f</td>\n",
       "      <td>83be2ba7_8133_48a4_bbcb_b46a2762473f@zakyfound...</td>\n",
       "      <td>F</td>\n",
       "      <td>1993-08-16</td>\n",
       "      <td>Android</td>\n",
       "      <td>fb331c3d-f42e-40fe-afe2-b4b73a8a6e25</td>\n",
       "      <td>Android 2.2.1</td>\n",
       "      <td>-6.212489</td>\n",
       "      <td>106.818850</td>\n",
       "      <td>Jakarta Raya</td>\n",
       "      <td>Indonesia</td>\n",
       "      <td>2017-07-16</td>\n",
       "    </tr>\n",
       "  </tbody>\n",
       "</table>\n",
       "</div>"
      ],
      "text/plain": [
       "   customer_id first_name   last_name                              username  \\\n",
       "0         2870       Lala     Maryati  671a0865-ac4e-4dc4-9c4f-c286a1176f7e   \n",
       "1         8193   Maimunah  Laksmiwati  83be2ba7-8133-48a4-bbcb-b46a2762473f   \n",
       "\n",
       "                                               email gender  birthdate  \\\n",
       "0  671a0865_ac4e_4dc4_9c4f_c286a1176f7e@startupca...      F 1996-06-14   \n",
       "1  83be2ba7_8133_48a4_bbcb_b46a2762473f@zakyfound...      F 1993-08-16   \n",
       "\n",
       "  device_type                             device_id  \\\n",
       "0         iOS  c9c0de76-0a6c-4ac2-843f-65264ab9fe63   \n",
       "1     Android  fb331c3d-f42e-40fe-afe2-b4b73a8a6e25   \n",
       "\n",
       "                               device_version  home_location_lat  \\\n",
       "0  iPhone; CPU iPhone OS 14_2_1 like Mac OS X          -1.043345   \n",
       "1                               Android 2.2.1          -6.212489   \n",
       "\n",
       "   home_location_long   home_location home_country first_join_date  \n",
       "0          101.360523  Sumatera Barat    Indonesia      2019-07-21  \n",
       "1          106.818850    Jakarta Raya    Indonesia      2017-07-16  "
      ]
     },
     "execution_count": 3,
     "metadata": {},
     "output_type": "execute_result"
    }
   ],
   "source": [
    "df_customer = pd.read_csv(\"Data/customer.csv\")\n",
    "# Chuyển dữ liệu thời gian về đúng kiểu dữ liệu\n",
    "df_customer['first_join_date'] = pd.to_datetime(df_customer['first_join_date'])\n",
    "df_customer['birthdate'] = pd.to_datetime(df_customer['birthdate'])\n",
    "\n",
    "df_customer.head(2)"
   ]
  },
  {
   "cell_type": "markdown",
   "id": "eeb1899e",
   "metadata": {},
   "source": [
    "**Tiền xử lí cho product**"
   ]
  },
  {
   "cell_type": "code",
   "execution_count": 4,
   "id": "f271902b",
   "metadata": {},
   "outputs": [
    {
     "data": {
      "text/html": [
       "<div>\n",
       "<style scoped>\n",
       "    .dataframe tbody tr th:only-of-type {\n",
       "        vertical-align: middle;\n",
       "    }\n",
       "\n",
       "    .dataframe tbody tr th {\n",
       "        vertical-align: top;\n",
       "    }\n",
       "\n",
       "    .dataframe thead th {\n",
       "        text-align: right;\n",
       "    }\n",
       "</style>\n",
       "<table border=\"1\" class=\"dataframe\">\n",
       "  <thead>\n",
       "    <tr style=\"text-align: right;\">\n",
       "      <th></th>\n",
       "      <th>product_id</th>\n",
       "      <th>gender</th>\n",
       "      <th>masterCategory</th>\n",
       "      <th>subCategory</th>\n",
       "      <th>articleType</th>\n",
       "      <th>baseColour</th>\n",
       "      <th>season</th>\n",
       "      <th>year</th>\n",
       "      <th>usage</th>\n",
       "      <th>productDisplayName</th>\n",
       "    </tr>\n",
       "  </thead>\n",
       "  <tbody>\n",
       "    <tr>\n",
       "      <th>0</th>\n",
       "      <td>15970</td>\n",
       "      <td>Men</td>\n",
       "      <td>Apparel</td>\n",
       "      <td>Topwear</td>\n",
       "      <td>Shirts</td>\n",
       "      <td>Navy Blue</td>\n",
       "      <td>Fall</td>\n",
       "      <td>2011.0</td>\n",
       "      <td>Casual</td>\n",
       "      <td>Turtle Check Men Navy Blue Shirt</td>\n",
       "    </tr>\n",
       "    <tr>\n",
       "      <th>1</th>\n",
       "      <td>39386</td>\n",
       "      <td>Men</td>\n",
       "      <td>Apparel</td>\n",
       "      <td>Bottomwear</td>\n",
       "      <td>Jeans</td>\n",
       "      <td>Blue</td>\n",
       "      <td>Summer</td>\n",
       "      <td>2012.0</td>\n",
       "      <td>Casual</td>\n",
       "      <td>Peter England Men Party Blue Jeans</td>\n",
       "    </tr>\n",
       "  </tbody>\n",
       "</table>\n",
       "</div>"
      ],
      "text/plain": [
       "   product_id gender masterCategory subCategory articleType baseColour  \\\n",
       "0       15970    Men        Apparel     Topwear      Shirts  Navy Blue   \n",
       "1       39386    Men        Apparel  Bottomwear       Jeans       Blue   \n",
       "\n",
       "   season    year   usage                  productDisplayName  \n",
       "0    Fall  2011.0  Casual    Turtle Check Men Navy Blue Shirt  \n",
       "1  Summer  2012.0  Casual  Peter England Men Party Blue Jeans  "
      ]
     },
     "execution_count": 4,
     "metadata": {},
     "output_type": "execute_result"
    }
   ],
   "source": [
    "df_product = pd.read_csv(\"Data/product.csv\")\n",
    "# rename: Đổi tên cột\n",
    "df_product = df_product.rename(columns = {'id' : 'product_id'})\n",
    "df_product.head(2)"
   ]
  },
  {
   "cell_type": "markdown",
   "id": "952f6569",
   "metadata": {},
   "source": [
    "## **_03. Analyzing Data to Answer each Question:_**"
   ]
  },
  {
   "cell_type": "markdown",
   "id": "59067c85",
   "metadata": {},
   "source": [
    "### **_03.1. Question number 1: `What is the distribution of customer on avarage spending money and most favourite item by demographics?_**"
   ]
  },
  {
   "cell_type": "markdown",
   "id": "ed4fb688",
   "metadata": {},
   "source": [
    "#### **_03.1.1. Pre-process Data:_**"
   ]
  },
  {
   "cell_type": "markdown",
   "id": "1ba3b87d",
   "metadata": {},
   "source": [
    "  - Phân bố khách hàng theo độ tuổi và giới tính.\n",
    "  - Số tiền mua trung bình theo nhóm tuổi hoặc giới tính.\n",
    "  - Các loại sản phẩm phổ biến nhất ở các nhóm tuổi hoặc giới tính khác nhau."
   ]
  },
  {
   "cell_type": "markdown",
   "id": "37a5b101",
   "metadata": {},
   "source": [
    "**Tạo cột mới**\n",
    "\n",
    "Tạo cột `Age` cho df_customer: Hiện tại chúng ta đã có cột `birthdate` tức ngày sinh của khách hàng, vì vậy chúng ta sẽ tính tuổi bằng cách lấy thời điểm hiện tại trừ cho ngày sinh của khách hàng."
   ]
  },
  {
   "cell_type": "code",
   "execution_count": null,
   "id": "f3a63c32",
   "metadata": {},
   "outputs": [],
   "source": [
    "from datetime import datetime\n",
    "\n",
    "df_customer['Age'] = ((datetime.now() - df_customer['birthdate']).dt.days / 365.25).round().astype(np.int64)"
   ]
  },
  {
   "cell_type": "markdown",
   "id": "e59cd862",
   "metadata": {},
   "source": [
    "**Biểu đồ phân bố khách hàng theo độ tuổi và giới tính.**"
   ]
  },
  {
   "cell_type": "code",
   "execution_count": null,
   "id": "19451c1b",
   "metadata": {},
   "outputs": [
    {
     "data": {
      "image/png": "[encoded data removed]",
      "text/plain": [
       "<Figure size 1500x600 with 2 Axes>"
      ]
     },
     "metadata": {},
     "output_type": "display_data"
    }
   ],
   "source": [
    "# Set a visually pleasing style\n",
    "sns.set(style=\"whitegrid\")\n",
    "\n",
    "# Create subplots\n",
    "fig, axes = plt.subplots(1, 2, figsize=(15, 6))\n",
    "\n",
    "# Plot for Gender F\n",
    "sns.histplot(data=df_customer[df_customer['gender'] == 'F'], x=\"Age\", color='navy', kde=True, ax=axes[0], bins=30)\n",
    "axes[0].set(title='Age Distribution for Females', xlabel='Age', ylabel='Frequency')\n",
    "axes[0].grid(axis='y', linestyle='--', alpha=0.7)\n",
    "\n",
    "# Plot for Gender M\n",
    "sns.histplot(data=df_customer[df_customer['gender'] == 'M'], x=\"Age\", color='navy', kde=True, ax=axes[1], bins=30)\n",
    "axes[1].set(title='Age Distribution for Males', xlabel='Age', ylabel='Frequency')\n",
    "axes[1].grid(axis='y', linestyle='--', alpha=0.7)\n",
    "\n",
    "# Customize background color\n",
    "fig.set_facecolor('#f0f0f0')\n",
    "axes[0].set_facecolor('#f0f0f0')\n",
    "axes[1].set_facecolor('#f0f0f0')\n",
    "\n",
    "# Adjust layout\n",
    "plt.tight_layout()\n",
    "\n",
    "# Add a title for the entire figure\n",
    "plt.suptitle('Age Distribution by Gender', fontsize=18, y=1.02, color='#333333')\n",
    "\n",
    "# Remove spines\n",
    "sns.despine()\n",
    "\n",
    "# Add a subtle gray border to the plots\n",
    "for ax in axes:\n",
    "    ax.spines['top'].set_color('#dddddd')\n",
    "    ax.spines['right'].set_color('#dddddd')\n",
    "    ax.spines['bottom'].set_color('#dddddd')\n",
    "    ax.spines['left'].set_color('#dddddd')\n",
    "\n",
    "# Customize tick parameters\n",
    "for ax in axes:\n",
    "    ax.tick_params(axis='both', which='both', length=0)\n",
    "\n",
    "# Show the plots\n",
    "plt.show()"
   ]
  },
  {
   "cell_type": "markdown",
   "id": "094e78e0",
   "metadata": {},
   "source": [
    "- Chúng ta có thể thấy rằng qua biểu đồ histogram thì giới tính Nam và Nữ không có sự khác nhau nhiều.\n",
    "- Độ tuổi từ 20 - 35 là khoảng thời gian mua hàng nhiều nhất của cả hai giới tính\n",
    "- Cả hai biểu đồ đều có dạng phân phối chuẩn"
   ]
  },
  {
   "cell_type": "markdown",
   "id": "d6f55374",
   "metadata": {},
   "source": [
    "### **_03.2. Question number 2_**"
   ]
  },
  {
   "cell_type": "code",
   "execution_count": null,
   "id": "98a35203",
   "metadata": {},
   "outputs": [],
   "source": []
  },
  {
   "cell_type": "markdown",
   "id": "2a4d4025",
   "metadata": {},
   "source": [
    "### **_03.3. Question number 3_**"
   ]
  },
  {
   "cell_type": "code",
   "execution_count": null,
   "id": "2caf7a3d",
   "metadata": {},
   "outputs": [],
   "source": []
  },
  {
   "cell_type": "markdown",
   "id": "0aba6006",
   "metadata": {},
   "source": [
    "### **_03.4. Question number 4_**"
   ]
  },
  {
   "cell_type": "code",
   "execution_count": null,
   "id": "3bddcab1",
   "metadata": {},
   "outputs": [],
   "source": []
  },
  {
   "cell_type": "markdown",
   "id": "f9862a2e",
   "metadata": {},
   "source": [
    "## **_04. Reflection:_**"
   ]
  },
  {
   "cell_type": "markdown",
   "id": "a9bd141e",
   "metadata": {},
   "source": []
  }
 ],
 "metadata": {
  "kernelspec": {
   "display_name": "Python 3 (ipykernel)",
   "language": "python",
   "name": "python3"
  },
  "language_info": {
   "codemirror_mode": {
    "name": "ipython",
    "version": 3
   },
   "file_extension": ".py",
   "mimetype": "text/x-python",
   "name": "python",
   "nbconvert_exporter": "python",
   "pygments_lexer": "ipython3",
   "version": "3.11.5"
  }
 },
 "nbformat": 4,
 "nbformat_minor": 5
}
